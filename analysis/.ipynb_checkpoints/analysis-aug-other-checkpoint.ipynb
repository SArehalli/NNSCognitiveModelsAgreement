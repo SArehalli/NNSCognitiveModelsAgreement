{
 "cells": [
  {
   "cell_type": "code",
   "execution_count": 1,
   "metadata": {
    "scrolled": false
   },
   "outputs": [
    {
     "name": "stderr",
     "output_type": "stream",
     "text": [
      "\n",
      "Attaching package: 'dplyr'\n",
      "\n",
      "\n",
      "The following objects are masked from 'package:stats':\n",
      "\n",
      "    filter, lag\n",
      "\n",
      "\n",
      "The following objects are masked from 'package:base':\n",
      "\n",
      "    intersect, setdiff, setequal, union\n",
      "\n",
      "\n",
      "Loading required package: Matrix\n",
      "\n",
      "\n",
      "Attaching package: 'lmerTest'\n",
      "\n",
      "\n",
      "The following object is masked from 'package:lme4':\n",
      "\n",
      "    lmer\n",
      "\n",
      "\n",
      "The following object is masked from 'package:stats':\n",
      "\n",
      "    step\n",
      "\n",
      "\n",
      "\n",
      "********************************************************\n",
      "\n",
      "Note: As of version 1.0.0, cowplot does not change the\n",
      "\n",
      "  default ggplot2 theme anymore. To recover the previous\n",
      "\n",
      "  behavior, execute:\n",
      "  theme_set(theme_cowplot())\n",
      "\n",
      "********************************************************\n",
      "\n",
      "\n"
     ]
    }
   ],
   "source": [
    "library(ggplot2)\n",
    "library(dplyr)\n",
    "library(lme4)\n",
    "library(lmerTest)\n",
    "library(xtable)\n",
    "library(glmmTMB)\n",
    "library(cowplot)\n",
    "library(grid)\n",
    "\n",
    "pallete = c(\"#318480\", \"#b4464f\")"
   ]
  },
  {
   "cell_type": "markdown",
   "metadata": {},
   "source": [
    "# Bock 1992"
   ]
  },
  {
   "cell_type": "code",
   "execution_count": 2,
   "metadata": {},
   "outputs": [
    {
     "data": {
      "text/html": [
       "<table>\n",
       "<caption>A data.frame: 2560 x 10</caption>\n",
       "<thead>\n",
       "\t<tr><th scope=col>X</th><th scope=col>item</th><th scope=col>subj</th><th scope=col>attr</th><th scope=col>clause</th><th scope=col>model</th><th scope=col>max</th><th scope=col>sample</th><th scope=col>type</th><th scope=col>match</th></tr>\n",
       "\t<tr><th scope=col>&lt;int&gt;</th><th scope=col>&lt;int&gt;</th><th scope=col>&lt;fct&gt;</th><th scope=col>&lt;chr&gt;</th><th scope=col>&lt;chr&gt;</th><th scope=col>&lt;chr&gt;</th><th scope=col>&lt;dbl&gt;</th><th scope=col>&lt;dbl&gt;</th><th scope=col>&lt;chr&gt;</th><th scope=col>&lt;lgl&gt;</th></tr>\n",
       "</thead>\n",
       "<tbody>\n",
       "\t<tr><td> 0</td><td>0</td><td>s</td><td>s</td><td>prop</td><td>lstmlmaug0  </td><td>  0</td><td>14.764337</td><td>l</td><td> TRUE</td></tr>\n",
       "\t<tr><td> 1</td><td>0</td><td>s</td><td>s</td><td>prop</td><td>lstmlmaug1  </td><td>  0</td><td> 6.678849</td><td>l</td><td> TRUE</td></tr>\n",
       "\t<tr><td> 2</td><td>0</td><td>s</td><td>s</td><td>prop</td><td>lstmlmaug2  </td><td>  0</td><td>13.072727</td><td>l</td><td> TRUE</td></tr>\n",
       "\t<tr><td> 3</td><td>0</td><td>s</td><td>s</td><td>prop</td><td>lstmlmaug3  </td><td>  0</td><td>22.143584</td><td>l</td><td> TRUE</td></tr>\n",
       "\t<tr><td> 4</td><td>0</td><td>s</td><td>s</td><td>prop</td><td>lstmlmaug4  </td><td>  0</td><td>10.297817</td><td>l</td><td> TRUE</td></tr>\n",
       "\t<tr><td> 5</td><td>0</td><td>s</td><td>s</td><td>prop</td><td>lstmaugment0</td><td>  0</td><td>30.728666</td><td>a</td><td> TRUE</td></tr>\n",
       "\t<tr><td> 6</td><td>0</td><td>s</td><td>s</td><td>prop</td><td>lstmaugment1</td><td>  0</td><td>26.145189</td><td>a</td><td> TRUE</td></tr>\n",
       "\t<tr><td> 7</td><td>0</td><td>s</td><td>s</td><td>prop</td><td>lstmaugment2</td><td>  0</td><td>20.759709</td><td>a</td><td> TRUE</td></tr>\n",
       "\t<tr><td> 8</td><td>0</td><td>s</td><td>s</td><td>prop</td><td>lstmaugment3</td><td>  0</td><td>19.121600</td><td>a</td><td> TRUE</td></tr>\n",
       "\t<tr><td> 9</td><td>0</td><td>s</td><td>s</td><td>prop</td><td>lstmaugment4</td><td>  0</td><td>20.309245</td><td>a</td><td> TRUE</td></tr>\n",
       "\t<tr><td>10</td><td>0</td><td>s</td><td>s</td><td>rc  </td><td>lstmlmaug0  </td><td>  0</td><td> 7.390585</td><td>l</td><td> TRUE</td></tr>\n",
       "\t<tr><td>11</td><td>0</td><td>s</td><td>s</td><td>rc  </td><td>lstmlmaug1  </td><td>  0</td><td> 8.387067</td><td>l</td><td> TRUE</td></tr>\n",
       "\t<tr><td>12</td><td>0</td><td>s</td><td>s</td><td>rc  </td><td>lstmlmaug2  </td><td>  0</td><td>14.284103</td><td>l</td><td> TRUE</td></tr>\n",
       "\t<tr><td>13</td><td>0</td><td>s</td><td>s</td><td>rc  </td><td>lstmlmaug3  </td><td>  0</td><td>22.867973</td><td>l</td><td> TRUE</td></tr>\n",
       "\t<tr><td>14</td><td>0</td><td>s</td><td>s</td><td>rc  </td><td>lstmlmaug4  </td><td>  0</td><td>12.442392</td><td>l</td><td> TRUE</td></tr>\n",
       "\t<tr><td>15</td><td>0</td><td>s</td><td>s</td><td>rc  </td><td>lstmaugment0</td><td>  0</td><td>18.135048</td><td>a</td><td> TRUE</td></tr>\n",
       "\t<tr><td>16</td><td>0</td><td>s</td><td>s</td><td>rc  </td><td>lstmaugment1</td><td>  0</td><td>32.345397</td><td>a</td><td> TRUE</td></tr>\n",
       "\t<tr><td>17</td><td>0</td><td>s</td><td>s</td><td>rc  </td><td>lstmaugment2</td><td>  0</td><td>23.185159</td><td>a</td><td> TRUE</td></tr>\n",
       "\t<tr><td>18</td><td>0</td><td>s</td><td>s</td><td>rc  </td><td>lstmaugment3</td><td>  0</td><td>16.857921</td><td>a</td><td> TRUE</td></tr>\n",
       "\t<tr><td>19</td><td>0</td><td>s</td><td>s</td><td>rc  </td><td>lstmaugment4</td><td>  0</td><td>20.929602</td><td>a</td><td> TRUE</td></tr>\n",
       "\t<tr><td>20</td><td>0</td><td>s</td><td>p</td><td>prop</td><td>lstmlmaug0  </td><td>100</td><td>63.427281</td><td>l</td><td>FALSE</td></tr>\n",
       "\t<tr><td>21</td><td>0</td><td>s</td><td>p</td><td>prop</td><td>lstmlmaug1  </td><td>  0</td><td>38.346497</td><td>l</td><td>FALSE</td></tr>\n",
       "\t<tr><td>22</td><td>0</td><td>s</td><td>p</td><td>prop</td><td>lstmlmaug2  </td><td>100</td><td>75.803016</td><td>l</td><td>FALSE</td></tr>\n",
       "\t<tr><td>23</td><td>0</td><td>s</td><td>p</td><td>prop</td><td>lstmlmaug3  </td><td>100</td><td>51.471547</td><td>l</td><td>FALSE</td></tr>\n",
       "\t<tr><td>24</td><td>0</td><td>s</td><td>p</td><td>prop</td><td>lstmlmaug4  </td><td>  0</td><td>49.889326</td><td>l</td><td>FALSE</td></tr>\n",
       "\t<tr><td>25</td><td>0</td><td>s</td><td>p</td><td>prop</td><td>lstmaugment0</td><td>100</td><td>78.692360</td><td>a</td><td>FALSE</td></tr>\n",
       "\t<tr><td>26</td><td>0</td><td>s</td><td>p</td><td>prop</td><td>lstmaugment1</td><td>100</td><td>53.543625</td><td>a</td><td>FALSE</td></tr>\n",
       "\t<tr><td>27</td><td>0</td><td>s</td><td>p</td><td>prop</td><td>lstmaugment2</td><td>100</td><td>68.816019</td><td>a</td><td>FALSE</td></tr>\n",
       "\t<tr><td>28</td><td>0</td><td>s</td><td>p</td><td>prop</td><td>lstmaugment3</td><td>100</td><td>57.379316</td><td>a</td><td>FALSE</td></tr>\n",
       "\t<tr><td>29</td><td>0</td><td>s</td><td>p</td><td>prop</td><td>lstmaugment4</td><td>100</td><td>59.025665</td><td>a</td><td>FALSE</td></tr>\n",
       "\t<tr><td>...</td><td>...</td><td>...</td><td>...</td><td>...</td><td>...</td><td>...</td><td>...</td><td>...</td><td>...</td></tr>\n",
       "\t<tr><td>2530</td><td>31</td><td>p</td><td>s</td><td>rc  </td><td>lstmlmaug0  </td><td>  0</td><td>25.079217</td><td>l</td><td>FALSE</td></tr>\n",
       "\t<tr><td>2531</td><td>31</td><td>p</td><td>s</td><td>rc  </td><td>lstmlmaug1  </td><td>  0</td><td>11.816992</td><td>l</td><td>FALSE</td></tr>\n",
       "\t<tr><td>2532</td><td>31</td><td>p</td><td>s</td><td>rc  </td><td>lstmlmaug2  </td><td>  0</td><td>26.148412</td><td>l</td><td>FALSE</td></tr>\n",
       "\t<tr><td>2533</td><td>31</td><td>p</td><td>s</td><td>rc  </td><td>lstmlmaug3  </td><td>  0</td><td>39.690018</td><td>l</td><td>FALSE</td></tr>\n",
       "\t<tr><td>2534</td><td>31</td><td>p</td><td>s</td><td>rc  </td><td>lstmlmaug4  </td><td>  0</td><td>29.101845</td><td>l</td><td>FALSE</td></tr>\n",
       "\t<tr><td>2535</td><td>31</td><td>p</td><td>s</td><td>rc  </td><td>lstmaugment0</td><td>100</td><td>71.038664</td><td>a</td><td>FALSE</td></tr>\n",
       "\t<tr><td>2536</td><td>31</td><td>p</td><td>s</td><td>rc  </td><td>lstmaugment1</td><td>100</td><td>74.149939</td><td>a</td><td>FALSE</td></tr>\n",
       "\t<tr><td>2537</td><td>31</td><td>p</td><td>s</td><td>rc  </td><td>lstmaugment2</td><td>  0</td><td>44.580331</td><td>a</td><td>FALSE</td></tr>\n",
       "\t<tr><td>2538</td><td>31</td><td>p</td><td>s</td><td>rc  </td><td>lstmaugment3</td><td>100</td><td>51.475680</td><td>a</td><td>FALSE</td></tr>\n",
       "\t<tr><td>2539</td><td>31</td><td>p</td><td>s</td><td>rc  </td><td>lstmaugment4</td><td>100</td><td>55.804618</td><td>a</td><td>FALSE</td></tr>\n",
       "\t<tr><td>2540</td><td>31</td><td>p</td><td>p</td><td>prop</td><td>lstmlmaug0  </td><td>  0</td><td> 8.627557</td><td>l</td><td> TRUE</td></tr>\n",
       "\t<tr><td>2541</td><td>31</td><td>p</td><td>p</td><td>prop</td><td>lstmlmaug1  </td><td>  0</td><td> 5.519379</td><td>l</td><td> TRUE</td></tr>\n",
       "\t<tr><td>2542</td><td>31</td><td>p</td><td>p</td><td>prop</td><td>lstmlmaug2  </td><td>  0</td><td> 2.919724</td><td>l</td><td> TRUE</td></tr>\n",
       "\t<tr><td>2543</td><td>31</td><td>p</td><td>p</td><td>prop</td><td>lstmlmaug3  </td><td>  0</td><td>18.013934</td><td>l</td><td> TRUE</td></tr>\n",
       "\t<tr><td>2544</td><td>31</td><td>p</td><td>p</td><td>prop</td><td>lstmlmaug4  </td><td>  0</td><td> 5.786832</td><td>l</td><td> TRUE</td></tr>\n",
       "\t<tr><td>2545</td><td>31</td><td>p</td><td>p</td><td>prop</td><td>lstmaugment0</td><td>  0</td><td> 7.893400</td><td>a</td><td> TRUE</td></tr>\n",
       "\t<tr><td>2546</td><td>31</td><td>p</td><td>p</td><td>prop</td><td>lstmaugment1</td><td>  0</td><td>20.818962</td><td>a</td><td> TRUE</td></tr>\n",
       "\t<tr><td>2547</td><td>31</td><td>p</td><td>p</td><td>prop</td><td>lstmaugment2</td><td>  0</td><td> 6.880171</td><td>a</td><td> TRUE</td></tr>\n",
       "\t<tr><td>2548</td><td>31</td><td>p</td><td>p</td><td>prop</td><td>lstmaugment3</td><td>  0</td><td>15.952711</td><td>a</td><td> TRUE</td></tr>\n",
       "\t<tr><td>2549</td><td>31</td><td>p</td><td>p</td><td>prop</td><td>lstmaugment4</td><td>  0</td><td>22.071261</td><td>a</td><td> TRUE</td></tr>\n",
       "\t<tr><td>2550</td><td>31</td><td>p</td><td>p</td><td>rc  </td><td>lstmlmaug0  </td><td>  0</td><td> 8.730938</td><td>l</td><td> TRUE</td></tr>\n",
       "\t<tr><td>2551</td><td>31</td><td>p</td><td>p</td><td>rc  </td><td>lstmlmaug1  </td><td>  0</td><td> 2.117874</td><td>l</td><td> TRUE</td></tr>\n",
       "\t<tr><td>2552</td><td>31</td><td>p</td><td>p</td><td>rc  </td><td>lstmlmaug2  </td><td>  0</td><td> 6.989158</td><td>l</td><td> TRUE</td></tr>\n",
       "\t<tr><td>2553</td><td>31</td><td>p</td><td>p</td><td>rc  </td><td>lstmlmaug3  </td><td>  0</td><td>24.391688</td><td>l</td><td> TRUE</td></tr>\n",
       "\t<tr><td>2554</td><td>31</td><td>p</td><td>p</td><td>rc  </td><td>lstmlmaug4  </td><td>  0</td><td> 4.354304</td><td>l</td><td> TRUE</td></tr>\n",
       "\t<tr><td>2555</td><td>31</td><td>p</td><td>p</td><td>rc  </td><td>lstmaugment0</td><td>  0</td><td>36.382544</td><td>a</td><td> TRUE</td></tr>\n",
       "\t<tr><td>2556</td><td>31</td><td>p</td><td>p</td><td>rc  </td><td>lstmaugment1</td><td>  0</td><td>38.095325</td><td>a</td><td> TRUE</td></tr>\n",
       "\t<tr><td>2557</td><td>31</td><td>p</td><td>p</td><td>rc  </td><td>lstmaugment2</td><td>  0</td><td>15.705086</td><td>a</td><td> TRUE</td></tr>\n",
       "\t<tr><td>2558</td><td>31</td><td>p</td><td>p</td><td>rc  </td><td>lstmaugment3</td><td>  0</td><td>23.622739</td><td>a</td><td> TRUE</td></tr>\n",
       "\t<tr><td>2559</td><td>31</td><td>p</td><td>p</td><td>rc  </td><td>lstmaugment4</td><td>  0</td><td>42.553809</td><td>a</td><td> TRUE</td></tr>\n",
       "</tbody>\n",
       "</table>\n"
      ],
      "text/latex": [
       "A data.frame: 2560 x 10\n",
       "\\begin{tabular}{llllllllll}\n",
       " X & item & subj & attr & clause & model & max & sample & type & match\\\\\n",
       " <int> & <int> & <fct> & <chr> & <chr> & <chr> & <dbl> & <dbl> & <chr> & <lgl>\\\\\n",
       "\\hline\n",
       "\t  0 & 0 & s & s & prop & lstmlmaug0   &   0 & 14.764337 & l &  TRUE\\\\\n",
       "\t  1 & 0 & s & s & prop & lstmlmaug1   &   0 &  6.678849 & l &  TRUE\\\\\n",
       "\t  2 & 0 & s & s & prop & lstmlmaug2   &   0 & 13.072727 & l &  TRUE\\\\\n",
       "\t  3 & 0 & s & s & prop & lstmlmaug3   &   0 & 22.143584 & l &  TRUE\\\\\n",
       "\t  4 & 0 & s & s & prop & lstmlmaug4   &   0 & 10.297817 & l &  TRUE\\\\\n",
       "\t  5 & 0 & s & s & prop & lstmaugment0 &   0 & 30.728666 & a &  TRUE\\\\\n",
       "\t  6 & 0 & s & s & prop & lstmaugment1 &   0 & 26.145189 & a &  TRUE\\\\\n",
       "\t  7 & 0 & s & s & prop & lstmaugment2 &   0 & 20.759709 & a &  TRUE\\\\\n",
       "\t  8 & 0 & s & s & prop & lstmaugment3 &   0 & 19.121600 & a &  TRUE\\\\\n",
       "\t  9 & 0 & s & s & prop & lstmaugment4 &   0 & 20.309245 & a &  TRUE\\\\\n",
       "\t 10 & 0 & s & s & rc   & lstmlmaug0   &   0 &  7.390585 & l &  TRUE\\\\\n",
       "\t 11 & 0 & s & s & rc   & lstmlmaug1   &   0 &  8.387067 & l &  TRUE\\\\\n",
       "\t 12 & 0 & s & s & rc   & lstmlmaug2   &   0 & 14.284103 & l &  TRUE\\\\\n",
       "\t 13 & 0 & s & s & rc   & lstmlmaug3   &   0 & 22.867973 & l &  TRUE\\\\\n",
       "\t 14 & 0 & s & s & rc   & lstmlmaug4   &   0 & 12.442392 & l &  TRUE\\\\\n",
       "\t 15 & 0 & s & s & rc   & lstmaugment0 &   0 & 18.135048 & a &  TRUE\\\\\n",
       "\t 16 & 0 & s & s & rc   & lstmaugment1 &   0 & 32.345397 & a &  TRUE\\\\\n",
       "\t 17 & 0 & s & s & rc   & lstmaugment2 &   0 & 23.185159 & a &  TRUE\\\\\n",
       "\t 18 & 0 & s & s & rc   & lstmaugment3 &   0 & 16.857921 & a &  TRUE\\\\\n",
       "\t 19 & 0 & s & s & rc   & lstmaugment4 &   0 & 20.929602 & a &  TRUE\\\\\n",
       "\t 20 & 0 & s & p & prop & lstmlmaug0   & 100 & 63.427281 & l & FALSE\\\\\n",
       "\t 21 & 0 & s & p & prop & lstmlmaug1   &   0 & 38.346497 & l & FALSE\\\\\n",
       "\t 22 & 0 & s & p & prop & lstmlmaug2   & 100 & 75.803016 & l & FALSE\\\\\n",
       "\t 23 & 0 & s & p & prop & lstmlmaug3   & 100 & 51.471547 & l & FALSE\\\\\n",
       "\t 24 & 0 & s & p & prop & lstmlmaug4   &   0 & 49.889326 & l & FALSE\\\\\n",
       "\t 25 & 0 & s & p & prop & lstmaugment0 & 100 & 78.692360 & a & FALSE\\\\\n",
       "\t 26 & 0 & s & p & prop & lstmaugment1 & 100 & 53.543625 & a & FALSE\\\\\n",
       "\t 27 & 0 & s & p & prop & lstmaugment2 & 100 & 68.816019 & a & FALSE\\\\\n",
       "\t 28 & 0 & s & p & prop & lstmaugment3 & 100 & 57.379316 & a & FALSE\\\\\n",
       "\t 29 & 0 & s & p & prop & lstmaugment4 & 100 & 59.025665 & a & FALSE\\\\\n",
       "\t ... & ... & ... & ... & ... & ... & ... & ... & ... & ...\\\\\n",
       "\t 2530 & 31 & p & s & rc   & lstmlmaug0   &   0 & 25.079217 & l & FALSE\\\\\n",
       "\t 2531 & 31 & p & s & rc   & lstmlmaug1   &   0 & 11.816992 & l & FALSE\\\\\n",
       "\t 2532 & 31 & p & s & rc   & lstmlmaug2   &   0 & 26.148412 & l & FALSE\\\\\n",
       "\t 2533 & 31 & p & s & rc   & lstmlmaug3   &   0 & 39.690018 & l & FALSE\\\\\n",
       "\t 2534 & 31 & p & s & rc   & lstmlmaug4   &   0 & 29.101845 & l & FALSE\\\\\n",
       "\t 2535 & 31 & p & s & rc   & lstmaugment0 & 100 & 71.038664 & a & FALSE\\\\\n",
       "\t 2536 & 31 & p & s & rc   & lstmaugment1 & 100 & 74.149939 & a & FALSE\\\\\n",
       "\t 2537 & 31 & p & s & rc   & lstmaugment2 &   0 & 44.580331 & a & FALSE\\\\\n",
       "\t 2538 & 31 & p & s & rc   & lstmaugment3 & 100 & 51.475680 & a & FALSE\\\\\n",
       "\t 2539 & 31 & p & s & rc   & lstmaugment4 & 100 & 55.804618 & a & FALSE\\\\\n",
       "\t 2540 & 31 & p & p & prop & lstmlmaug0   &   0 &  8.627557 & l &  TRUE\\\\\n",
       "\t 2541 & 31 & p & p & prop & lstmlmaug1   &   0 &  5.519379 & l &  TRUE\\\\\n",
       "\t 2542 & 31 & p & p & prop & lstmlmaug2   &   0 &  2.919724 & l &  TRUE\\\\\n",
       "\t 2543 & 31 & p & p & prop & lstmlmaug3   &   0 & 18.013934 & l &  TRUE\\\\\n",
       "\t 2544 & 31 & p & p & prop & lstmlmaug4   &   0 &  5.786832 & l &  TRUE\\\\\n",
       "\t 2545 & 31 & p & p & prop & lstmaugment0 &   0 &  7.893400 & a &  TRUE\\\\\n",
       "\t 2546 & 31 & p & p & prop & lstmaugment1 &   0 & 20.818962 & a &  TRUE\\\\\n",
       "\t 2547 & 31 & p & p & prop & lstmaugment2 &   0 &  6.880171 & a &  TRUE\\\\\n",
       "\t 2548 & 31 & p & p & prop & lstmaugment3 &   0 & 15.952711 & a &  TRUE\\\\\n",
       "\t 2549 & 31 & p & p & prop & lstmaugment4 &   0 & 22.071261 & a &  TRUE\\\\\n",
       "\t 2550 & 31 & p & p & rc   & lstmlmaug0   &   0 &  8.730938 & l &  TRUE\\\\\n",
       "\t 2551 & 31 & p & p & rc   & lstmlmaug1   &   0 &  2.117874 & l &  TRUE\\\\\n",
       "\t 2552 & 31 & p & p & rc   & lstmlmaug2   &   0 &  6.989158 & l &  TRUE\\\\\n",
       "\t 2553 & 31 & p & p & rc   & lstmlmaug3   &   0 & 24.391688 & l &  TRUE\\\\\n",
       "\t 2554 & 31 & p & p & rc   & lstmlmaug4   &   0 &  4.354304 & l &  TRUE\\\\\n",
       "\t 2555 & 31 & p & p & rc   & lstmaugment0 &   0 & 36.382544 & a &  TRUE\\\\\n",
       "\t 2556 & 31 & p & p & rc   & lstmaugment1 &   0 & 38.095325 & a &  TRUE\\\\\n",
       "\t 2557 & 31 & p & p & rc   & lstmaugment2 &   0 & 15.705086 & a &  TRUE\\\\\n",
       "\t 2558 & 31 & p & p & rc   & lstmaugment3 &   0 & 23.622739 & a &  TRUE\\\\\n",
       "\t 2559 & 31 & p & p & rc   & lstmaugment4 &   0 & 42.553809 & a &  TRUE\\\\\n",
       "\\end{tabular}\n"
      ],
      "text/markdown": [
       "\n",
       "A data.frame: 2560 x 10\n",
       "\n",
       "| X &lt;int&gt; | item &lt;int&gt; | subj &lt;fct&gt; | attr &lt;chr&gt; | clause &lt;chr&gt; | model &lt;chr&gt; | max &lt;dbl&gt; | sample &lt;dbl&gt; | type &lt;chr&gt; | match &lt;lgl&gt; |\n",
       "|---|---|---|---|---|---|---|---|---|---|\n",
       "|  0 | 0 | s | s | prop | lstmlmaug0   |   0 | 14.764337 | l |  TRUE |\n",
       "|  1 | 0 | s | s | prop | lstmlmaug1   |   0 |  6.678849 | l |  TRUE |\n",
       "|  2 | 0 | s | s | prop | lstmlmaug2   |   0 | 13.072727 | l |  TRUE |\n",
       "|  3 | 0 | s | s | prop | lstmlmaug3   |   0 | 22.143584 | l |  TRUE |\n",
       "|  4 | 0 | s | s | prop | lstmlmaug4   |   0 | 10.297817 | l |  TRUE |\n",
       "|  5 | 0 | s | s | prop | lstmaugment0 |   0 | 30.728666 | a |  TRUE |\n",
       "|  6 | 0 | s | s | prop | lstmaugment1 |   0 | 26.145189 | a |  TRUE |\n",
       "|  7 | 0 | s | s | prop | lstmaugment2 |   0 | 20.759709 | a |  TRUE |\n",
       "|  8 | 0 | s | s | prop | lstmaugment3 |   0 | 19.121600 | a |  TRUE |\n",
       "|  9 | 0 | s | s | prop | lstmaugment4 |   0 | 20.309245 | a |  TRUE |\n",
       "| 10 | 0 | s | s | rc   | lstmlmaug0   |   0 |  7.390585 | l |  TRUE |\n",
       "| 11 | 0 | s | s | rc   | lstmlmaug1   |   0 |  8.387067 | l |  TRUE |\n",
       "| 12 | 0 | s | s | rc   | lstmlmaug2   |   0 | 14.284103 | l |  TRUE |\n",
       "| 13 | 0 | s | s | rc   | lstmlmaug3   |   0 | 22.867973 | l |  TRUE |\n",
       "| 14 | 0 | s | s | rc   | lstmlmaug4   |   0 | 12.442392 | l |  TRUE |\n",
       "| 15 | 0 | s | s | rc   | lstmaugment0 |   0 | 18.135048 | a |  TRUE |\n",
       "| 16 | 0 | s | s | rc   | lstmaugment1 |   0 | 32.345397 | a |  TRUE |\n",
       "| 17 | 0 | s | s | rc   | lstmaugment2 |   0 | 23.185159 | a |  TRUE |\n",
       "| 18 | 0 | s | s | rc   | lstmaugment3 |   0 | 16.857921 | a |  TRUE |\n",
       "| 19 | 0 | s | s | rc   | lstmaugment4 |   0 | 20.929602 | a |  TRUE |\n",
       "| 20 | 0 | s | p | prop | lstmlmaug0   | 100 | 63.427281 | l | FALSE |\n",
       "| 21 | 0 | s | p | prop | lstmlmaug1   |   0 | 38.346497 | l | FALSE |\n",
       "| 22 | 0 | s | p | prop | lstmlmaug2   | 100 | 75.803016 | l | FALSE |\n",
       "| 23 | 0 | s | p | prop | lstmlmaug3   | 100 | 51.471547 | l | FALSE |\n",
       "| 24 | 0 | s | p | prop | lstmlmaug4   |   0 | 49.889326 | l | FALSE |\n",
       "| 25 | 0 | s | p | prop | lstmaugment0 | 100 | 78.692360 | a | FALSE |\n",
       "| 26 | 0 | s | p | prop | lstmaugment1 | 100 | 53.543625 | a | FALSE |\n",
       "| 27 | 0 | s | p | prop | lstmaugment2 | 100 | 68.816019 | a | FALSE |\n",
       "| 28 | 0 | s | p | prop | lstmaugment3 | 100 | 57.379316 | a | FALSE |\n",
       "| 29 | 0 | s | p | prop | lstmaugment4 | 100 | 59.025665 | a | FALSE |\n",
       "| ... | ... | ... | ... | ... | ... | ... | ... | ... | ... |\n",
       "| 2530 | 31 | p | s | rc   | lstmlmaug0   |   0 | 25.079217 | l | FALSE |\n",
       "| 2531 | 31 | p | s | rc   | lstmlmaug1   |   0 | 11.816992 | l | FALSE |\n",
       "| 2532 | 31 | p | s | rc   | lstmlmaug2   |   0 | 26.148412 | l | FALSE |\n",
       "| 2533 | 31 | p | s | rc   | lstmlmaug3   |   0 | 39.690018 | l | FALSE |\n",
       "| 2534 | 31 | p | s | rc   | lstmlmaug4   |   0 | 29.101845 | l | FALSE |\n",
       "| 2535 | 31 | p | s | rc   | lstmaugment0 | 100 | 71.038664 | a | FALSE |\n",
       "| 2536 | 31 | p | s | rc   | lstmaugment1 | 100 | 74.149939 | a | FALSE |\n",
       "| 2537 | 31 | p | s | rc   | lstmaugment2 |   0 | 44.580331 | a | FALSE |\n",
       "| 2538 | 31 | p | s | rc   | lstmaugment3 | 100 | 51.475680 | a | FALSE |\n",
       "| 2539 | 31 | p | s | rc   | lstmaugment4 | 100 | 55.804618 | a | FALSE |\n",
       "| 2540 | 31 | p | p | prop | lstmlmaug0   |   0 |  8.627557 | l |  TRUE |\n",
       "| 2541 | 31 | p | p | prop | lstmlmaug1   |   0 |  5.519379 | l |  TRUE |\n",
       "| 2542 | 31 | p | p | prop | lstmlmaug2   |   0 |  2.919724 | l |  TRUE |\n",
       "| 2543 | 31 | p | p | prop | lstmlmaug3   |   0 | 18.013934 | l |  TRUE |\n",
       "| 2544 | 31 | p | p | prop | lstmlmaug4   |   0 |  5.786832 | l |  TRUE |\n",
       "| 2545 | 31 | p | p | prop | lstmaugment0 |   0 |  7.893400 | a |  TRUE |\n",
       "| 2546 | 31 | p | p | prop | lstmaugment1 |   0 | 20.818962 | a |  TRUE |\n",
       "| 2547 | 31 | p | p | prop | lstmaugment2 |   0 |  6.880171 | a |  TRUE |\n",
       "| 2548 | 31 | p | p | prop | lstmaugment3 |   0 | 15.952711 | a |  TRUE |\n",
       "| 2549 | 31 | p | p | prop | lstmaugment4 |   0 | 22.071261 | a |  TRUE |\n",
       "| 2550 | 31 | p | p | rc   | lstmlmaug0   |   0 |  8.730938 | l |  TRUE |\n",
       "| 2551 | 31 | p | p | rc   | lstmlmaug1   |   0 |  2.117874 | l |  TRUE |\n",
       "| 2552 | 31 | p | p | rc   | lstmlmaug2   |   0 |  6.989158 | l |  TRUE |\n",
       "| 2553 | 31 | p | p | rc   | lstmlmaug3   |   0 | 24.391688 | l |  TRUE |\n",
       "| 2554 | 31 | p | p | rc   | lstmlmaug4   |   0 |  4.354304 | l |  TRUE |\n",
       "| 2555 | 31 | p | p | rc   | lstmaugment0 |   0 | 36.382544 | a |  TRUE |\n",
       "| 2556 | 31 | p | p | rc   | lstmaugment1 |   0 | 38.095325 | a |  TRUE |\n",
       "| 2557 | 31 | p | p | rc   | lstmaugment2 |   0 | 15.705086 | a |  TRUE |\n",
       "| 2558 | 31 | p | p | rc   | lstmaugment3 |   0 | 23.622739 | a |  TRUE |\n",
       "| 2559 | 31 | p | p | rc   | lstmaugment4 |   0 | 42.553809 | a |  TRUE |\n",
       "\n"
      ],
      "text/plain": [
       "     X    item subj attr clause model        max sample    type match\n",
       "1     0   0    s    s    prop   lstmlmaug0     0 14.764337 l     TRUE\n",
       "2     1   0    s    s    prop   lstmlmaug1     0  6.678849 l     TRUE\n",
       "3     2   0    s    s    prop   lstmlmaug2     0 13.072727 l     TRUE\n",
       "4     3   0    s    s    prop   lstmlmaug3     0 22.143584 l     TRUE\n",
       "5     4   0    s    s    prop   lstmlmaug4     0 10.297817 l     TRUE\n",
       "6     5   0    s    s    prop   lstmaugment0   0 30.728666 a     TRUE\n",
       "7     6   0    s    s    prop   lstmaugment1   0 26.145189 a     TRUE\n",
       "8     7   0    s    s    prop   lstmaugment2   0 20.759709 a     TRUE\n",
       "9     8   0    s    s    prop   lstmaugment3   0 19.121600 a     TRUE\n",
       "10    9   0    s    s    prop   lstmaugment4   0 20.309245 a     TRUE\n",
       "11   10   0    s    s    rc     lstmlmaug0     0  7.390585 l     TRUE\n",
       "12   11   0    s    s    rc     lstmlmaug1     0  8.387067 l     TRUE\n",
       "13   12   0    s    s    rc     lstmlmaug2     0 14.284103 l     TRUE\n",
       "14   13   0    s    s    rc     lstmlmaug3     0 22.867973 l     TRUE\n",
       "15   14   0    s    s    rc     lstmlmaug4     0 12.442392 l     TRUE\n",
       "16   15   0    s    s    rc     lstmaugment0   0 18.135048 a     TRUE\n",
       "17   16   0    s    s    rc     lstmaugment1   0 32.345397 a     TRUE\n",
       "18   17   0    s    s    rc     lstmaugment2   0 23.185159 a     TRUE\n",
       "19   18   0    s    s    rc     lstmaugment3   0 16.857921 a     TRUE\n",
       "20   19   0    s    s    rc     lstmaugment4   0 20.929602 a     TRUE\n",
       "21   20   0    s    p    prop   lstmlmaug0   100 63.427281 l    FALSE\n",
       "22   21   0    s    p    prop   lstmlmaug1     0 38.346497 l    FALSE\n",
       "23   22   0    s    p    prop   lstmlmaug2   100 75.803016 l    FALSE\n",
       "24   23   0    s    p    prop   lstmlmaug3   100 51.471547 l    FALSE\n",
       "25   24   0    s    p    prop   lstmlmaug4     0 49.889326 l    FALSE\n",
       "26   25   0    s    p    prop   lstmaugment0 100 78.692360 a    FALSE\n",
       "27   26   0    s    p    prop   lstmaugment1 100 53.543625 a    FALSE\n",
       "28   27   0    s    p    prop   lstmaugment2 100 68.816019 a    FALSE\n",
       "29   28   0    s    p    prop   lstmaugment3 100 57.379316 a    FALSE\n",
       "30   29   0    s    p    prop   lstmaugment4 100 59.025665 a    FALSE\n",
       "...  ...  ...  ...  ...  ...    ...          ... ...       ...  ...  \n",
       "2531 2530 31   p    s    rc     lstmlmaug0     0 25.079217 l    FALSE\n",
       "2532 2531 31   p    s    rc     lstmlmaug1     0 11.816992 l    FALSE\n",
       "2533 2532 31   p    s    rc     lstmlmaug2     0 26.148412 l    FALSE\n",
       "2534 2533 31   p    s    rc     lstmlmaug3     0 39.690018 l    FALSE\n",
       "2535 2534 31   p    s    rc     lstmlmaug4     0 29.101845 l    FALSE\n",
       "2536 2535 31   p    s    rc     lstmaugment0 100 71.038664 a    FALSE\n",
       "2537 2536 31   p    s    rc     lstmaugment1 100 74.149939 a    FALSE\n",
       "2538 2537 31   p    s    rc     lstmaugment2   0 44.580331 a    FALSE\n",
       "2539 2538 31   p    s    rc     lstmaugment3 100 51.475680 a    FALSE\n",
       "2540 2539 31   p    s    rc     lstmaugment4 100 55.804618 a    FALSE\n",
       "2541 2540 31   p    p    prop   lstmlmaug0     0  8.627557 l     TRUE\n",
       "2542 2541 31   p    p    prop   lstmlmaug1     0  5.519379 l     TRUE\n",
       "2543 2542 31   p    p    prop   lstmlmaug2     0  2.919724 l     TRUE\n",
       "2544 2543 31   p    p    prop   lstmlmaug3     0 18.013934 l     TRUE\n",
       "2545 2544 31   p    p    prop   lstmlmaug4     0  5.786832 l     TRUE\n",
       "2546 2545 31   p    p    prop   lstmaugment0   0  7.893400 a     TRUE\n",
       "2547 2546 31   p    p    prop   lstmaugment1   0 20.818962 a     TRUE\n",
       "2548 2547 31   p    p    prop   lstmaugment2   0  6.880171 a     TRUE\n",
       "2549 2548 31   p    p    prop   lstmaugment3   0 15.952711 a     TRUE\n",
       "2550 2549 31   p    p    prop   lstmaugment4   0 22.071261 a     TRUE\n",
       "2551 2550 31   p    p    rc     lstmlmaug0     0  8.730938 l     TRUE\n",
       "2552 2551 31   p    p    rc     lstmlmaug1     0  2.117874 l     TRUE\n",
       "2553 2552 31   p    p    rc     lstmlmaug2     0  6.989158 l     TRUE\n",
       "2554 2553 31   p    p    rc     lstmlmaug3     0 24.391688 l     TRUE\n",
       "2555 2554 31   p    p    rc     lstmlmaug4     0  4.354304 l     TRUE\n",
       "2556 2555 31   p    p    rc     lstmaugment0   0 36.382544 a     TRUE\n",
       "2557 2556 31   p    p    rc     lstmaugment1   0 38.095325 a     TRUE\n",
       "2558 2557 31   p    p    rc     lstmaugment2   0 15.705086 a     TRUE\n",
       "2559 2558 31   p    p    rc     lstmaugment3   0 23.622739 a     TRUE\n",
       "2560 2559 31   p    p    rc     lstmaugment4   0 42.553809 a     TRUE"
      ]
     },
     "metadata": {},
     "output_type": "display_data"
    },
    {
     "name": "stderr",
     "output_type": "stream",
     "text": [
      "`summarise()` regrouping output by 'model', 'type', 'match' (override with `.groups` argument)\n",
      "\n",
      "`summarise()` regrouping output by 'model', 'type', 'match' (override with `.groups` argument)\n",
      "\n"
     ]
    },
    {
     "data": {
      "text/html": [
       "<table>\n",
       "<caption>A grouped_df: 40 x 6</caption>\n",
       "<thead>\n",
       "\t<tr><th scope=col>model</th><th scope=col>type</th><th scope=col>match</th><th scope=col>clause</th><th scope=col>sample</th><th scope=col>max</th></tr>\n",
       "\t<tr><th scope=col>&lt;chr&gt;</th><th scope=col>&lt;chr&gt;</th><th scope=col>&lt;lgl&gt;</th><th scope=col>&lt;chr&gt;</th><th scope=col>&lt;dbl&gt;</th><th scope=col>&lt;dbl&gt;</th></tr>\n",
       "</thead>\n",
       "<tbody>\n",
       "\t<tr><td>lstmaugment0</td><td>a</td><td>FALSE</td><td>prop</td><td>53.147162</td><td>54.6875</td></tr>\n",
       "\t<tr><td>lstmaugment0</td><td>a</td><td>FALSE</td><td>rc  </td><td>60.881066</td><td>78.1250</td></tr>\n",
       "\t<tr><td>lstmaugment0</td><td>a</td><td> TRUE</td><td>prop</td><td>20.492582</td><td> 0.0000</td></tr>\n",
       "\t<tr><td>lstmaugment0</td><td>a</td><td> TRUE</td><td>rc  </td><td>26.773462</td><td> 6.2500</td></tr>\n",
       "\t<tr><td>lstmaugment1</td><td>a</td><td>FALSE</td><td>prop</td><td>45.149801</td><td>40.6250</td></tr>\n",
       "\t<tr><td>lstmaugment1</td><td>a</td><td>FALSE</td><td>rc  </td><td>58.483978</td><td>68.7500</td></tr>\n",
       "\t<tr><td>lstmaugment1</td><td>a</td><td> TRUE</td><td>prop</td><td>21.722591</td><td> 1.5625</td></tr>\n",
       "\t<tr><td>lstmaugment1</td><td>a</td><td> TRUE</td><td>rc  </td><td>28.235135</td><td> 6.2500</td></tr>\n",
       "\t<tr><td>lstmaugment2</td><td>a</td><td>FALSE</td><td>prop</td><td>44.437680</td><td>39.0625</td></tr>\n",
       "\t<tr><td>lstmaugment2</td><td>a</td><td>FALSE</td><td>rc  </td><td>60.433593</td><td>78.1250</td></tr>\n",
       "\t<tr><td>lstmaugment2</td><td>a</td><td> TRUE</td><td>prop</td><td>17.598769</td><td> 1.5625</td></tr>\n",
       "\t<tr><td>lstmaugment2</td><td>a</td><td> TRUE</td><td>rc  </td><td>29.159639</td><td>10.9375</td></tr>\n",
       "\t<tr><td>lstmaugment3</td><td>a</td><td>FALSE</td><td>prop</td><td>47.639124</td><td>45.3125</td></tr>\n",
       "\t<tr><td>lstmaugment3</td><td>a</td><td>FALSE</td><td>rc  </td><td>56.162569</td><td>68.7500</td></tr>\n",
       "\t<tr><td>lstmaugment3</td><td>a</td><td> TRUE</td><td>prop</td><td>19.794580</td><td> 1.5625</td></tr>\n",
       "\t<tr><td>lstmaugment3</td><td>a</td><td> TRUE</td><td>rc  </td><td>24.606158</td><td> 0.0000</td></tr>\n",
       "\t<tr><td>lstmaugment4</td><td>a</td><td>FALSE</td><td>prop</td><td>48.185924</td><td>46.8750</td></tr>\n",
       "\t<tr><td>lstmaugment4</td><td>a</td><td>FALSE</td><td>rc  </td><td>53.178374</td><td>56.2500</td></tr>\n",
       "\t<tr><td>lstmaugment4</td><td>a</td><td> TRUE</td><td>prop</td><td>21.977975</td><td> 6.2500</td></tr>\n",
       "\t<tr><td>lstmaugment4</td><td>a</td><td> TRUE</td><td>rc  </td><td>28.134649</td><td> 7.8125</td></tr>\n",
       "\t<tr><td>lstmlmaug0  </td><td>l</td><td>FALSE</td><td>prop</td><td>48.692194</td><td>46.8750</td></tr>\n",
       "\t<tr><td>lstmlmaug0  </td><td>l</td><td>FALSE</td><td>rc  </td><td>51.340230</td><td>51.5625</td></tr>\n",
       "\t<tr><td>lstmlmaug0  </td><td>l</td><td> TRUE</td><td>prop</td><td> 9.710406</td><td> 0.0000</td></tr>\n",
       "\t<tr><td>lstmlmaug0  </td><td>l</td><td> TRUE</td><td>rc  </td><td> 8.842374</td><td> 0.0000</td></tr>\n",
       "\t<tr><td>lstmlmaug1  </td><td>l</td><td>FALSE</td><td>prop</td><td>47.770973</td><td>45.3125</td></tr>\n",
       "\t<tr><td>lstmlmaug1  </td><td>l</td><td>FALSE</td><td>rc  </td><td>38.340254</td><td>21.8750</td></tr>\n",
       "\t<tr><td>lstmlmaug1  </td><td>l</td><td> TRUE</td><td>prop</td><td> 8.925696</td><td> 0.0000</td></tr>\n",
       "\t<tr><td>lstmlmaug1  </td><td>l</td><td> TRUE</td><td>rc  </td><td> 7.483582</td><td> 0.0000</td></tr>\n",
       "\t<tr><td>lstmlmaug2  </td><td>l</td><td>FALSE</td><td>prop</td><td>44.934609</td><td>40.6250</td></tr>\n",
       "\t<tr><td>lstmlmaug2  </td><td>l</td><td>FALSE</td><td>rc  </td><td>44.245961</td><td>42.1875</td></tr>\n",
       "\t<tr><td>lstmlmaug2  </td><td>l</td><td> TRUE</td><td>prop</td><td>10.067198</td><td> 0.0000</td></tr>\n",
       "\t<tr><td>lstmlmaug2  </td><td>l</td><td> TRUE</td><td>rc  </td><td>13.320612</td><td> 0.0000</td></tr>\n",
       "\t<tr><td>lstmlmaug3  </td><td>l</td><td>FALSE</td><td>prop</td><td>41.482731</td><td>31.2500</td></tr>\n",
       "\t<tr><td>lstmlmaug3  </td><td>l</td><td>FALSE</td><td>rc  </td><td>48.725956</td><td>43.7500</td></tr>\n",
       "\t<tr><td>lstmlmaug3  </td><td>l</td><td> TRUE</td><td>prop</td><td> 9.317430</td><td> 0.0000</td></tr>\n",
       "\t<tr><td>lstmlmaug3  </td><td>l</td><td> TRUE</td><td>rc  </td><td>11.810980</td><td> 0.0000</td></tr>\n",
       "\t<tr><td>lstmlmaug4  </td><td>l</td><td>FALSE</td><td>prop</td><td>48.865326</td><td>48.4375</td></tr>\n",
       "\t<tr><td>lstmlmaug4  </td><td>l</td><td>FALSE</td><td>rc  </td><td>51.232327</td><td>50.0000</td></tr>\n",
       "\t<tr><td>lstmlmaug4  </td><td>l</td><td> TRUE</td><td>prop</td><td>12.140663</td><td> 0.0000</td></tr>\n",
       "\t<tr><td>lstmlmaug4  </td><td>l</td><td> TRUE</td><td>rc  </td><td>11.993602</td><td> 0.0000</td></tr>\n",
       "</tbody>\n",
       "</table>\n"
      ],
      "text/latex": [
       "A grouped\\_df: 40 x 6\n",
       "\\begin{tabular}{llllll}\n",
       " model & type & match & clause & sample & max\\\\\n",
       " <chr> & <chr> & <lgl> & <chr> & <dbl> & <dbl>\\\\\n",
       "\\hline\n",
       "\t lstmaugment0 & a & FALSE & prop & 53.147162 & 54.6875\\\\\n",
       "\t lstmaugment0 & a & FALSE & rc   & 60.881066 & 78.1250\\\\\n",
       "\t lstmaugment0 & a &  TRUE & prop & 20.492582 &  0.0000\\\\\n",
       "\t lstmaugment0 & a &  TRUE & rc   & 26.773462 &  6.2500\\\\\n",
       "\t lstmaugment1 & a & FALSE & prop & 45.149801 & 40.6250\\\\\n",
       "\t lstmaugment1 & a & FALSE & rc   & 58.483978 & 68.7500\\\\\n",
       "\t lstmaugment1 & a &  TRUE & prop & 21.722591 &  1.5625\\\\\n",
       "\t lstmaugment1 & a &  TRUE & rc   & 28.235135 &  6.2500\\\\\n",
       "\t lstmaugment2 & a & FALSE & prop & 44.437680 & 39.0625\\\\\n",
       "\t lstmaugment2 & a & FALSE & rc   & 60.433593 & 78.1250\\\\\n",
       "\t lstmaugment2 & a &  TRUE & prop & 17.598769 &  1.5625\\\\\n",
       "\t lstmaugment2 & a &  TRUE & rc   & 29.159639 & 10.9375\\\\\n",
       "\t lstmaugment3 & a & FALSE & prop & 47.639124 & 45.3125\\\\\n",
       "\t lstmaugment3 & a & FALSE & rc   & 56.162569 & 68.7500\\\\\n",
       "\t lstmaugment3 & a &  TRUE & prop & 19.794580 &  1.5625\\\\\n",
       "\t lstmaugment3 & a &  TRUE & rc   & 24.606158 &  0.0000\\\\\n",
       "\t lstmaugment4 & a & FALSE & prop & 48.185924 & 46.8750\\\\\n",
       "\t lstmaugment4 & a & FALSE & rc   & 53.178374 & 56.2500\\\\\n",
       "\t lstmaugment4 & a &  TRUE & prop & 21.977975 &  6.2500\\\\\n",
       "\t lstmaugment4 & a &  TRUE & rc   & 28.134649 &  7.8125\\\\\n",
       "\t lstmlmaug0   & l & FALSE & prop & 48.692194 & 46.8750\\\\\n",
       "\t lstmlmaug0   & l & FALSE & rc   & 51.340230 & 51.5625\\\\\n",
       "\t lstmlmaug0   & l &  TRUE & prop &  9.710406 &  0.0000\\\\\n",
       "\t lstmlmaug0   & l &  TRUE & rc   &  8.842374 &  0.0000\\\\\n",
       "\t lstmlmaug1   & l & FALSE & prop & 47.770973 & 45.3125\\\\\n",
       "\t lstmlmaug1   & l & FALSE & rc   & 38.340254 & 21.8750\\\\\n",
       "\t lstmlmaug1   & l &  TRUE & prop &  8.925696 &  0.0000\\\\\n",
       "\t lstmlmaug1   & l &  TRUE & rc   &  7.483582 &  0.0000\\\\\n",
       "\t lstmlmaug2   & l & FALSE & prop & 44.934609 & 40.6250\\\\\n",
       "\t lstmlmaug2   & l & FALSE & rc   & 44.245961 & 42.1875\\\\\n",
       "\t lstmlmaug2   & l &  TRUE & prop & 10.067198 &  0.0000\\\\\n",
       "\t lstmlmaug2   & l &  TRUE & rc   & 13.320612 &  0.0000\\\\\n",
       "\t lstmlmaug3   & l & FALSE & prop & 41.482731 & 31.2500\\\\\n",
       "\t lstmlmaug3   & l & FALSE & rc   & 48.725956 & 43.7500\\\\\n",
       "\t lstmlmaug3   & l &  TRUE & prop &  9.317430 &  0.0000\\\\\n",
       "\t lstmlmaug3   & l &  TRUE & rc   & 11.810980 &  0.0000\\\\\n",
       "\t lstmlmaug4   & l & FALSE & prop & 48.865326 & 48.4375\\\\\n",
       "\t lstmlmaug4   & l & FALSE & rc   & 51.232327 & 50.0000\\\\\n",
       "\t lstmlmaug4   & l &  TRUE & prop & 12.140663 &  0.0000\\\\\n",
       "\t lstmlmaug4   & l &  TRUE & rc   & 11.993602 &  0.0000\\\\\n",
       "\\end{tabular}\n"
      ],
      "text/markdown": [
       "\n",
       "A grouped_df: 40 x 6\n",
       "\n",
       "| model &lt;chr&gt; | type &lt;chr&gt; | match &lt;lgl&gt; | clause &lt;chr&gt; | sample &lt;dbl&gt; | max &lt;dbl&gt; |\n",
       "|---|---|---|---|---|---|\n",
       "| lstmaugment0 | a | FALSE | prop | 53.147162 | 54.6875 |\n",
       "| lstmaugment0 | a | FALSE | rc   | 60.881066 | 78.1250 |\n",
       "| lstmaugment0 | a |  TRUE | prop | 20.492582 |  0.0000 |\n",
       "| lstmaugment0 | a |  TRUE | rc   | 26.773462 |  6.2500 |\n",
       "| lstmaugment1 | a | FALSE | prop | 45.149801 | 40.6250 |\n",
       "| lstmaugment1 | a | FALSE | rc   | 58.483978 | 68.7500 |\n",
       "| lstmaugment1 | a |  TRUE | prop | 21.722591 |  1.5625 |\n",
       "| lstmaugment1 | a |  TRUE | rc   | 28.235135 |  6.2500 |\n",
       "| lstmaugment2 | a | FALSE | prop | 44.437680 | 39.0625 |\n",
       "| lstmaugment2 | a | FALSE | rc   | 60.433593 | 78.1250 |\n",
       "| lstmaugment2 | a |  TRUE | prop | 17.598769 |  1.5625 |\n",
       "| lstmaugment2 | a |  TRUE | rc   | 29.159639 | 10.9375 |\n",
       "| lstmaugment3 | a | FALSE | prop | 47.639124 | 45.3125 |\n",
       "| lstmaugment3 | a | FALSE | rc   | 56.162569 | 68.7500 |\n",
       "| lstmaugment3 | a |  TRUE | prop | 19.794580 |  1.5625 |\n",
       "| lstmaugment3 | a |  TRUE | rc   | 24.606158 |  0.0000 |\n",
       "| lstmaugment4 | a | FALSE | prop | 48.185924 | 46.8750 |\n",
       "| lstmaugment4 | a | FALSE | rc   | 53.178374 | 56.2500 |\n",
       "| lstmaugment4 | a |  TRUE | prop | 21.977975 |  6.2500 |\n",
       "| lstmaugment4 | a |  TRUE | rc   | 28.134649 |  7.8125 |\n",
       "| lstmlmaug0   | l | FALSE | prop | 48.692194 | 46.8750 |\n",
       "| lstmlmaug0   | l | FALSE | rc   | 51.340230 | 51.5625 |\n",
       "| lstmlmaug0   | l |  TRUE | prop |  9.710406 |  0.0000 |\n",
       "| lstmlmaug0   | l |  TRUE | rc   |  8.842374 |  0.0000 |\n",
       "| lstmlmaug1   | l | FALSE | prop | 47.770973 | 45.3125 |\n",
       "| lstmlmaug1   | l | FALSE | rc   | 38.340254 | 21.8750 |\n",
       "| lstmlmaug1   | l |  TRUE | prop |  8.925696 |  0.0000 |\n",
       "| lstmlmaug1   | l |  TRUE | rc   |  7.483582 |  0.0000 |\n",
       "| lstmlmaug2   | l | FALSE | prop | 44.934609 | 40.6250 |\n",
       "| lstmlmaug2   | l | FALSE | rc   | 44.245961 | 42.1875 |\n",
       "| lstmlmaug2   | l |  TRUE | prop | 10.067198 |  0.0000 |\n",
       "| lstmlmaug2   | l |  TRUE | rc   | 13.320612 |  0.0000 |\n",
       "| lstmlmaug3   | l | FALSE | prop | 41.482731 | 31.2500 |\n",
       "| lstmlmaug3   | l | FALSE | rc   | 48.725956 | 43.7500 |\n",
       "| lstmlmaug3   | l |  TRUE | prop |  9.317430 |  0.0000 |\n",
       "| lstmlmaug3   | l |  TRUE | rc   | 11.810980 |  0.0000 |\n",
       "| lstmlmaug4   | l | FALSE | prop | 48.865326 | 48.4375 |\n",
       "| lstmlmaug4   | l | FALSE | rc   | 51.232327 | 50.0000 |\n",
       "| lstmlmaug4   | l |  TRUE | prop | 12.140663 |  0.0000 |\n",
       "| lstmlmaug4   | l |  TRUE | rc   | 11.993602 |  0.0000 |\n",
       "\n"
      ],
      "text/plain": [
       "   model        type match clause sample    max    \n",
       "1  lstmaugment0 a    FALSE prop   53.147162 54.6875\n",
       "2  lstmaugment0 a    FALSE rc     60.881066 78.1250\n",
       "3  lstmaugment0 a     TRUE prop   20.492582  0.0000\n",
       "4  lstmaugment0 a     TRUE rc     26.773462  6.2500\n",
       "5  lstmaugment1 a    FALSE prop   45.149801 40.6250\n",
       "6  lstmaugment1 a    FALSE rc     58.483978 68.7500\n",
       "7  lstmaugment1 a     TRUE prop   21.722591  1.5625\n",
       "8  lstmaugment1 a     TRUE rc     28.235135  6.2500\n",
       "9  lstmaugment2 a    FALSE prop   44.437680 39.0625\n",
       "10 lstmaugment2 a    FALSE rc     60.433593 78.1250\n",
       "11 lstmaugment2 a     TRUE prop   17.598769  1.5625\n",
       "12 lstmaugment2 a     TRUE rc     29.159639 10.9375\n",
       "13 lstmaugment3 a    FALSE prop   47.639124 45.3125\n",
       "14 lstmaugment3 a    FALSE rc     56.162569 68.7500\n",
       "15 lstmaugment3 a     TRUE prop   19.794580  1.5625\n",
       "16 lstmaugment3 a     TRUE rc     24.606158  0.0000\n",
       "17 lstmaugment4 a    FALSE prop   48.185924 46.8750\n",
       "18 lstmaugment4 a    FALSE rc     53.178374 56.2500\n",
       "19 lstmaugment4 a     TRUE prop   21.977975  6.2500\n",
       "20 lstmaugment4 a     TRUE rc     28.134649  7.8125\n",
       "21 lstmlmaug0   l    FALSE prop   48.692194 46.8750\n",
       "22 lstmlmaug0   l    FALSE rc     51.340230 51.5625\n",
       "23 lstmlmaug0   l     TRUE prop    9.710406  0.0000\n",
       "24 lstmlmaug0   l     TRUE rc      8.842374  0.0000\n",
       "25 lstmlmaug1   l    FALSE prop   47.770973 45.3125\n",
       "26 lstmlmaug1   l    FALSE rc     38.340254 21.8750\n",
       "27 lstmlmaug1   l     TRUE prop    8.925696  0.0000\n",
       "28 lstmlmaug1   l     TRUE rc      7.483582  0.0000\n",
       "29 lstmlmaug2   l    FALSE prop   44.934609 40.6250\n",
       "30 lstmlmaug2   l    FALSE rc     44.245961 42.1875\n",
       "31 lstmlmaug2   l     TRUE prop   10.067198  0.0000\n",
       "32 lstmlmaug2   l     TRUE rc     13.320612  0.0000\n",
       "33 lstmlmaug3   l    FALSE prop   41.482731 31.2500\n",
       "34 lstmlmaug3   l    FALSE rc     48.725956 43.7500\n",
       "35 lstmlmaug3   l     TRUE prop    9.317430  0.0000\n",
       "36 lstmlmaug3   l     TRUE rc     11.810980  0.0000\n",
       "37 lstmlmaug4   l    FALSE prop   48.865326 48.4375\n",
       "38 lstmlmaug4   l    FALSE rc     51.232327 50.0000\n",
       "39 lstmlmaug4   l     TRUE prop   12.140663  0.0000\n",
       "40 lstmlmaug4   l     TRUE rc     11.993602  0.0000"
      ]
     },
     "metadata": {},
     "output_type": "display_data"
    }
   ],
   "source": [
    "b92_df <- read.csv(\"../evalsets/Bock1992/items.ptb.csv.reformat\")\n",
    "b92_df <- tidyr::separate(b92_df, condition, c(\"nums\",\"clause\"), sep=\"_\")\n",
    "b92_df <- tidyr::separate(b92_df, nums, c(\"subj\", \"attr\"), sep=1:2)\n",
    "\n",
    "b92_df$type <- substr(b92_df$model, 5, 5)\n",
    "b92_df$match <- b92_df$subj == b92_df$attr\n",
    "b92_df$subj <- as.factor(b92_df$subj)\n",
    "\n",
    "b92_df$sample <- 100 - b92_df$sample\n",
    "\n",
    "b92_df$max <- 100 - b92_df$max\n",
    "b92_df\n",
    "\n",
    "means <- b92_df %>% group_by(model, type, match, clause) %>% summarize(sample = mean(sample), max = mean(max))\n",
    "\n",
    "means_na <- b92_df %>% group_by(model, type, match, subj) %>% summarize(sample = mean(sample), max = mean(max))\n",
    "\n",
    "means\n"
   ]
  },
  {
   "cell_type": "code",
   "execution_count": 3,
   "metadata": {},
   "outputs": [
    {
     "name": "stderr",
     "output_type": "stream",
     "text": [
      "`summarise()` regrouping output by 'Model Type', 'Subject #', 'Attractor #' (override with `.groups` argument)\n",
      "\n"
     ]
    },
    {
     "data": {
      "text/html": [
       "<table>\n",
       "<caption>A grouped_df: 16 x 6</caption>\n",
       "<thead>\n",
       "\t<tr><th scope=col>Model Type</th><th scope=col>Subject #</th><th scope=col>Attractor #</th><th scope=col>Modifier Type</th><th scope=col>Sample</th><th scope=col>MaxProb</th></tr>\n",
       "\t<tr><th scope=col>&lt;chr&gt;</th><th scope=col>&lt;fct&gt;</th><th scope=col>&lt;chr&gt;</th><th scope=col>&lt;chr&gt;</th><th scope=col>&lt;dbl&gt;</th><th scope=col>&lt;dbl&gt;</th></tr>\n",
       "</thead>\n",
       "<tbody>\n",
       "\t<tr><td>a</td><td>p</td><td>p</td><td>prop</td><td>22.043160</td><td> 4.375</td></tr>\n",
       "\t<tr><td>a</td><td>p</td><td>p</td><td>rc  </td><td>34.515273</td><td>11.250</td></tr>\n",
       "\t<tr><td>a</td><td>p</td><td>s</td><td>prop</td><td>43.703582</td><td>39.375</td></tr>\n",
       "\t<tr><td>a</td><td>p</td><td>s</td><td>rc  </td><td>60.763150</td><td>75.000</td></tr>\n",
       "\t<tr><td>a</td><td>s</td><td>p</td><td>prop</td><td>51.720294</td><td>51.250</td></tr>\n",
       "\t<tr><td>a</td><td>s</td><td>p</td><td>rc  </td><td>54.892682</td><td>65.000</td></tr>\n",
       "\t<tr><td>a</td><td>s</td><td>s</td><td>prop</td><td>18.591438</td><td> 0.000</td></tr>\n",
       "\t<tr><td>a</td><td>s</td><td>s</td><td>rc  </td><td>20.248344</td><td> 1.250</td></tr>\n",
       "\t<tr><td>l</td><td>p</td><td>p</td><td>prop</td><td>11.243944</td><td> 0.000</td></tr>\n",
       "\t<tr><td>l</td><td>p</td><td>p</td><td>rc  </td><td>13.259507</td><td> 0.000</td></tr>\n",
       "\t<tr><td>l</td><td>p</td><td>s</td><td>prop</td><td>40.111426</td><td>28.750</td></tr>\n",
       "\t<tr><td>l</td><td>p</td><td>s</td><td>rc  </td><td>43.808608</td><td>37.500</td></tr>\n",
       "\t<tr><td>l</td><td>s</td><td>p</td><td>prop</td><td>52.586907</td><td>56.250</td></tr>\n",
       "\t<tr><td>l</td><td>s</td><td>p</td><td>rc  </td><td>49.745283</td><td>46.250</td></tr>\n",
       "\t<tr><td>l</td><td>s</td><td>s</td><td>prop</td><td> 8.820613</td><td> 0.000</td></tr>\n",
       "\t<tr><td>l</td><td>s</td><td>s</td><td>rc  </td><td> 8.120953</td><td> 0.000</td></tr>\n",
       "</tbody>\n",
       "</table>\n"
      ],
      "text/latex": [
       "A grouped\\_df: 16 x 6\n",
       "\\begin{tabular}{llllll}\n",
       " Model Type & Subject \\# & Attractor \\# & Modifier Type & Sample & MaxProb\\\\\n",
       " <chr> & <fct> & <chr> & <chr> & <dbl> & <dbl>\\\\\n",
       "\\hline\n",
       "\t a & p & p & prop & 22.043160 &  4.375\\\\\n",
       "\t a & p & p & rc   & 34.515273 & 11.250\\\\\n",
       "\t a & p & s & prop & 43.703582 & 39.375\\\\\n",
       "\t a & p & s & rc   & 60.763150 & 75.000\\\\\n",
       "\t a & s & p & prop & 51.720294 & 51.250\\\\\n",
       "\t a & s & p & rc   & 54.892682 & 65.000\\\\\n",
       "\t a & s & s & prop & 18.591438 &  0.000\\\\\n",
       "\t a & s & s & rc   & 20.248344 &  1.250\\\\\n",
       "\t l & p & p & prop & 11.243944 &  0.000\\\\\n",
       "\t l & p & p & rc   & 13.259507 &  0.000\\\\\n",
       "\t l & p & s & prop & 40.111426 & 28.750\\\\\n",
       "\t l & p & s & rc   & 43.808608 & 37.500\\\\\n",
       "\t l & s & p & prop & 52.586907 & 56.250\\\\\n",
       "\t l & s & p & rc   & 49.745283 & 46.250\\\\\n",
       "\t l & s & s & prop &  8.820613 &  0.000\\\\\n",
       "\t l & s & s & rc   &  8.120953 &  0.000\\\\\n",
       "\\end{tabular}\n"
      ],
      "text/markdown": [
       "\n",
       "A grouped_df: 16 x 6\n",
       "\n",
       "| Model Type &lt;chr&gt; | Subject # &lt;fct&gt; | Attractor # &lt;chr&gt; | Modifier Type &lt;chr&gt; | Sample &lt;dbl&gt; | MaxProb &lt;dbl&gt; |\n",
       "|---|---|---|---|---|---|\n",
       "| a | p | p | prop | 22.043160 |  4.375 |\n",
       "| a | p | p | rc   | 34.515273 | 11.250 |\n",
       "| a | p | s | prop | 43.703582 | 39.375 |\n",
       "| a | p | s | rc   | 60.763150 | 75.000 |\n",
       "| a | s | p | prop | 51.720294 | 51.250 |\n",
       "| a | s | p | rc   | 54.892682 | 65.000 |\n",
       "| a | s | s | prop | 18.591438 |  0.000 |\n",
       "| a | s | s | rc   | 20.248344 |  1.250 |\n",
       "| l | p | p | prop | 11.243944 |  0.000 |\n",
       "| l | p | p | rc   | 13.259507 |  0.000 |\n",
       "| l | p | s | prop | 40.111426 | 28.750 |\n",
       "| l | p | s | rc   | 43.808608 | 37.500 |\n",
       "| l | s | p | prop | 52.586907 | 56.250 |\n",
       "| l | s | p | rc   | 49.745283 | 46.250 |\n",
       "| l | s | s | prop |  8.820613 |  0.000 |\n",
       "| l | s | s | rc   |  8.120953 |  0.000 |\n",
       "\n"
      ],
      "text/plain": [
       "   Model Type Subject # Attractor # Modifier Type Sample    MaxProb\n",
       "1  a          p         p           prop          22.043160  4.375 \n",
       "2  a          p         p           rc            34.515273 11.250 \n",
       "3  a          p         s           prop          43.703582 39.375 \n",
       "4  a          p         s           rc            60.763150 75.000 \n",
       "5  a          s         p           prop          51.720294 51.250 \n",
       "6  a          s         p           rc            54.892682 65.000 \n",
       "7  a          s         s           prop          18.591438  0.000 \n",
       "8  a          s         s           rc            20.248344  1.250 \n",
       "9  l          p         p           prop          11.243944  0.000 \n",
       "10 l          p         p           rc            13.259507  0.000 \n",
       "11 l          p         s           prop          40.111426 28.750 \n",
       "12 l          p         s           rc            43.808608 37.500 \n",
       "13 l          s         p           prop          52.586907 56.250 \n",
       "14 l          s         p           rc            49.745283 46.250 \n",
       "15 l          s         s           prop           8.820613  0.000 \n",
       "16 l          s         s           rc             8.120953  0.000 "
      ]
     },
     "metadata": {},
     "output_type": "display_data"
    }
   ],
   "source": [
    "output <- b92_df %>% group_by(\"Model Type\"=type, \"Subject #\"=subj, \"Attractor #\"=attr, \"Modifier Type\"=clause) %>% summarize(\"Sample\"=mean(sample), \"MaxProb\"=mean(max))\n",
    "\n",
    "output\n",
    "print.xtable(xtable(output), file=\"Bock92Table.tex\", floating=FALSE)"
   ]
  },
  {
   "cell_type": "code",
   "execution_count": 40,
   "metadata": {
    "scrolled": false
   },
   "outputs": [
    {
     "data": {
      "image/png": "[encoded data removed]",
      "text/plain": [
       "plot without title"
      ]
     },
     "metadata": {
      "image/png": {
       "height": 240,
       "width": 240
      },
      "text/plain": {
       "height": 240,
       "width": 240
      }
     },
     "output_type": "display_data"
    }
   ],
   "source": [
    "options(repr.plot.width=4, repr.plot.height=4)\n",
    "f <- ggplot(subset(b92_df, type==\"l\"), aes(x=clause, fill=match, y=sample/100)) + \n",
    "geom_bar(stat=\"summary\", position=\"dodge\", fun=mean) + \n",
    "geom_point(data=subset(means, type==\"l\"), shape=16, size=2,\n",
    "           position=position_jitterdodge(jitter.height=0, jitter.width = 0.1, dodge.width=0.9)) +\n",
    "labs(x=\"\", y=\"% Attraction Errors\", fill=\"\") +\n",
    "theme_bw() +\n",
    "scale_fill_manual(labels=c(\"Subj-Attr Mismatch \\n  ...singers...\", \n",
    "                        \"Subj-Attr Match \\n ...singer...\"), values=pallete) +\n",
    "scale_x_discrete(labels=c(\"PP \\n ...from...\", \"RC\\n ...that...\")) +\n",
    "scale_y_continuous(labels=scales::percent) +\n",
    "coord_cartesian(ylim = c(0,1.0)) +\n",
    "theme(axis.text.x=element_text(size=20), axis.text.y=element_text(size=20),\n",
    "      axis.title.y=element_text(size=20),\n",
    "      strip.text=element_text(size=20), legend.text=element_text(size=20))\n",
    "legend <- cowplot::get_legend(f)\n",
    "f <-f + theme(legend.position = \"none\")\n",
    "f\n",
    "ggsave(\"Bock92_lmaug_ccg.png\", width=4, height=4)"
   ]
  },
  {
   "cell_type": "code",
   "execution_count": 41,
   "metadata": {
    "scrolled": false
   },
   "outputs": [
    {
     "data": {
      "image/png": "[encoded data removed]",
      "text/plain": [
       "plot without title"
      ]
     },
     "metadata": {
      "image/png": {
       "height": 240,
       "width": 240
      },
      "text/plain": {
       "height": 240,
       "width": 240
      }
     },
     "output_type": "display_data"
    }
   ],
   "source": [
    "options(repr.plot.width=4, repr.plot.height=4)\n",
    "f <- ggplot(subset(b92_df, type==\"j\"), aes(x=clause, fill=match, y=sample/100)) + \n",
    "geom_bar(stat=\"summary\", position=\"dodge\", fun=mean) + \n",
    "geom_point(data=subset(means, type==\"j\"), shape=16, size=2,\n",
    "           position=position_jitterdodge(jitter.height=0, jitter.width = 0.1, dodge.width=0.9)) +\n",
    "labs(x=\"\", y=\"% Attraction Errors\", fill=\"\") +\n",
    "theme_bw() +\n",
    "scale_fill_manual(labels=c(\"Subj-Attr Mismatch \\n  ...singers...\", \n",
    "                        \"Subj-Attr Match \\n ...singer...\"), values=pallete) +\n",
    "scale_x_discrete(labels=c(\"PP \\n ...from...\", \"RC\\n ...that...\")) +\n",
    "scale_y_continuous(labels=scales::percent) +\n",
    "coord_cartesian(ylim = c(0,1.0)) +\n",
    "theme(axis.text.x=element_text(size=20), axis.text.y=element_text(size=20),\n",
    "      axis.title.y=element_text(size=20),\n",
    "      strip.text=element_text(size=20), legend.text=element_text(size=20))\n",
    "legend <- cowplot::get_legend(f)\n",
    "f <-f + theme(legend.position = \"none\")\n",
    "f\n",
    "ggsave(\"Bock92_joint_ccg.png\", width=4, height=4)"
   ]
  },
  {
   "cell_type": "code",
   "execution_count": 42,
   "metadata": {
    "scrolled": false
   },
   "outputs": [
    {
     "data": {
      "image/png": "[encoded data removed]",
      "text/plain": [
       "plot without title"
      ]
     },
     "metadata": {
      "image/png": {
       "height": 240,
       "width": 240
      },
      "text/plain": {
       "height": 240,
       "width": 240
      }
     },
     "output_type": "display_data"
    }
   ],
   "source": [
    "options(repr.plot.width=4, repr.plot.height=4)\n",
    "f <- ggplot(subset(b92_df, type==\"l\"), aes(x=clause, fill=match, y=max/100)) + \n",
    "geom_bar(stat=\"summary\", position=\"dodge\", fun=mean) + \n",
    "geom_point(data=subset(means, type==\"l\"), shape=16, size=2,\n",
    "           position=position_jitterdodge(jitter.height=0, jitter.width = 0.1, dodge.width=0.9)) +\n",
    "labs(x=\"\", y=\"% Attraction Errors\", fill=\"\") +\n",
    "theme_bw() +\n",
    "scale_fill_manual(labels=c(\"Subj-Attr Mismatch \\n  ...singers...\", \n",
    "                        \"Subj-Attr Match \\n ...singer...\"), values=pallete) +\n",
    "scale_x_discrete(labels=c(\"PP \\n ...from...\", \"RC\\n ...that...\")) +\n",
    "scale_y_continuous(labels=scales::percent) +\n",
    "coord_cartesian(ylim = c(0,1.0)) +\n",
    "theme(axis.text.x=element_text(size=20), axis.text.y=element_text(size=20),\n",
    "      axis.title.y=element_text(size=20),\n",
    "      strip.text=element_text(size=20), legend.text=element_text(size=20))\n",
    "legend <- cowplot::get_legend(f)\n",
    "f <-f + theme(legend.position = \"none\")\n",
    "f\n",
    "ggsave(\"Bock92_lm_ccg_max.png\", width=4, height=4)"
   ]
  },
  {
   "cell_type": "code",
   "execution_count": 43,
   "metadata": {
    "scrolled": false
   },
   "outputs": [
    {
     "data": {
      "image/png": "[encoded data removed]",
      "text/plain": [
       "plot without title"
      ]
     },
     "metadata": {
      "image/png": {
       "height": 240,
       "width": 240
      },
      "text/plain": {
       "height": 240,
       "width": 240
      }
     },
     "output_type": "display_data"
    }
   ],
   "source": [
    "options(repr.plot.width=4, repr.plot.height=4)\n",
    "f <- ggplot(subset(b92_df, type==\"j\"), aes(x=clause, fill=match, y=max/100)) + \n",
    "geom_bar(stat=\"summary\", position=\"dodge\", fun=mean) + \n",
    "geom_point(data=subset(means, type==\"j\"), shape=16, size=2,\n",
    "           position=position_jitterdodge(jitter.height=0, jitter.width = 0.1, dodge.width=0.9)) +\n",
    "labs(x=\"\", y=\"% Attraction Errors\", fill=\"\") +\n",
    "theme_bw() +\n",
    "scale_fill_manual(labels=c(\"Subj-Attr Mismatch \\n  ...singers...\", \n",
    "                        \"Subj-Attr Match \\n ...singer...\"), values=pallete) +\n",
    "scale_x_discrete(labels=c(\"PP \\n ...from...\", \"RC\\n ...that...\")) +\n",
    "scale_y_continuous(labels=scales::percent) +\n",
    "coord_cartesian(ylim = c(0,1.0)) +\n",
    "theme(axis.text.x=element_text(size=20), axis.text.y=element_text(size=20),\n",
    "      axis.title.y=element_text(size=20),\n",
    "      strip.text=element_text(size=20), legend.text=element_text(size=20))\n",
    "legend <- cowplot::get_legend(f)\n",
    "f <-f + theme(legend.position = \"none\")\n",
    "f\n",
    "ggsave(\"Bock92_joint_ccg_max.png\", width=4, height=4)"
   ]
  },
  {
   "cell_type": "code",
   "execution_count": 44,
   "metadata": {},
   "outputs": [
    {
     "data": {
      "text/html": [
       "<strong>png:</strong> 2"
      ],
      "text/latex": [
       "\\textbf{png:} 2"
      ],
      "text/markdown": [
       "**png:** 2"
      ],
      "text/plain": [
       "png \n",
       "  2 "
      ]
     },
     "metadata": {},
     "output_type": "display_data"
    }
   ],
   "source": [
    "options(repr.plot.width=3, repr.plot.height=2)\n",
    "grid.newpage()\n",
    "png(\"Bock92_legend.png\", width=3, height=2, units=\"in\", res=300)\n",
    "grid.draw(legend) \n",
    "dev.off()"
   ]
  },
  {
   "cell_type": "code",
   "execution_count": 45,
   "metadata": {},
   "outputs": [
    {
     "data": {
      "image/png": "[encoded data removed]",
      "text/plain": [
       "plot without title"
      ]
     },
     "metadata": {
      "image/png": {
       "height": 240,
       "width": 240
      },
      "text/plain": {
       "height": 240,
       "width": 240
      }
     },
     "output_type": "display_data"
    }
   ],
   "source": [
    "options(repr.plot.width=4, repr.plot.height=4)\n",
    "\n",
    "\n",
    "b92_human <- data.frame(mod=c(\"PP\", \"PP\", \"PP\", \"PP\", \"RC\", \"RC\", \"RC\",\"RC\"),\n",
    "                        attr=c(\"Mismatch\", \"Mismatch\", \"Match\", \"Match\", \"Match\", \"Match\", \"Mismatch\", \"Mismatch\"),\n",
    "                        local=c(\"S\",\"P\", \"S\", \"P\", \"S\", \"P\", \"S\",\"P\"),\n",
    "                        err=c(8/188, 29/169, 3/187,6/180, 1/209, 3/199, 3/180, 22/189)\n",
    "                       )\n",
    "b92_human$attr <- with(b92_human, factor(attr, levels=rev(levels(attr))))\n",
    "\n",
    "\n",
    "ggplot(data=b92_human, aes(x=mod, y=err, fill=attr)) +\n",
    "geom_bar(stat=\"identity\", position=\"dodge\") +\n",
    "labs(x=\"\", y=\"% Attraction Errors\", fill=\"\") +\n",
    "theme_bw() +\n",
    "scale_fill_manual(labels=c(\"Subj-Attr Mismatch \\n  ...singers...\", \n",
    "                        \"Subj-Attr Match \\n ...singer...\"), values=pallete) +\n",
    "scale_x_discrete(labels=c(\"PP \\n ...from...\", \"RC\\n ...that...\")) +\n",
    "scale_y_continuous(labels=scales::percent) +\n",
    "theme(axis.text.x=element_text(size=20), axis.text.y=element_text(size=20),\n",
    "      axis.title.y=element_text(size=20),\n",
    "      strip.text=element_text(size=20), legend.text=element_text(size=20))+\n",
    "coord_cartesian(ylim = c(0,0.4)) +\n",
    "theme(legend.position = \"none\") \n",
    "\n",
    "ggsave(\"Bock92_human.png\", width=4, height=4)"
   ]
  },
  {
   "cell_type": "code",
   "execution_count": 46,
   "metadata": {},
   "outputs": [
    {
     "name": "stderr",
     "output_type": "stream",
     "text": [
      "Warning message:\n",
      "\"Ignoring unknown parameters: fun.y\"\n",
      "No summary function supplied, defaulting to `mean_se()`\n",
      "\n",
      "No summary function supplied, defaulting to `mean_se()`\n",
      "\n"
     ]
    },
    {
     "data": {
      "image/png": "[encoded data removed]",
      "text/plain": [
       "plot without title"
      ]
     },
     "metadata": {
      "image/png": {
       "height": 240,
       "width": 240
      },
      "text/plain": {
       "height": 240,
       "width": 240
      }
     },
     "output_type": "display_data"
    }
   ],
   "source": [
    "ggplot(subset(b92_df, type==\"l\"), aes(x=subj, fill=match, y=sample)) + \n",
    "geom_bar(stat=\"summary\", position=\"dodge\", fun.y = \"mean\") + \n",
    "geom_point(data=subset(means_na, type==\"lstm\"), shape=16, size=2,\n",
    "           position=position_jitterdodge(jitter.height=0, jitter.width = 0.1, dodge.width=0.9)) +\n",
    "labs(x=\"Subject Number\", y=\"% Attraction Errors\", fill=\"Subject-Attractor #\") +\n",
    "scale_fill_hue(labels=c(\"Mismatch\", \"Match\")) +\n",
    "coord_cartesian(ylim = c(0,100)) +\n",
    "ylim(0,100) \n",
    "ggsave(\"B92_na_lstm.png\", width=5, height=4)"
   ]
  },
  {
   "cell_type": "code",
   "execution_count": 47,
   "metadata": {},
   "outputs": [
    {
     "data": {
      "text/plain": [
       " Family: beta  ( logit )\n",
       "Formula:          sample/100 ~ subj * match * clause + (1 | item) + (1 | model)\n",
       "Data: subset(b92_df, type == \"l\")\n",
       "\n",
       "     AIC      BIC   logLik deviance df.resid \n",
       "  -971.4   -914.7    496.7   -993.4     1269 \n",
       "\n",
       "Random effects:\n",
       "\n",
       "Conditional model:\n",
       " Groups Name        Variance Std.Dev.\n",
       " item   (Intercept) 0.01452  0.1205  \n",
       " model  (Intercept) 0.00457  0.0676  \n",
       "Number of obs: 1280, groups:  item, 32; model, 5\n",
       "\n",
       "Overdispersion parameter for beta family (): 4.74 \n",
       "\n",
       "Conditional model:\n",
       "                          Estimate Std. Error z value Pr(>|z|)    \n",
       "(Intercept)               0.472161   0.075999   6.213 5.21e-10 ***\n",
       "subjs                    -0.037801   0.093677  -0.404 0.686559    \n",
       "matchTRUE                -1.517389   0.097346 -15.588  < 2e-16 ***\n",
       "clauserc                  0.361421   0.094997   3.805 0.000142 ***\n",
       "subjs:matchTRUE          -0.101624   0.136902  -0.742 0.457899    \n",
       "subjs:clauserc           -0.382291   0.133358  -2.867 0.004148 ** \n",
       "matchTRUE:clauserc       -0.360006   0.136966  -2.628 0.008578 ** \n",
       "subjs:matchTRUE:clauserc -0.008664   0.195245  -0.044 0.964604    \n",
       "---\n",
       "Signif. codes:  0 '***' 0.001 '**' 0.01 '*' 0.05 '.' 0.1 ' ' 1"
      ]
     },
     "metadata": {},
     "output_type": "display_data"
    },
    {
     "data": {
      "text/plain": [
       " Family: beta  ( logit )\n",
       "Formula:          sample/100 ~ subj * match * clause + (1 | item) + (1 | model)\n",
       "Data: subset(b92_df, type == \"j\")\n",
       "\n",
       "     AIC      BIC   logLik deviance df.resid \n",
       " -1136.3  -1079.6    579.1  -1158.3     1269 \n",
       "\n",
       "Random effects:\n",
       "\n",
       "Conditional model:\n",
       " Groups Name        Variance  Std.Dev. \n",
       " item   (Intercept) 1.567e-02 0.1251903\n",
       " model  (Intercept) 6.152e-10 0.0000248\n",
       "Number of obs: 1280, groups:  item, 32; model, 5\n",
       "\n",
       "Overdispersion parameter for beta family (): 5.55 \n",
       "\n",
       "Conditional model:\n",
       "                          Estimate Std. Error z value Pr(>|z|)    \n",
       "(Intercept)               0.711828   0.067355  10.568  < 2e-16 ***\n",
       "subjs                    -0.433655   0.088496  -4.900 9.57e-07 ***\n",
       "matchTRUE                -1.792146   0.092978 -19.275  < 2e-16 ***\n",
       "clauserc                  0.212536   0.090735   2.342   0.0192 *  \n",
       "subjs:matchTRUE          -0.056304   0.131572  -0.428   0.6687    \n",
       "subjs:clauserc           -0.194830   0.125876  -1.548   0.1217    \n",
       "matchTRUE:clauserc       -0.002046   0.129722  -0.016   0.9874    \n",
       "subjs:matchTRUE:clauserc  0.012002   0.185657   0.065   0.9485    \n",
       "---\n",
       "Signif. codes:  0 '***' 0.001 '**' 0.01 '*' 0.05 '.' 0.1 ' ' 1"
      ]
     },
     "metadata": {},
     "output_type": "display_data"
    },
    {
     "data": {
      "text/plain": [
       " Family: beta  ( logit )\n",
       "Formula:          \n",
       "sample/100 ~ subj * match * clause * type + (1 | item) + (1 |      model)\n",
       "Data: b92_df\n",
       "\n",
       "     AIC      BIC   logLik deviance df.resid \n",
       " -2122.7  -2011.6   1080.3  -2160.7     2541 \n",
       "\n",
       "Random effects:\n",
       "\n",
       "Conditional model:\n",
       " Groups Name        Variance Std.Dev.\n",
       " item   (Intercept) 0.020241 0.14227 \n",
       " model  (Intercept) 0.002198 0.04688 \n",
       "Number of obs: 2560, groups:  item, 32; model, 10\n",
       "\n",
       "Overdispersion parameter for beta family (): 5.15 \n",
       "\n",
       "Conditional model:\n",
       "                                 Estimate Std. Error z value Pr(>|z|)    \n",
       "(Intercept)                     7.007e-01  7.304e-02   9.593  < 2e-16 ***\n",
       "subjs                          -4.267e-01  9.104e-02  -4.687 2.78e-06 ***\n",
       "matchTRUE                      -1.764e+00  9.486e-02 -18.596  < 2e-16 ***\n",
       "clauserc                        2.066e-01  9.311e-02   2.219  0.02651 *  \n",
       "typel                          -2.222e-01  9.612e-02  -2.312  0.02080 *  \n",
       "subjs:matchTRUE                -5.250e-02  1.347e-01  -0.390  0.69670    \n",
       "subjs:clauserc                 -1.890e-01  1.294e-01  -1.460  0.14419    \n",
       "matchTRUE:clauserc             -3.735e-05  1.331e-01   0.000  0.99978    \n",
       "subjs:typel                     3.890e-01  1.284e-01   3.030  0.00245 ** \n",
       "matchTRUE:typel                 2.196e-01  1.327e-01   1.655  0.09799 .  \n",
       "clauserc:typel                  1.602e-01  1.308e-01   1.224  0.22092    \n",
       "subjs:matchTRUE:clauserc        4.847e-03  1.903e-01   0.025  0.97968    \n",
       "subjs:matchTRUE:typel          -5.294e-02  1.889e-01  -0.280  0.77932    \n",
       "subjs:clauserc:typel           -1.972e-01  1.828e-01  -1.079  0.28072    \n",
       "matchTRUE:clauserc:typel       -3.637e-01  1.881e-01  -1.933  0.05322 .  \n",
       "subjs:matchTRUE:clauserc:typel -2.329e-02  2.687e-01  -0.087  0.93092    \n",
       "---\n",
       "Signif. codes:  0 '***' 0.001 '**' 0.01 '*' 0.05 '.' 0.1 ' ' 1"
      ]
     },
     "metadata": {},
     "output_type": "display_data"
    }
   ],
   "source": [
    "b92_lm <- glmmTMB(data=subset(b92_df, type==\"l\"), \n",
    "                  sample/100 ~ subj * match * clause + (1 | item) + (1 | model),\n",
    "                 family=beta_family())\n",
    "summary(b92_lm)\n",
    "\n",
    "b92_j <- glmmTMB(data=subset(b92_df, type==\"j\"), \n",
    "                  sample/100 ~ subj * match * clause + (1 | item) + (1 | model),\n",
    "                 family=beta_family())\n",
    "summary(b92_j)\n",
    "\n",
    "\n",
    "b92 <- glmmTMB(data=b92_df, \n",
    "                  sample/100 ~ subj * match * clause * type + (1 | item) + (1 | model),\n",
    "                 family=beta_family())\n",
    "\n",
    "summary(b92)"
   ]
  },
  {
   "cell_type": "code",
   "execution_count": 48,
   "metadata": {},
   "outputs": [
    {
     "ename": "ERROR",
     "evalue": "Error: Invalid grouping factor specification, item\n",
     "output_type": "error",
     "traceback": [
      "Error: Invalid grouping factor specification, item\nTraceback:\n",
      "1. glmmTMB(data = subset(b92_df, type == \"lstm\" & clause == \"rc\"), \n .     sample/100 ~ match + (1 | item) + (1 | model), family = beta_family())",
      "2. mkTMBStruc(formula, ziformula, dispformula, combForm, mf, fr, \n .     yobs = y, respCol, weights, contrasts = contrasts, family = family, \n .     se = se, call = call, verbose = verbose, REML = REML, start = start, \n .     map = map, sparseX = sparseX)",
      "3. getXReTrms(formula, mf, fr, contrasts = contrasts, sparse = sparseX[[\"cond\"]])",
      "4. mkReTrms(findbars(RHSForm(formula)), fr, reorder.terms = FALSE)",
      "5. lapply(bars, mkBlist, fr, drop.unused.levels, reorder.vars = reorder.vars)",
      "6. FUN(X[[i]], ...)",
      "7. stop(\"Invalid grouping factor specification, \", deparse(x[[3]]), \n .     call. = FALSE)"
     ]
    }
   ],
   "source": [
    "\n",
    "b92_lm <- glmmTMB(data=subset(b92_df, type==\"lstm\" & clause==\"rc\"), sample/100 ~ match + (1 | item) + (1 | model), family=beta_family())\n",
    "lstm_rc_eff <- -summary(b92_lm)$coeff$cond[2,1]\n",
    "lstm_rc_se <- summary(b92_lm)$coeff$cond[2,2]\n",
    "\n",
    "b92_lm <- glmmTMB(data=subset(b92_df, type==\"lstm\" & clause==\"prop\"), sample/100 ~ match + (1 | item) + (1 | model), family=beta_family())\n",
    "lstm_pp_eff <- -summary(b92_lm)$coeff$cond[2,1]\n",
    "lstm_pp_se <- summary(b92_lm)$coeff$cond[2,2]\n",
    "\n",
    "b92_effs <- data.frame(clause=c(\"RC\",\"PP\"), \n",
    "                       eff=c(lstm_rc_eff, lstm_pp_eff),\n",
    "                       se=c(lstm_rc_se, lstm_pp_se))\n",
    "b92_effs"
   ]
  },
  {
   "cell_type": "code",
   "execution_count": null,
   "metadata": {},
   "outputs": [],
   "source": [
    "ggplot(b92_effs, aes(y=eff, x = clause, color=clause)) + \n",
    "geom_point(stat=\"identity\", size=3) +\n",
    "geom_errorbar(aes(ymax=se+eff, ymin=-se+eff), width=0.5) +\n",
    "theme(legend.position = \"none\") +\n",
    "labs(x = \"Subject Modifier Type\", y = expression(paste(\"Size of Attraction Effect (\", beta, \")\")))\n",
    "\n",
    "expression(beta)\n",
    "b92_effs$eff\n",
    "\n",
    "ggsave(\"B92_effectsize.png\")"
   ]
  },
  {
   "cell_type": "markdown",
   "metadata": {},
   "source": [
    "# Haskell & Macdonald 2011"
   ]
  },
  {
   "cell_type": "code",
   "execution_count": null,
   "metadata": {},
   "outputs": [],
   "source": [
    "hm_df <- read.csv(\"../evalsets/HaskellMacdonald2011/items.ptb.csv.reformat\")\n",
    "\n",
    "hm_df$type <- substr(hm_df$model,5, 5)\n",
    "hm_df"
   ]
  },
  {
   "cell_type": "code",
   "execution_count": null,
   "metadata": {},
   "outputs": [],
   "source": [
    "output <- hm_df %>% group_by(\"Model Type\"=type, \"Order\"=condition) %>% summarize(\"Sample\"=mean(sample), \"MaxProb\" = mean(max))\n",
    "\n",
    "output\n",
    "\n",
    "print.xtable(xtable(output), file=\"HaskellTable.tex\", floating=FALSE)"
   ]
  },
  {
   "cell_type": "code",
   "execution_count": null,
   "metadata": {
    "scrolled": true
   },
   "outputs": [],
   "source": [
    "options(repr.plot.width=5, repr.plot.height=4)\n",
    "\n",
    "\n",
    "means <- hm_df %>% group_by(model, condition, type) %>% summarize(sample = mean(sample), max = mean(max))\n",
    "\n",
    "\n",
    "ggplot(subset(hm_df, type==\"l\"), aes(x=condition, y=sample/100)) + \n",
    "geom_bar(stat=\"summary\", position=\"dodge\", fun=mean, fill=\"#566e4b\", width=0.7) + \n",
    "geom_point(data=subset(means, type==\"lstm\"), shape=16, size=2) +\n",
    "labs(x=\"\", y=\"% Plural Agreement\") +\n",
    "theme_bw() + \n",
    "scale_x_discrete(labels=c(\"boys... girl\", \"boy... girls\")) + \n",
    "scale_y_continuous(labels=scales::percent) +\n",
    "coord_cartesian(ylim = c(0,1)) +\n",
    "theme(axis.text.x=element_text(size=20), axis.text.y=element_text(size=20),\n",
    "      axis.title.y=element_text(size=20),\n",
    "      strip.text=element_text(size=20), legend.text=element_text(size=20))+\n",
    "theme(legend.position = \"none\")\n",
    "\n",
    "ggsave(\"Haskell_lm_ccg.png\", width= 5, height = 4)"
   ]
  },
  {
   "cell_type": "code",
   "execution_count": null,
   "metadata": {
    "scrolled": true
   },
   "outputs": [],
   "source": [
    "options(repr.plot.width=5, repr.plot.height=4)\n",
    "\n",
    "\n",
    "means <- hm_df %>% group_by(model, condition, type) %>% summarize(sample = mean(sample), max = mean(max))\n",
    "\n",
    "\n",
    "ggplot(subset(hm_df, type==\"j\"), aes(x=condition, y=sample/100)) + \n",
    "geom_bar(stat=\"summary\", position=\"dodge\", fun.y = \"mean\", fill=\"#566e4b\", width=0.7) + \n",
    "geom_point(data=subset(means, type==\"lstm\"), shape=16, size=2) +\n",
    "labs(x=\"\", y=\"% Plural Agreement\") +\n",
    "theme_bw() + \n",
    "scale_x_discrete(labels=c(\"boys... girl\", \"boy... girls\")) + \n",
    "scale_y_continuous(labels=scales::percent) +\n",
    "coord_cartesian(ylim = c(0,1)) +\n",
    "theme(axis.text.x=element_text(size=20), axis.text.y=element_text(size=20),\n",
    "      axis.title.y=element_text(size=20),\n",
    "      strip.text=element_text(size=20), legend.text=element_text(size=20))+\n",
    "theme(legend.position = \"none\")\n",
    "\n",
    "ggsave(\"Haskell_joint_ccg.png\", width= 5, height = 4)"
   ]
  },
  {
   "cell_type": "code",
   "execution_count": null,
   "metadata": {
    "scrolled": true
   },
   "outputs": [],
   "source": [
    "options(repr.plot.width=5, repr.plot.height=4)\n",
    "\n",
    "\n",
    "means <- hm_df %>% group_by(model, condition, type) %>% summarize(sample = mean(sample), max = mean(max))\n",
    "\n",
    "\n",
    "ggplot(subset(hm_df, type==\"l\"), aes(x=condition, y=max/100)) + \n",
    "geom_bar(stat=\"summary\", position=\"dodge\", fun=mean, fill=\"#566e4b\", width=0.7) + \n",
    "geom_point(data=subset(means, type==\"lstm\"), shape=16, size=2) +\n",
    "labs(x=\"\", y=\"% Plural Agreement\") +\n",
    "theme_bw() + \n",
    "scale_x_discrete(labels=c(\"boys... girl\", \"boy... girls\")) + \n",
    "scale_y_continuous(labels=scales::percent) +\n",
    "coord_cartesian(ylim = c(0,1)) +\n",
    "theme(axis.text.x=element_text(size=20), axis.text.y=element_text(size=20),\n",
    "      axis.title.y=element_text(size=20),\n",
    "      strip.text=element_text(size=20), legend.text=element_text(size=20))+\n",
    "theme(legend.position = \"none\")\n",
    "\n",
    "ggsave(\"Haskell_lm_ccg_max.png\", width= 5, height = 4)"
   ]
  },
  {
   "cell_type": "code",
   "execution_count": null,
   "metadata": {
    "scrolled": true
   },
   "outputs": [],
   "source": [
    "options(repr.plot.width=5, repr.plot.height=4)\n",
    "\n",
    "\n",
    "means <- hm_df %>% group_by(model, condition, type) %>% summarize(sample = mean(sample), max = mean(max))\n",
    "\n",
    "\n",
    "ggplot(subset(hm_df, type==\"j\"), aes(x=condition, y=max/100)) + \n",
    "geom_bar(stat=\"summary\", position=\"dodge\", fun.y = \"mean\", fill=\"#566e4b\", width=0.7) + \n",
    "geom_point(data=subset(means, type==\"lstm\"), shape=16, size=2) +\n",
    "labs(x=\"\", y=\"% Plural Agreement\") +\n",
    "theme_bw() + \n",
    "scale_x_discrete(labels=c(\"boys... girl\", \"boy... girls\")) + \n",
    "scale_y_continuous(labels=scales::percent) +\n",
    "coord_cartesian(ylim = c(0,1)) +\n",
    "theme(axis.text.x=element_text(size=20), axis.text.y=element_text(size=20),\n",
    "      axis.title.y=element_text(size=20),\n",
    "      strip.text=element_text(size=20), legend.text=element_text(size=20))+\n",
    "theme(legend.position = \"none\")\n",
    "\n",
    "ggsave(\"Haskell_joint_ccg_max.png\", width= 5, height = 4)"
   ]
  },
  {
   "cell_type": "code",
   "execution_count": null,
   "metadata": {},
   "outputs": [],
   "source": [
    "options(repr.plot.width=5, repr.plot.height=4)\n",
    "\n",
    "\n",
    "hm_human <- data.frame(order=c(\"SP\", \"PS\"),\n",
    "                            plural=c(98, 28)/100)\n",
    "\n",
    "ggplot(hm_human, aes(x=order, y=plural)) +\n",
    "labs(x=\"Ordering of # features in disjunction\", y=\"% Plural Agreement\") +\n",
    "labs(x=\"\", y=\"% Plural Agreement\") +\n",
    "scale_x_discrete(labels=c(\"boys... girl\", \"boy... girls\")) + \n",
    "scale_y_continuous(labels=scales::percent) +\n",
    "coord_cartesian(ylim = c(0,1)) +\n",
    "theme_bw() +\n",
    "theme(axis.text.x=element_text(size=20), axis.text.y=element_text(size=20),\n",
    "      axis.title.y=element_text(size=20),\n",
    "      strip.text=element_text(size=20), legend.text=element_text(size=20))+\n",
    "theme(legend.position = \"none\") +\n",
    "geom_bar(stat=\"identity\", fill=\"#566e4b\", width=0.7)\n",
    "\n",
    "ggsave(\"haskell_human.png\", width=5, height=4)"
   ]
  },
  {
   "cell_type": "code",
   "execution_count": null,
   "metadata": {},
   "outputs": [],
   "source": [
    "hm_lm <- glmmTMB(data=subset(hm_df, hm_df$type == \"l\"), \n",
    "                 sample/100 ~ condition  + (1|item) + (1 | model),\n",
    "                family=beta_family())\n",
    "\n",
    "summary(hm_lm)\n",
    "\n",
    "hm_lm <- glmmTMB(data=subset(hm_df, hm_df$type == \"j\"), \n",
    "                 sample/100 ~ condition  + (1|item) + (1 | model),\n",
    "                family=beta_family())\n",
    "\n",
    "summary(hm_lm)"
   ]
  },
  {
   "cell_type": "markdown",
   "metadata": {},
   "source": [
    "# Franck 2002"
   ]
  },
  {
   "cell_type": "code",
   "execution_count": null,
   "metadata": {
    "scrolled": true
   },
   "outputs": [],
   "source": [
    "franck_df <- read.csv('../evalsets/Franck2002/items.ptb.csv.reformat')\n",
    "\n",
    "franck_df <- tidyr::separate(franck_df, condition, c(\"subj\", \"inter\", \"local\"), sep=1:3)\n",
    "franck_df$sample <- 100 - franck_df$sample\n",
    "franck_df$max <- 100 - franck_df$max\n",
    "\n",
    "franck_df$inter_match <- franck_df$subj == franck_df$inter\n",
    "franck_df$local_match <- franck_df$subj == franck_df$local\n",
    "franck_df$type = substr(franck_df$model, 5, 5)\n",
    "\n",
    "\n",
    "franck_lm_df = subset(franck_df, substr(franck_df$model, 5,5) == \"l\")\n",
    "franck_joint_df = subset(franck_df, substr(franck_df$model, 5,5) == \"j\")\n",
    "summary(franck_lm_df)\n"
   ]
  },
  {
   "cell_type": "code",
   "execution_count": null,
   "metadata": {
    "scrolled": true
   },
   "outputs": [],
   "source": [
    "means_lm <- franck_lm_df %>% group_by(model, inter_match, local_match) %>% summarize(sample = mean(sample), max = mean(max))\n",
    "means_joint <- franck_joint_df %>% group_by(model, inter_match, local_match) %>% summarize(sample = mean(sample), max = mean(max))\n"
   ]
  },
  {
   "cell_type": "code",
   "execution_count": 49,
   "metadata": {
    "scrolled": false
   },
   "outputs": [
    {
     "data": {
      "image/png": "[encoded data removed]",
      "text/plain": [
       "plot without title"
      ]
     },
     "metadata": {
      "image/png": {
       "height": 240,
       "width": 240
      },
      "text/plain": {
       "height": 240,
       "width": 240
      }
     },
     "output_type": "display_data"
    }
   ],
   "source": [
    "library(repr)\n",
    "options(repr.plot.width=4, repr.plot.height=4)\n",
    "\n",
    "\n",
    "plt <- ggplot(franck_lm_df, aes(x=inter_match, fill=local_match, y=sample/100)) +\n",
    "geom_bar(stat=\"summary\", position=\"dodge\", fun=mean) + \n",
    "geom_point(data=means_lm, shape=16, size=2,\n",
    "           position=position_jitterdodge(jitter.height=0, jitter.width = 0.1, dodge.width=0.9)) + \n",
    "#stat_summary(fun.data = mean_se, geom = \"errorbar\", position=\"dodge\", color=\"black\") +\n",
    "labs(x=\"Attractor 1 (President)\", \n",
    "     fill=\"Attractor 2 (Company)\", y=\"% Attraction Errors\") +\n",
    "scale_fill_manual(labels=c(\"Mismatch\", \n",
    "                        \"Match\"), values=pallete) +\n",
    "scale_x_discrete(labels=c(\"Mismatch\", \n",
    "                          \"Match\")) + \n",
    "scale_y_continuous(labels=scales::percent) +\n",
    "coord_cartesian(ylim = c(0,1.0)) +\n",
    "theme_bw() +\n",
    "theme(axis.text.x=element_text(size=19), axis.text.y=element_text(size=19),\n",
    "      axis.title.y=element_text(size=20), axis.title.x=element_text(size=20),\n",
    "      strip.text=element_text(size=20), legend.text=element_text(size=19))\n",
    "legend <- cowplot::get_legend(plt)\n",
    "plt <- plt + theme(legend.position = \"none\") \n",
    "\n",
    "plt\n",
    "\n",
    "ggsave(\"Franck_lm_ccg.png\", width = 4, height = 4)"
   ]
  },
  {
   "cell_type": "code",
   "execution_count": 50,
   "metadata": {
    "scrolled": false
   },
   "outputs": [
    {
     "data": {
      "image/png": "[encoded data removed]",
      "text/plain": [
       "plot without title"
      ]
     },
     "metadata": {
      "image/png": {
       "height": 240,
       "width": 240
      },
      "text/plain": {
       "height": 240,
       "width": 240
      }
     },
     "output_type": "display_data"
    }
   ],
   "source": [
    "library(repr)\n",
    "options(repr.plot.width=4, repr.plot.height=4)\n",
    "\n",
    "\n",
    "plt <- ggplot(franck_joint_df, aes(x=inter_match, fill=local_match, y=sample/100)) +\n",
    "geom_bar(stat=\"summary\", position=\"dodge\", fun=mean) + \n",
    "geom_point(data=means_joint, shape=16, size=2,\n",
    "           position=position_jitterdodge(jitter.height=0, jitter.width = 0.1, dodge.width=0.9)) + \n",
    "#stat_summary(fun.data = mean_se, geom = \"errorbar\", position=\"dodge\", color=\"black\") +\n",
    "labs(x=\"Attractor 1 (President)\", \n",
    "     fill=\"Attractor 2 (Company)\", y=\"% Attraction Errors\") +\n",
    "scale_fill_manual(labels=c(\"Mismatch\", \n",
    "                        \"Match\"), values=pallete) +\n",
    "scale_x_discrete(labels=c(\"Mismatch\", \n",
    "                          \"Match\")) + \n",
    "scale_y_continuous(labels=scales::percent) +\n",
    "coord_cartesian(ylim = c(0,1.0)) +\n",
    "theme_bw() +\n",
    "theme(axis.text.x=element_text(size=19), axis.text.y=element_text(size=19),\n",
    "      axis.title.y=element_text(size=20), axis.title.x=element_text(size=20),\n",
    "      strip.text=element_text(size=20), legend.text=element_text(size=19))\n",
    "legend <- cowplot::get_legend(plt)\n",
    "plt <- plt + theme(legend.position = \"none\") \n",
    "\n",
    "plt\n",
    "\n",
    "ggsave(\"Franck_joint_ccg.png\", width = 4, height = 4)"
   ]
  },
  {
   "cell_type": "code",
   "execution_count": 51,
   "metadata": {
    "scrolled": false
   },
   "outputs": [
    {
     "data": {
      "image/png": "[encoded data removed]",
      "text/plain": [
       "plot without title"
      ]
     },
     "metadata": {
      "image/png": {
       "height": 240,
       "width": 240
      },
      "text/plain": {
       "height": 240,
       "width": 240
      }
     },
     "output_type": "display_data"
    }
   ],
   "source": [
    "library(repr)\n",
    "options(repr.plot.width=4, repr.plot.height=4)\n",
    "\n",
    "\n",
    "plt <- ggplot(franck_lm_df, aes(x=inter_match, fill=local_match, y=max/100)) +\n",
    "geom_bar(stat=\"summary\", position=\"dodge\", fun=mean) + \n",
    "geom_point(data=means_lm, shape=16, size=2,\n",
    "           position=position_jitterdodge(jitter.height=0, jitter.width = 0.1, dodge.width=0.9)) + \n",
    "#stat_summary(fun.data = mean_se, geom = \"errorbar\", position=\"dodge\", color=\"black\") +\n",
    "labs(x=\"Attractor 1 (President)\", \n",
    "     fill=\"Attractor 2 (Company)\", y=\"% Attraction Errors\") +\n",
    "scale_fill_manual(labels=c(\"Mismatch\", \n",
    "                        \"Match\"), values=pallete) +\n",
    "scale_x_discrete(labels=c(\"Mismatch\", \n",
    "                          \"Match\")) + \n",
    "scale_y_continuous(labels=scales::percent) +\n",
    "coord_cartesian(ylim = c(0,1.0)) +\n",
    "theme_bw() +\n",
    "theme(axis.text.x=element_text(size=19), axis.text.y=element_text(size=19),\n",
    "      axis.title.y=element_text(size=20), axis.title.x=element_text(size=20),\n",
    "      strip.text=element_text(size=20), legend.text=element_text(size=19))\n",
    "legend <- cowplot::get_legend(plt)\n",
    "plt <- plt + theme(legend.position = \"none\") \n",
    "\n",
    "plt\n",
    "\n",
    "ggsave(\"Franck_lm_ccg_max.png\", width = 4, height = 4)"
   ]
  },
  {
   "cell_type": "code",
   "execution_count": 52,
   "metadata": {
    "scrolled": false
   },
   "outputs": [
    {
     "data": {
      "image/png": "[encoded data removed]",
      "text/plain": [
       "plot without title"
      ]
     },
     "metadata": {
      "image/png": {
       "height": 240,
       "width": 240
      },
      "text/plain": {
       "height": 240,
       "width": 240
      }
     },
     "output_type": "display_data"
    }
   ],
   "source": [
    "library(repr)\n",
    "options(repr.plot.width=4, repr.plot.height=4)\n",
    "\n",
    "\n",
    "plt <- ggplot(franck_joint_df, aes(x=inter_match, fill=local_match, y=max/100)) +\n",
    "geom_bar(stat=\"summary\", position=\"dodge\", fun=mean) + \n",
    "geom_point(data=means_joint, shape=16, size=2,\n",
    "           position=position_jitterdodge(jitter.height=0, jitter.width = 0.1, dodge.width=0.9)) + \n",
    "#stat_summary(fun.data = mean_se, geom = \"errorbar\", position=\"dodge\", color=\"black\") +\n",
    "labs(x=\"Attractor 1 (President)\", \n",
    "     fill=\"Attractor 2 (Company)\", y=\"% Attraction Errors\") +\n",
    "scale_fill_manual(labels=c(\"Mismatch\", \n",
    "                        \"Match\"), values=pallete) +\n",
    "scale_x_discrete(labels=c(\"Mismatch\", \n",
    "                          \"Match\")) + \n",
    "scale_y_continuous(labels=scales::percent) +\n",
    "coord_cartesian(ylim = c(0,1.0)) +\n",
    "theme_bw() +\n",
    "theme(axis.text.x=element_text(size=19), axis.text.y=element_text(size=19),\n",
    "      axis.title.y=element_text(size=20), axis.title.x=element_text(size=20),\n",
    "      strip.text=element_text(size=20), legend.text=element_text(size=19),\n",
    "      legend.title=element_text(size=20))\n",
    "legend <- cowplot::get_legend(plt)\n",
    "plt <- plt + theme(legend.position = \"none\") \n",
    "\n",
    "plt\n",
    "\n",
    "ggsave(\"Franck_joint_ccg_max.png\", width = 4, height = 4)"
   ]
  },
  {
   "cell_type": "code",
   "execution_count": 53,
   "metadata": {
    "scrolled": true
   },
   "outputs": [
    {
     "data": {
      "text/html": [
       "<strong>png:</strong> 2"
      ],
      "text/latex": [
       "\\textbf{png:} 2"
      ],
      "text/markdown": [
       "**png:** 2"
      ],
      "text/plain": [
       "png \n",
       "  2 "
      ]
     },
     "metadata": {},
     "output_type": "display_data"
    },
    {
     "data": {
      "image/png": "[encoded data removed]",
      "text/plain": [
       "plot without title"
      ]
     },
     "metadata": {
      "image/png": {
       "height": 120,
       "width": 180
      },
      "text/plain": {
       "height": 120,
       "width": 180
      }
     },
     "output_type": "display_data"
    }
   ],
   "source": [
    "options(repr.plot.width=3, repr.plot.height=2)\n",
    "grid.newpage()\n",
    "png(\"Franck_legend.png\", width=3, height=2, units=\"in\", res=300)\n",
    "grid.draw(legend) \n",
    "dev.off()\n",
    "grid.draw(legend)"
   ]
  },
  {
   "cell_type": "code",
   "execution_count": null,
   "metadata": {},
   "outputs": [],
   "source": [
    "options(repr.plot.width=4, repr.plot.height=4)\n",
    "\n",
    "\n",
    "franck_human <- data.frame(subj=rep(c(\"S\",\"P\"), each=4),\n",
    "                           inter=rep(c(\"S\", \"S\", \"P\", \"P\"), times=2),\n",
    "                           local=rep(c(\"S\", \"P\"), times=4),\n",
    "                           err=c(1.3, 0, 9.8, 4.5, 5.8, 9.4, 3.1, 1.3)/100)\n",
    "\n",
    "franck_human$inter_match <- franck_human$inter == franck_human$subj\n",
    "franck_human$local_match <- franck_human$local == franck_human$subj\n",
    "\n",
    "\n",
    "ggplot(franck_human, aes(x=inter_match, fill=local_match, y=err)) +\n",
    "geom_bar(stat=\"identity\", position=\"dodge\") + \n",
    "labs(x=\"\", \n",
    "     fill=\"\", y=\"% Attraction Errors\") +\n",
    "theme(axis.text=element_text(size=10), strip.text=element_text(size=9), legend.text=element_text(size=10)) +\n",
    "scale_fill_manual(labels=c(\"threat... \\ncompanies\", \n",
    "                        \"threat... \\ncompany\"), values=pallete) +\n",
    "scale_x_discrete(labels=c(\"threat... \\npresidents\", \n",
    "                          \"threat... \\npresident\")) + \n",
    "scale_y_continuous(labels=scales::percent) +\n",
    "coord_cartesian(ylim = c(0,0.5)) +\n",
    "theme_bw() +\n",
    "theme(axis.text.x=element_text(size=19), axis.text.y=element_text(size=20),\n",
    "      axis.title.y=element_text(size=20),\n",
    "      strip.text=element_text(size=20), legend.text=element_text(size=20))+\n",
    "theme(legend.position = 'none')\n",
    "\n",
    "ggsave(\"Franck_human.png\", width=4, height=4)"
   ]
  },
  {
   "cell_type": "code",
   "execution_count": null,
   "metadata": {},
   "outputs": [],
   "source": [
    "franck_lm <- glmmTMB(sample/100 ~ inter_match * local_match + (1 | item) \n",
    "                  + (1 | model), franck_lm_df, \n",
    "                   family=beta_family())\n",
    "summary(franck_lm)\n",
    "lm_eff <- summary(franck_lm)$coeff$cond[c(\"inter_matchTRUE\", \"local_matchTRUE\"), 1]\n",
    "lm_se <- summary(franck_lm)$coeff$cond[c(\"inter_matchTRUE\", \"local_matchTRUE\"), 2]\n",
    "\n",
    "lm_eff\n",
    "\n",
    "franck_joint <- glmmTMB(sample/100 ~ inter_match * local_match + (1 | item) \n",
    "                  + (1 | model), franck_joint_df, \n",
    "                   family=beta_family())\n",
    "summary(franck_joint)\n",
    "joint_eff <- summary(franck_joint)$coeff$cond[c(\"inter_matchTRUE\", \"local_matchTRUE\"), 1]\n",
    "joint_se <- summary(franck_joint)$coeff$cond[c(\"inter_matchTRUE\", \"local_matchTRUE\"), 2]\n",
    "\n",
    "joint_eff\n",
    "\n",
    "franck <- glmmTMB(sample/100 ~ inter_match * local_match * type + (1 | item) \n",
    "                  + (1 | model), franck_df, \n",
    "                   family=beta_family())\n",
    "summary(franck)"
   ]
  },
  {
   "cell_type": "code",
   "execution_count": null,
   "metadata": {},
   "outputs": [],
   "source": [
    "# Compare low-attr-only errors to high-attr-only errors\n",
    "franck_lstm_df$cond <- factor(paste0(factor(franck_lstm_df$inter_match), factor(franck_lstm_df$local_match)))\n",
    "\n",
    "mat = t(matrix(c(0, 1, -1, 0), ncol = 4))\n",
    "mat\n",
    "\n",
    "franck_lm <- glmmTMB(sample/100 ~ cond + (1 | item) \n",
    "                  + (1 | model), franck_lstm_df, \n",
    "                   family=beta_family(), contrasts=list(cond=mat))\n",
    "\n",
    "summary(franck_lm)\n"
   ]
  },
  {
   "cell_type": "code",
   "execution_count": null,
   "metadata": {},
   "outputs": [],
   "source": [
    "summary(franck_lm)$coeff"
   ]
  },
  {
   "cell_type": "code",
   "execution_count": null,
   "metadata": {},
   "outputs": [],
   "source": [
    "eff_df <- data.frame(model=c(\"LM Only\", \"LM Only\", \"Joint CCG Training\", \"Joint CCG Training\"), attr=c(\"intermediate\", \"local\"), eff=c(lm_eff, joint_eff) , se=c(lm_se, joint_se))\n",
    "\n",
    "eff_df\n",
    "ggplot(eff_df, aes(y=-eff, x = attr, color=attr)) + \n",
    "facet_grid( ~ model) +\n",
    "geom_point(stat=\"identity\", size=5) +\n",
    "geom_errorbar(aes(ymax=-eff+se, ymin=-eff-se), width=0.5) +\n",
    "theme(legend.position = \"none\") +\n",
    "labs(y=expression(beta), x=\"Attractor Position\") \n",
    "\n",
    "ggsave(\"Franck_effectsize.png\", width=2.5, height=5)"
   ]
  }
 ],
 "metadata": {
  "kernelspec": {
   "display_name": "R",
   "language": "R",
   "name": "ir"
  },
  "language_info": {
   "codemirror_mode": "r",
   "file_extension": ".r",
   "mimetype": "text/x-r-source",
   "name": "R",
   "pygments_lexer": "r",
   "version": "4.0.0"
  }
 },
 "nbformat": 4,
 "nbformat_minor": 2
}
