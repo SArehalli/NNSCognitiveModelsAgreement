{
 "cells": [
  {
   "cell_type": "code",
   "execution_count": 4,
   "metadata": {
    "scrolled": false
   },
   "outputs": [
    {
     "name": "stderr",
     "output_type": "stream",
     "text": [
      "\n",
      "Attaching package: 'dplyr'\n",
      "\n",
      "\n",
      "The following objects are masked from 'package:stats':\n",
      "\n",
      "    filter, lag\n",
      "\n",
      "\n",
      "The following objects are masked from 'package:base':\n",
      "\n",
      "    intersect, setdiff, setequal, union\n",
      "\n",
      "\n",
      "Loading required package: Matrix\n",
      "\n",
      "\n",
      "Attaching package: 'lmerTest'\n",
      "\n",
      "\n",
      "The following object is masked from 'package:lme4':\n",
      "\n",
      "    lmer\n",
      "\n",
      "\n",
      "The following object is masked from 'package:stats':\n",
      "\n",
      "    step\n",
      "\n",
      "\n",
      "\n",
      "********************************************************\n",
      "\n",
      "Note: As of version 1.0.0, cowplot does not change the\n",
      "\n",
      "  default ggplot2 theme anymore. To recover the previous\n",
      "\n",
      "  behavior, execute:\n",
      "  theme_set(theme_cowplot())\n",
      "\n",
      "********************************************************\n",
      "\n",
      "\n"
     ]
    }
   ],
   "source": [
    "library(ggplot2)\n",
    "library(dplyr)\n",
    "library(lme4)\n",
    "library(lmerTest)\n",
    "library(xtable)\n",
    "library(glmmTMB)\n",
    "library(cowplot)\n",
    "library(grid)\n",
    "\n",
    "pallete = c(\"#318480\", \"#b4464f\")"
   ]
  },
  {
   "cell_type": "markdown",
   "metadata": {},
   "source": [
    "# Bock 1992"
   ]
  },
  {
   "cell_type": "code",
   "execution_count": 2,
   "metadata": {},
   "outputs": [
    {
     "data": {
      "text/html": [
       "<table>\n",
       "<caption>A data.frame: 1280 x 10</caption>\n",
       "<thead>\n",
       "\t<tr><th></th><th scope=col>X</th><th scope=col>item</th><th scope=col>subj</th><th scope=col>attr</th><th scope=col>clause</th><th scope=col>model</th><th scope=col>max</th><th scope=col>sample</th><th scope=col>type</th><th scope=col>match</th></tr>\n",
       "\t<tr><th></th><th scope=col>&lt;int&gt;</th><th scope=col>&lt;int&gt;</th><th scope=col>&lt;fct&gt;</th><th scope=col>&lt;chr&gt;</th><th scope=col>&lt;chr&gt;</th><th scope=col>&lt;chr&gt;</th><th scope=col>&lt;dbl&gt;</th><th scope=col>&lt;dbl&gt;</th><th scope=col>&lt;chr&gt;</th><th scope=col>&lt;lgl&gt;</th></tr>\n",
       "</thead>\n",
       "<tbody>\n",
       "\t<tr><th scope=row>1</th><td> 0</td><td>0</td><td>s</td><td>s</td><td>prop</td><td>lstm0</td><td>  0</td><td> 7.152157</td><td>lstm</td><td> TRUE</td></tr>\n",
       "\t<tr><th scope=row>2</th><td> 1</td><td>0</td><td>s</td><td>s</td><td>prop</td><td>lstm1</td><td>  0</td><td> 4.364319</td><td>lstm</td><td> TRUE</td></tr>\n",
       "\t<tr><th scope=row>3</th><td> 2</td><td>0</td><td>s</td><td>s</td><td>prop</td><td>lstm2</td><td>  0</td><td> 1.543578</td><td>lstm</td><td> TRUE</td></tr>\n",
       "\t<tr><th scope=row>4</th><td> 3</td><td>0</td><td>s</td><td>s</td><td>prop</td><td>lstm3</td><td>  0</td><td> 2.585193</td><td>lstm</td><td> TRUE</td></tr>\n",
       "\t<tr><th scope=row>5</th><td> 4</td><td>0</td><td>s</td><td>s</td><td>prop</td><td>lstm4</td><td>  0</td><td> 3.907990</td><td>lstm</td><td> TRUE</td></tr>\n",
       "\t<tr><th scope=row>11</th><td>10</td><td>0</td><td>s</td><td>s</td><td>rc  </td><td>lstm0</td><td>  0</td><td> 3.112181</td><td>lstm</td><td> TRUE</td></tr>\n",
       "\t<tr><th scope=row>12</th><td>11</td><td>0</td><td>s</td><td>s</td><td>rc  </td><td>lstm1</td><td>  0</td><td> 2.950354</td><td>lstm</td><td> TRUE</td></tr>\n",
       "\t<tr><th scope=row>13</th><td>12</td><td>0</td><td>s</td><td>s</td><td>rc  </td><td>lstm2</td><td>  0</td><td> 2.971619</td><td>lstm</td><td> TRUE</td></tr>\n",
       "\t<tr><th scope=row>14</th><td>13</td><td>0</td><td>s</td><td>s</td><td>rc  </td><td>lstm3</td><td>  0</td><td> 1.454867</td><td>lstm</td><td> TRUE</td></tr>\n",
       "\t<tr><th scope=row>15</th><td>14</td><td>0</td><td>s</td><td>s</td><td>rc  </td><td>lstm4</td><td>  0</td><td> 3.413910</td><td>lstm</td><td> TRUE</td></tr>\n",
       "\t<tr><th scope=row>21</th><td>20</td><td>0</td><td>s</td><td>p</td><td>prop</td><td>lstm0</td><td>  0</td><td>36.883141</td><td>lstm</td><td>FALSE</td></tr>\n",
       "\t<tr><th scope=row>22</th><td>21</td><td>0</td><td>s</td><td>p</td><td>prop</td><td>lstm1</td><td>  0</td><td>44.419132</td><td>lstm</td><td>FALSE</td></tr>\n",
       "\t<tr><th scope=row>23</th><td>22</td><td>0</td><td>s</td><td>p</td><td>prop</td><td>lstm2</td><td>  0</td><td>33.235844</td><td>lstm</td><td>FALSE</td></tr>\n",
       "\t<tr><th scope=row>24</th><td>23</td><td>0</td><td>s</td><td>p</td><td>prop</td><td>lstm3</td><td>  0</td><td>33.460600</td><td>lstm</td><td>FALSE</td></tr>\n",
       "\t<tr><th scope=row>25</th><td>24</td><td>0</td><td>s</td><td>p</td><td>prop</td><td>lstm4</td><td>100</td><td>71.515190</td><td>lstm</td><td>FALSE</td></tr>\n",
       "\t<tr><th scope=row>31</th><td>30</td><td>0</td><td>s</td><td>p</td><td>rc  </td><td>lstm0</td><td>  0</td><td>29.117284</td><td>lstm</td><td>FALSE</td></tr>\n",
       "\t<tr><th scope=row>32</th><td>31</td><td>0</td><td>s</td><td>p</td><td>rc  </td><td>lstm1</td><td>  0</td><td>25.516400</td><td>lstm</td><td>FALSE</td></tr>\n",
       "\t<tr><th scope=row>33</th><td>32</td><td>0</td><td>s</td><td>p</td><td>rc  </td><td>lstm2</td><td>  0</td><td>26.082406</td><td>lstm</td><td>FALSE</td></tr>\n",
       "\t<tr><th scope=row>34</th><td>33</td><td>0</td><td>s</td><td>p</td><td>rc  </td><td>lstm3</td><td>  0</td><td>19.879667</td><td>lstm</td><td>FALSE</td></tr>\n",
       "\t<tr><th scope=row>35</th><td>34</td><td>0</td><td>s</td><td>p</td><td>rc  </td><td>lstm4</td><td>  0</td><td>29.049139</td><td>lstm</td><td>FALSE</td></tr>\n",
       "\t<tr><th scope=row>41</th><td>40</td><td>0</td><td>p</td><td>s</td><td>prop</td><td>lstm0</td><td>  0</td><td>20.059744</td><td>lstm</td><td>FALSE</td></tr>\n",
       "\t<tr><th scope=row>42</th><td>41</td><td>0</td><td>p</td><td>s</td><td>prop</td><td>lstm1</td><td>  0</td><td>23.441931</td><td>lstm</td><td>FALSE</td></tr>\n",
       "\t<tr><th scope=row>43</th><td>42</td><td>0</td><td>p</td><td>s</td><td>prop</td><td>lstm2</td><td>  0</td><td>21.814736</td><td>lstm</td><td>FALSE</td></tr>\n",
       "\t<tr><th scope=row>44</th><td>43</td><td>0</td><td>p</td><td>s</td><td>prop</td><td>lstm3</td><td>100</td><td>55.702832</td><td>lstm</td><td>FALSE</td></tr>\n",
       "\t<tr><th scope=row>45</th><td>44</td><td>0</td><td>p</td><td>s</td><td>prop</td><td>lstm4</td><td>100</td><td>79.673145</td><td>lstm</td><td>FALSE</td></tr>\n",
       "\t<tr><th scope=row>51</th><td>50</td><td>0</td><td>p</td><td>s</td><td>rc  </td><td>lstm0</td><td>  0</td><td>30.063158</td><td>lstm</td><td>FALSE</td></tr>\n",
       "\t<tr><th scope=row>52</th><td>51</td><td>0</td><td>p</td><td>s</td><td>rc  </td><td>lstm1</td><td>  0</td><td>14.419286</td><td>lstm</td><td>FALSE</td></tr>\n",
       "\t<tr><th scope=row>53</th><td>52</td><td>0</td><td>p</td><td>s</td><td>rc  </td><td>lstm2</td><td>  0</td><td>18.933637</td><td>lstm</td><td>FALSE</td></tr>\n",
       "\t<tr><th scope=row>54</th><td>53</td><td>0</td><td>p</td><td>s</td><td>rc  </td><td>lstm3</td><td>  0</td><td>34.878495</td><td>lstm</td><td>FALSE</td></tr>\n",
       "\t<tr><th scope=row>55</th><td>54</td><td>0</td><td>p</td><td>s</td><td>rc  </td><td>lstm4</td><td>100</td><td>81.624122</td><td>lstm</td><td>FALSE</td></tr>\n",
       "\t<tr><th scope=row>...</th><td>...</td><td>...</td><td>...</td><td>...</td><td>...</td><td>...</td><td>...</td><td>...</td><td>...</td><td>...</td></tr>\n",
       "\t<tr><th scope=row>2501</th><td>2500</td><td>31</td><td>s</td><td>p</td><td>prop</td><td>lstm0</td><td>0</td><td>15.426362</td><td>lstm</td><td>FALSE</td></tr>\n",
       "\t<tr><th scope=row>2502</th><td>2501</td><td>31</td><td>s</td><td>p</td><td>prop</td><td>lstm1</td><td>0</td><td>32.988422</td><td>lstm</td><td>FALSE</td></tr>\n",
       "\t<tr><th scope=row>2503</th><td>2502</td><td>31</td><td>s</td><td>p</td><td>prop</td><td>lstm2</td><td>0</td><td>16.715095</td><td>lstm</td><td>FALSE</td></tr>\n",
       "\t<tr><th scope=row>2504</th><td>2503</td><td>31</td><td>s</td><td>p</td><td>prop</td><td>lstm3</td><td>0</td><td>21.552596</td><td>lstm</td><td>FALSE</td></tr>\n",
       "\t<tr><th scope=row>2505</th><td>2504</td><td>31</td><td>s</td><td>p</td><td>prop</td><td>lstm4</td><td>0</td><td>42.050280</td><td>lstm</td><td>FALSE</td></tr>\n",
       "\t<tr><th scope=row>2511</th><td>2510</td><td>31</td><td>s</td><td>p</td><td>rc  </td><td>lstm0</td><td>0</td><td>10.708808</td><td>lstm</td><td>FALSE</td></tr>\n",
       "\t<tr><th scope=row>2512</th><td>2511</td><td>31</td><td>s</td><td>p</td><td>rc  </td><td>lstm1</td><td>0</td><td> 9.170220</td><td>lstm</td><td>FALSE</td></tr>\n",
       "\t<tr><th scope=row>2513</th><td>2512</td><td>31</td><td>s</td><td>p</td><td>rc  </td><td>lstm2</td><td>0</td><td>11.942188</td><td>lstm</td><td>FALSE</td></tr>\n",
       "\t<tr><th scope=row>2514</th><td>2513</td><td>31</td><td>s</td><td>p</td><td>rc  </td><td>lstm3</td><td>0</td><td>23.761705</td><td>lstm</td><td>FALSE</td></tr>\n",
       "\t<tr><th scope=row>2515</th><td>2514</td><td>31</td><td>s</td><td>p</td><td>rc  </td><td>lstm4</td><td>0</td><td>36.248444</td><td>lstm</td><td>FALSE</td></tr>\n",
       "\t<tr><th scope=row>2521</th><td>2520</td><td>31</td><td>p</td><td>s</td><td>prop</td><td>lstm0</td><td>0</td><td> 6.489729</td><td>lstm</td><td>FALSE</td></tr>\n",
       "\t<tr><th scope=row>2522</th><td>2521</td><td>31</td><td>p</td><td>s</td><td>prop</td><td>lstm1</td><td>0</td><td>11.961125</td><td>lstm</td><td>FALSE</td></tr>\n",
       "\t<tr><th scope=row>2523</th><td>2522</td><td>31</td><td>p</td><td>s</td><td>prop</td><td>lstm2</td><td>0</td><td> 7.038998</td><td>lstm</td><td>FALSE</td></tr>\n",
       "\t<tr><th scope=row>2524</th><td>2523</td><td>31</td><td>p</td><td>s</td><td>prop</td><td>lstm3</td><td>0</td><td>13.484188</td><td>lstm</td><td>FALSE</td></tr>\n",
       "\t<tr><th scope=row>2525</th><td>2524</td><td>31</td><td>p</td><td>s</td><td>prop</td><td>lstm4</td><td>0</td><td>25.687859</td><td>lstm</td><td>FALSE</td></tr>\n",
       "\t<tr><th scope=row>2531</th><td>2530</td><td>31</td><td>p</td><td>s</td><td>rc  </td><td>lstm0</td><td>0</td><td> 5.185306</td><td>lstm</td><td>FALSE</td></tr>\n",
       "\t<tr><th scope=row>2532</th><td>2531</td><td>31</td><td>p</td><td>s</td><td>rc  </td><td>lstm1</td><td>0</td><td> 8.425294</td><td>lstm</td><td>FALSE</td></tr>\n",
       "\t<tr><th scope=row>2533</th><td>2532</td><td>31</td><td>p</td><td>s</td><td>rc  </td><td>lstm2</td><td>0</td><td> 9.302622</td><td>lstm</td><td>FALSE</td></tr>\n",
       "\t<tr><th scope=row>2534</th><td>2533</td><td>31</td><td>p</td><td>s</td><td>rc  </td><td>lstm3</td><td>0</td><td>14.106323</td><td>lstm</td><td>FALSE</td></tr>\n",
       "\t<tr><th scope=row>2535</th><td>2534</td><td>31</td><td>p</td><td>s</td><td>rc  </td><td>lstm4</td><td>0</td><td>24.088305</td><td>lstm</td><td>FALSE</td></tr>\n",
       "\t<tr><th scope=row>2541</th><td>2540</td><td>31</td><td>p</td><td>p</td><td>prop</td><td>lstm0</td><td>0</td><td> 2.794839</td><td>lstm</td><td> TRUE</td></tr>\n",
       "\t<tr><th scope=row>2542</th><td>2541</td><td>31</td><td>p</td><td>p</td><td>prop</td><td>lstm1</td><td>0</td><td> 8.740974</td><td>lstm</td><td> TRUE</td></tr>\n",
       "\t<tr><th scope=row>2543</th><td>2542</td><td>31</td><td>p</td><td>p</td><td>prop</td><td>lstm2</td><td>0</td><td> 7.501280</td><td>lstm</td><td> TRUE</td></tr>\n",
       "\t<tr><th scope=row>2544</th><td>2543</td><td>31</td><td>p</td><td>p</td><td>prop</td><td>lstm3</td><td>0</td><td> 6.325143</td><td>lstm</td><td> TRUE</td></tr>\n",
       "\t<tr><th scope=row>2545</th><td>2544</td><td>31</td><td>p</td><td>p</td><td>prop</td><td>lstm4</td><td>0</td><td> 4.871448</td><td>lstm</td><td> TRUE</td></tr>\n",
       "\t<tr><th scope=row>2551</th><td>2550</td><td>31</td><td>p</td><td>p</td><td>rc  </td><td>lstm0</td><td>0</td><td> 5.550356</td><td>lstm</td><td> TRUE</td></tr>\n",
       "\t<tr><th scope=row>2552</th><td>2551</td><td>31</td><td>p</td><td>p</td><td>rc  </td><td>lstm1</td><td>0</td><td> 7.429556</td><td>lstm</td><td> TRUE</td></tr>\n",
       "\t<tr><th scope=row>2553</th><td>2552</td><td>31</td><td>p</td><td>p</td><td>rc  </td><td>lstm2</td><td>0</td><td> 5.950108</td><td>lstm</td><td> TRUE</td></tr>\n",
       "\t<tr><th scope=row>2554</th><td>2553</td><td>31</td><td>p</td><td>p</td><td>rc  </td><td>lstm3</td><td>0</td><td> 9.162192</td><td>lstm</td><td> TRUE</td></tr>\n",
       "\t<tr><th scope=row>2555</th><td>2554</td><td>31</td><td>p</td><td>p</td><td>rc  </td><td>lstm4</td><td>0</td><td> 4.013116</td><td>lstm</td><td> TRUE</td></tr>\n",
       "</tbody>\n",
       "</table>\n"
      ],
      "text/latex": [
       "A data.frame: 1280 x 10\n",
       "\\begin{tabular}{r|llllllllll}\n",
       "  & X & item & subj & attr & clause & model & max & sample & type & match\\\\\n",
       "  & <int> & <int> & <fct> & <chr> & <chr> & <chr> & <dbl> & <dbl> & <chr> & <lgl>\\\\\n",
       "\\hline\n",
       "\t1 &  0 & 0 & s & s & prop & lstm0 &   0 &  7.152157 & lstm &  TRUE\\\\\n",
       "\t2 &  1 & 0 & s & s & prop & lstm1 &   0 &  4.364319 & lstm &  TRUE\\\\\n",
       "\t3 &  2 & 0 & s & s & prop & lstm2 &   0 &  1.543578 & lstm &  TRUE\\\\\n",
       "\t4 &  3 & 0 & s & s & prop & lstm3 &   0 &  2.585193 & lstm &  TRUE\\\\\n",
       "\t5 &  4 & 0 & s & s & prop & lstm4 &   0 &  3.907990 & lstm &  TRUE\\\\\n",
       "\t11 & 10 & 0 & s & s & rc   & lstm0 &   0 &  3.112181 & lstm &  TRUE\\\\\n",
       "\t12 & 11 & 0 & s & s & rc   & lstm1 &   0 &  2.950354 & lstm &  TRUE\\\\\n",
       "\t13 & 12 & 0 & s & s & rc   & lstm2 &   0 &  2.971619 & lstm &  TRUE\\\\\n",
       "\t14 & 13 & 0 & s & s & rc   & lstm3 &   0 &  1.454867 & lstm &  TRUE\\\\\n",
       "\t15 & 14 & 0 & s & s & rc   & lstm4 &   0 &  3.413910 & lstm &  TRUE\\\\\n",
       "\t21 & 20 & 0 & s & p & prop & lstm0 &   0 & 36.883141 & lstm & FALSE\\\\\n",
       "\t22 & 21 & 0 & s & p & prop & lstm1 &   0 & 44.419132 & lstm & FALSE\\\\\n",
       "\t23 & 22 & 0 & s & p & prop & lstm2 &   0 & 33.235844 & lstm & FALSE\\\\\n",
       "\t24 & 23 & 0 & s & p & prop & lstm3 &   0 & 33.460600 & lstm & FALSE\\\\\n",
       "\t25 & 24 & 0 & s & p & prop & lstm4 & 100 & 71.515190 & lstm & FALSE\\\\\n",
       "\t31 & 30 & 0 & s & p & rc   & lstm0 &   0 & 29.117284 & lstm & FALSE\\\\\n",
       "\t32 & 31 & 0 & s & p & rc   & lstm1 &   0 & 25.516400 & lstm & FALSE\\\\\n",
       "\t33 & 32 & 0 & s & p & rc   & lstm2 &   0 & 26.082406 & lstm & FALSE\\\\\n",
       "\t34 & 33 & 0 & s & p & rc   & lstm3 &   0 & 19.879667 & lstm & FALSE\\\\\n",
       "\t35 & 34 & 0 & s & p & rc   & lstm4 &   0 & 29.049139 & lstm & FALSE\\\\\n",
       "\t41 & 40 & 0 & p & s & prop & lstm0 &   0 & 20.059744 & lstm & FALSE\\\\\n",
       "\t42 & 41 & 0 & p & s & prop & lstm1 &   0 & 23.441931 & lstm & FALSE\\\\\n",
       "\t43 & 42 & 0 & p & s & prop & lstm2 &   0 & 21.814736 & lstm & FALSE\\\\\n",
       "\t44 & 43 & 0 & p & s & prop & lstm3 & 100 & 55.702832 & lstm & FALSE\\\\\n",
       "\t45 & 44 & 0 & p & s & prop & lstm4 & 100 & 79.673145 & lstm & FALSE\\\\\n",
       "\t51 & 50 & 0 & p & s & rc   & lstm0 &   0 & 30.063158 & lstm & FALSE\\\\\n",
       "\t52 & 51 & 0 & p & s & rc   & lstm1 &   0 & 14.419286 & lstm & FALSE\\\\\n",
       "\t53 & 52 & 0 & p & s & rc   & lstm2 &   0 & 18.933637 & lstm & FALSE\\\\\n",
       "\t54 & 53 & 0 & p & s & rc   & lstm3 &   0 & 34.878495 & lstm & FALSE\\\\\n",
       "\t55 & 54 & 0 & p & s & rc   & lstm4 & 100 & 81.624122 & lstm & FALSE\\\\\n",
       "\t... & ... & ... & ... & ... & ... & ... & ... & ... & ... & ...\\\\\n",
       "\t2501 & 2500 & 31 & s & p & prop & lstm0 & 0 & 15.426362 & lstm & FALSE\\\\\n",
       "\t2502 & 2501 & 31 & s & p & prop & lstm1 & 0 & 32.988422 & lstm & FALSE\\\\\n",
       "\t2503 & 2502 & 31 & s & p & prop & lstm2 & 0 & 16.715095 & lstm & FALSE\\\\\n",
       "\t2504 & 2503 & 31 & s & p & prop & lstm3 & 0 & 21.552596 & lstm & FALSE\\\\\n",
       "\t2505 & 2504 & 31 & s & p & prop & lstm4 & 0 & 42.050280 & lstm & FALSE\\\\\n",
       "\t2511 & 2510 & 31 & s & p & rc   & lstm0 & 0 & 10.708808 & lstm & FALSE\\\\\n",
       "\t2512 & 2511 & 31 & s & p & rc   & lstm1 & 0 &  9.170220 & lstm & FALSE\\\\\n",
       "\t2513 & 2512 & 31 & s & p & rc   & lstm2 & 0 & 11.942188 & lstm & FALSE\\\\\n",
       "\t2514 & 2513 & 31 & s & p & rc   & lstm3 & 0 & 23.761705 & lstm & FALSE\\\\\n",
       "\t2515 & 2514 & 31 & s & p & rc   & lstm4 & 0 & 36.248444 & lstm & FALSE\\\\\n",
       "\t2521 & 2520 & 31 & p & s & prop & lstm0 & 0 &  6.489729 & lstm & FALSE\\\\\n",
       "\t2522 & 2521 & 31 & p & s & prop & lstm1 & 0 & 11.961125 & lstm & FALSE\\\\\n",
       "\t2523 & 2522 & 31 & p & s & prop & lstm2 & 0 &  7.038998 & lstm & FALSE\\\\\n",
       "\t2524 & 2523 & 31 & p & s & prop & lstm3 & 0 & 13.484188 & lstm & FALSE\\\\\n",
       "\t2525 & 2524 & 31 & p & s & prop & lstm4 & 0 & 25.687859 & lstm & FALSE\\\\\n",
       "\t2531 & 2530 & 31 & p & s & rc   & lstm0 & 0 &  5.185306 & lstm & FALSE\\\\\n",
       "\t2532 & 2531 & 31 & p & s & rc   & lstm1 & 0 &  8.425294 & lstm & FALSE\\\\\n",
       "\t2533 & 2532 & 31 & p & s & rc   & lstm2 & 0 &  9.302622 & lstm & FALSE\\\\\n",
       "\t2534 & 2533 & 31 & p & s & rc   & lstm3 & 0 & 14.106323 & lstm & FALSE\\\\\n",
       "\t2535 & 2534 & 31 & p & s & rc   & lstm4 & 0 & 24.088305 & lstm & FALSE\\\\\n",
       "\t2541 & 2540 & 31 & p & p & prop & lstm0 & 0 &  2.794839 & lstm &  TRUE\\\\\n",
       "\t2542 & 2541 & 31 & p & p & prop & lstm1 & 0 &  8.740974 & lstm &  TRUE\\\\\n",
       "\t2543 & 2542 & 31 & p & p & prop & lstm2 & 0 &  7.501280 & lstm &  TRUE\\\\\n",
       "\t2544 & 2543 & 31 & p & p & prop & lstm3 & 0 &  6.325143 & lstm &  TRUE\\\\\n",
       "\t2545 & 2544 & 31 & p & p & prop & lstm4 & 0 &  4.871448 & lstm &  TRUE\\\\\n",
       "\t2551 & 2550 & 31 & p & p & rc   & lstm0 & 0 &  5.550356 & lstm &  TRUE\\\\\n",
       "\t2552 & 2551 & 31 & p & p & rc   & lstm1 & 0 &  7.429556 & lstm &  TRUE\\\\\n",
       "\t2553 & 2552 & 31 & p & p & rc   & lstm2 & 0 &  5.950108 & lstm &  TRUE\\\\\n",
       "\t2554 & 2553 & 31 & p & p & rc   & lstm3 & 0 &  9.162192 & lstm &  TRUE\\\\\n",
       "\t2555 & 2554 & 31 & p & p & rc   & lstm4 & 0 &  4.013116 & lstm &  TRUE\\\\\n",
       "\\end{tabular}\n"
      ],
      "text/markdown": [
       "\n",
       "A data.frame: 1280 x 10\n",
       "\n",
       "| <!--/--> | X &lt;int&gt; | item &lt;int&gt; | subj &lt;fct&gt; | attr &lt;chr&gt; | clause &lt;chr&gt; | model &lt;chr&gt; | max &lt;dbl&gt; | sample &lt;dbl&gt; | type &lt;chr&gt; | match &lt;lgl&gt; |\n",
       "|---|---|---|---|---|---|---|---|---|---|---|\n",
       "| 1 |  0 | 0 | s | s | prop | lstm0 |   0 |  7.152157 | lstm |  TRUE |\n",
       "| 2 |  1 | 0 | s | s | prop | lstm1 |   0 |  4.364319 | lstm |  TRUE |\n",
       "| 3 |  2 | 0 | s | s | prop | lstm2 |   0 |  1.543578 | lstm |  TRUE |\n",
       "| 4 |  3 | 0 | s | s | prop | lstm3 |   0 |  2.585193 | lstm |  TRUE |\n",
       "| 5 |  4 | 0 | s | s | prop | lstm4 |   0 |  3.907990 | lstm |  TRUE |\n",
       "| 11 | 10 | 0 | s | s | rc   | lstm0 |   0 |  3.112181 | lstm |  TRUE |\n",
       "| 12 | 11 | 0 | s | s | rc   | lstm1 |   0 |  2.950354 | lstm |  TRUE |\n",
       "| 13 | 12 | 0 | s | s | rc   | lstm2 |   0 |  2.971619 | lstm |  TRUE |\n",
       "| 14 | 13 | 0 | s | s | rc   | lstm3 |   0 |  1.454867 | lstm |  TRUE |\n",
       "| 15 | 14 | 0 | s | s | rc   | lstm4 |   0 |  3.413910 | lstm |  TRUE |\n",
       "| 21 | 20 | 0 | s | p | prop | lstm0 |   0 | 36.883141 | lstm | FALSE |\n",
       "| 22 | 21 | 0 | s | p | prop | lstm1 |   0 | 44.419132 | lstm | FALSE |\n",
       "| 23 | 22 | 0 | s | p | prop | lstm2 |   0 | 33.235844 | lstm | FALSE |\n",
       "| 24 | 23 | 0 | s | p | prop | lstm3 |   0 | 33.460600 | lstm | FALSE |\n",
       "| 25 | 24 | 0 | s | p | prop | lstm4 | 100 | 71.515190 | lstm | FALSE |\n",
       "| 31 | 30 | 0 | s | p | rc   | lstm0 |   0 | 29.117284 | lstm | FALSE |\n",
       "| 32 | 31 | 0 | s | p | rc   | lstm1 |   0 | 25.516400 | lstm | FALSE |\n",
       "| 33 | 32 | 0 | s | p | rc   | lstm2 |   0 | 26.082406 | lstm | FALSE |\n",
       "| 34 | 33 | 0 | s | p | rc   | lstm3 |   0 | 19.879667 | lstm | FALSE |\n",
       "| 35 | 34 | 0 | s | p | rc   | lstm4 |   0 | 29.049139 | lstm | FALSE |\n",
       "| 41 | 40 | 0 | p | s | prop | lstm0 |   0 | 20.059744 | lstm | FALSE |\n",
       "| 42 | 41 | 0 | p | s | prop | lstm1 |   0 | 23.441931 | lstm | FALSE |\n",
       "| 43 | 42 | 0 | p | s | prop | lstm2 |   0 | 21.814736 | lstm | FALSE |\n",
       "| 44 | 43 | 0 | p | s | prop | lstm3 | 100 | 55.702832 | lstm | FALSE |\n",
       "| 45 | 44 | 0 | p | s | prop | lstm4 | 100 | 79.673145 | lstm | FALSE |\n",
       "| 51 | 50 | 0 | p | s | rc   | lstm0 |   0 | 30.063158 | lstm | FALSE |\n",
       "| 52 | 51 | 0 | p | s | rc   | lstm1 |   0 | 14.419286 | lstm | FALSE |\n",
       "| 53 | 52 | 0 | p | s | rc   | lstm2 |   0 | 18.933637 | lstm | FALSE |\n",
       "| 54 | 53 | 0 | p | s | rc   | lstm3 |   0 | 34.878495 | lstm | FALSE |\n",
       "| 55 | 54 | 0 | p | s | rc   | lstm4 | 100 | 81.624122 | lstm | FALSE |\n",
       "| ... | ... | ... | ... | ... | ... | ... | ... | ... | ... | ... |\n",
       "| 2501 | 2500 | 31 | s | p | prop | lstm0 | 0 | 15.426362 | lstm | FALSE |\n",
       "| 2502 | 2501 | 31 | s | p | prop | lstm1 | 0 | 32.988422 | lstm | FALSE |\n",
       "| 2503 | 2502 | 31 | s | p | prop | lstm2 | 0 | 16.715095 | lstm | FALSE |\n",
       "| 2504 | 2503 | 31 | s | p | prop | lstm3 | 0 | 21.552596 | lstm | FALSE |\n",
       "| 2505 | 2504 | 31 | s | p | prop | lstm4 | 0 | 42.050280 | lstm | FALSE |\n",
       "| 2511 | 2510 | 31 | s | p | rc   | lstm0 | 0 | 10.708808 | lstm | FALSE |\n",
       "| 2512 | 2511 | 31 | s | p | rc   | lstm1 | 0 |  9.170220 | lstm | FALSE |\n",
       "| 2513 | 2512 | 31 | s | p | rc   | lstm2 | 0 | 11.942188 | lstm | FALSE |\n",
       "| 2514 | 2513 | 31 | s | p | rc   | lstm3 | 0 | 23.761705 | lstm | FALSE |\n",
       "| 2515 | 2514 | 31 | s | p | rc   | lstm4 | 0 | 36.248444 | lstm | FALSE |\n",
       "| 2521 | 2520 | 31 | p | s | prop | lstm0 | 0 |  6.489729 | lstm | FALSE |\n",
       "| 2522 | 2521 | 31 | p | s | prop | lstm1 | 0 | 11.961125 | lstm | FALSE |\n",
       "| 2523 | 2522 | 31 | p | s | prop | lstm2 | 0 |  7.038998 | lstm | FALSE |\n",
       "| 2524 | 2523 | 31 | p | s | prop | lstm3 | 0 | 13.484188 | lstm | FALSE |\n",
       "| 2525 | 2524 | 31 | p | s | prop | lstm4 | 0 | 25.687859 | lstm | FALSE |\n",
       "| 2531 | 2530 | 31 | p | s | rc   | lstm0 | 0 |  5.185306 | lstm | FALSE |\n",
       "| 2532 | 2531 | 31 | p | s | rc   | lstm1 | 0 |  8.425294 | lstm | FALSE |\n",
       "| 2533 | 2532 | 31 | p | s | rc   | lstm2 | 0 |  9.302622 | lstm | FALSE |\n",
       "| 2534 | 2533 | 31 | p | s | rc   | lstm3 | 0 | 14.106323 | lstm | FALSE |\n",
       "| 2535 | 2534 | 31 | p | s | rc   | lstm4 | 0 | 24.088305 | lstm | FALSE |\n",
       "| 2541 | 2540 | 31 | p | p | prop | lstm0 | 0 |  2.794839 | lstm |  TRUE |\n",
       "| 2542 | 2541 | 31 | p | p | prop | lstm1 | 0 |  8.740974 | lstm |  TRUE |\n",
       "| 2543 | 2542 | 31 | p | p | prop | lstm2 | 0 |  7.501280 | lstm |  TRUE |\n",
       "| 2544 | 2543 | 31 | p | p | prop | lstm3 | 0 |  6.325143 | lstm |  TRUE |\n",
       "| 2545 | 2544 | 31 | p | p | prop | lstm4 | 0 |  4.871448 | lstm |  TRUE |\n",
       "| 2551 | 2550 | 31 | p | p | rc   | lstm0 | 0 |  5.550356 | lstm |  TRUE |\n",
       "| 2552 | 2551 | 31 | p | p | rc   | lstm1 | 0 |  7.429556 | lstm |  TRUE |\n",
       "| 2553 | 2552 | 31 | p | p | rc   | lstm2 | 0 |  5.950108 | lstm |  TRUE |\n",
       "| 2554 | 2553 | 31 | p | p | rc   | lstm3 | 0 |  9.162192 | lstm |  TRUE |\n",
       "| 2555 | 2554 | 31 | p | p | rc   | lstm4 | 0 |  4.013116 | lstm |  TRUE |\n",
       "\n"
      ],
      "text/plain": [
       "     X    item subj attr clause model max sample    type match\n",
       "1     0   0    s    s    prop   lstm0   0  7.152157 lstm  TRUE\n",
       "2     1   0    s    s    prop   lstm1   0  4.364319 lstm  TRUE\n",
       "3     2   0    s    s    prop   lstm2   0  1.543578 lstm  TRUE\n",
       "4     3   0    s    s    prop   lstm3   0  2.585193 lstm  TRUE\n",
       "5     4   0    s    s    prop   lstm4   0  3.907990 lstm  TRUE\n",
       "11   10   0    s    s    rc     lstm0   0  3.112181 lstm  TRUE\n",
       "12   11   0    s    s    rc     lstm1   0  2.950354 lstm  TRUE\n",
       "13   12   0    s    s    rc     lstm2   0  2.971619 lstm  TRUE\n",
       "14   13   0    s    s    rc     lstm3   0  1.454867 lstm  TRUE\n",
       "15   14   0    s    s    rc     lstm4   0  3.413910 lstm  TRUE\n",
       "21   20   0    s    p    prop   lstm0   0 36.883141 lstm FALSE\n",
       "22   21   0    s    p    prop   lstm1   0 44.419132 lstm FALSE\n",
       "23   22   0    s    p    prop   lstm2   0 33.235844 lstm FALSE\n",
       "24   23   0    s    p    prop   lstm3   0 33.460600 lstm FALSE\n",
       "25   24   0    s    p    prop   lstm4 100 71.515190 lstm FALSE\n",
       "31   30   0    s    p    rc     lstm0   0 29.117284 lstm FALSE\n",
       "32   31   0    s    p    rc     lstm1   0 25.516400 lstm FALSE\n",
       "33   32   0    s    p    rc     lstm2   0 26.082406 lstm FALSE\n",
       "34   33   0    s    p    rc     lstm3   0 19.879667 lstm FALSE\n",
       "35   34   0    s    p    rc     lstm4   0 29.049139 lstm FALSE\n",
       "41   40   0    p    s    prop   lstm0   0 20.059744 lstm FALSE\n",
       "42   41   0    p    s    prop   lstm1   0 23.441931 lstm FALSE\n",
       "43   42   0    p    s    prop   lstm2   0 21.814736 lstm FALSE\n",
       "44   43   0    p    s    prop   lstm3 100 55.702832 lstm FALSE\n",
       "45   44   0    p    s    prop   lstm4 100 79.673145 lstm FALSE\n",
       "51   50   0    p    s    rc     lstm0   0 30.063158 lstm FALSE\n",
       "52   51   0    p    s    rc     lstm1   0 14.419286 lstm FALSE\n",
       "53   52   0    p    s    rc     lstm2   0 18.933637 lstm FALSE\n",
       "54   53   0    p    s    rc     lstm3   0 34.878495 lstm FALSE\n",
       "55   54   0    p    s    rc     lstm4 100 81.624122 lstm FALSE\n",
       "...  ...  ...  ...  ...  ...    ...   ... ...       ...  ...  \n",
       "2501 2500 31   s    p    prop   lstm0 0   15.426362 lstm FALSE\n",
       "2502 2501 31   s    p    prop   lstm1 0   32.988422 lstm FALSE\n",
       "2503 2502 31   s    p    prop   lstm2 0   16.715095 lstm FALSE\n",
       "2504 2503 31   s    p    prop   lstm3 0   21.552596 lstm FALSE\n",
       "2505 2504 31   s    p    prop   lstm4 0   42.050280 lstm FALSE\n",
       "2511 2510 31   s    p    rc     lstm0 0   10.708808 lstm FALSE\n",
       "2512 2511 31   s    p    rc     lstm1 0    9.170220 lstm FALSE\n",
       "2513 2512 31   s    p    rc     lstm2 0   11.942188 lstm FALSE\n",
       "2514 2513 31   s    p    rc     lstm3 0   23.761705 lstm FALSE\n",
       "2515 2514 31   s    p    rc     lstm4 0   36.248444 lstm FALSE\n",
       "2521 2520 31   p    s    prop   lstm0 0    6.489729 lstm FALSE\n",
       "2522 2521 31   p    s    prop   lstm1 0   11.961125 lstm FALSE\n",
       "2523 2522 31   p    s    prop   lstm2 0    7.038998 lstm FALSE\n",
       "2524 2523 31   p    s    prop   lstm3 0   13.484188 lstm FALSE\n",
       "2525 2524 31   p    s    prop   lstm4 0   25.687859 lstm FALSE\n",
       "2531 2530 31   p    s    rc     lstm0 0    5.185306 lstm FALSE\n",
       "2532 2531 31   p    s    rc     lstm1 0    8.425294 lstm FALSE\n",
       "2533 2532 31   p    s    rc     lstm2 0    9.302622 lstm FALSE\n",
       "2534 2533 31   p    s    rc     lstm3 0   14.106323 lstm FALSE\n",
       "2535 2534 31   p    s    rc     lstm4 0   24.088305 lstm FALSE\n",
       "2541 2540 31   p    p    prop   lstm0 0    2.794839 lstm  TRUE\n",
       "2542 2541 31   p    p    prop   lstm1 0    8.740974 lstm  TRUE\n",
       "2543 2542 31   p    p    prop   lstm2 0    7.501280 lstm  TRUE\n",
       "2544 2543 31   p    p    prop   lstm3 0    6.325143 lstm  TRUE\n",
       "2545 2544 31   p    p    prop   lstm4 0    4.871448 lstm  TRUE\n",
       "2551 2550 31   p    p    rc     lstm0 0    5.550356 lstm  TRUE\n",
       "2552 2551 31   p    p    rc     lstm1 0    7.429556 lstm  TRUE\n",
       "2553 2552 31   p    p    rc     lstm2 0    5.950108 lstm  TRUE\n",
       "2554 2553 31   p    p    rc     lstm3 0    9.162192 lstm  TRUE\n",
       "2555 2554 31   p    p    rc     lstm4 0    4.013116 lstm  TRUE"
      ]
     },
     "metadata": {},
     "output_type": "display_data"
    },
    {
     "name": "stderr",
     "output_type": "stream",
     "text": [
      "`summarise()` regrouping output by 'model', 'type', 'match' (override with `.groups` argument)\n",
      "\n",
      "`summarise()` regrouping output by 'model', 'type', 'match' (override with `.groups` argument)\n",
      "\n"
     ]
    },
    {
     "data": {
      "text/html": [
       "<table>\n",
       "<caption>A grouped_df: 20 x 6</caption>\n",
       "<thead>\n",
       "\t<tr><th scope=col>model</th><th scope=col>type</th><th scope=col>match</th><th scope=col>clause</th><th scope=col>sample</th><th scope=col>max</th></tr>\n",
       "\t<tr><th scope=col>&lt;chr&gt;</th><th scope=col>&lt;chr&gt;</th><th scope=col>&lt;lgl&gt;</th><th scope=col>&lt;chr&gt;</th><th scope=col>&lt;dbl&gt;</th><th scope=col>&lt;dbl&gt;</th></tr>\n",
       "</thead>\n",
       "<tbody>\n",
       "\t<tr><td>lstm0</td><td>lstm</td><td>FALSE</td><td>prop</td><td>17.009018</td><td> 3.1250</td></tr>\n",
       "\t<tr><td>lstm0</td><td>lstm</td><td>FALSE</td><td>rc  </td><td>12.463757</td><td> 1.5625</td></tr>\n",
       "\t<tr><td>lstm0</td><td>lstm</td><td> TRUE</td><td>prop</td><td> 3.893529</td><td> 0.0000</td></tr>\n",
       "\t<tr><td>lstm0</td><td>lstm</td><td> TRUE</td><td>rc  </td><td> 3.867605</td><td> 0.0000</td></tr>\n",
       "\t<tr><td>lstm1</td><td>lstm</td><td>FALSE</td><td>prop</td><td>28.219312</td><td>12.5000</td></tr>\n",
       "\t<tr><td>lstm1</td><td>lstm</td><td>FALSE</td><td>rc  </td><td>17.510046</td><td> 1.5625</td></tr>\n",
       "\t<tr><td>lstm1</td><td>lstm</td><td> TRUE</td><td>prop</td><td> 4.994438</td><td> 0.0000</td></tr>\n",
       "\t<tr><td>lstm1</td><td>lstm</td><td> TRUE</td><td>rc  </td><td> 3.579478</td><td> 0.0000</td></tr>\n",
       "\t<tr><td>lstm2</td><td>lstm</td><td>FALSE</td><td>prop</td><td>23.531391</td><td>10.9375</td></tr>\n",
       "\t<tr><td>lstm2</td><td>lstm</td><td>FALSE</td><td>rc  </td><td>18.248347</td><td> 3.1250</td></tr>\n",
       "\t<tr><td>lstm2</td><td>lstm</td><td> TRUE</td><td>prop</td><td> 4.493850</td><td> 0.0000</td></tr>\n",
       "\t<tr><td>lstm2</td><td>lstm</td><td> TRUE</td><td>rc  </td><td> 3.543116</td><td> 0.0000</td></tr>\n",
       "\t<tr><td>lstm3</td><td>lstm</td><td>FALSE</td><td>prop</td><td>27.264770</td><td> 9.3750</td></tr>\n",
       "\t<tr><td>lstm3</td><td>lstm</td><td>FALSE</td><td>rc  </td><td>19.280936</td><td> 6.2500</td></tr>\n",
       "\t<tr><td>lstm3</td><td>lstm</td><td> TRUE</td><td>prop</td><td> 5.060308</td><td> 0.0000</td></tr>\n",
       "\t<tr><td>lstm3</td><td>lstm</td><td> TRUE</td><td>rc  </td><td> 4.106709</td><td> 0.0000</td></tr>\n",
       "\t<tr><td>lstm4</td><td>lstm</td><td>FALSE</td><td>prop</td><td>33.156256</td><td>23.4375</td></tr>\n",
       "\t<tr><td>lstm4</td><td>lstm</td><td>FALSE</td><td>rc  </td><td>29.856434</td><td>20.3125</td></tr>\n",
       "\t<tr><td>lstm4</td><td>lstm</td><td> TRUE</td><td>prop</td><td> 5.570041</td><td> 0.0000</td></tr>\n",
       "\t<tr><td>lstm4</td><td>lstm</td><td> TRUE</td><td>rc  </td><td> 8.580345</td><td> 0.0000</td></tr>\n",
       "</tbody>\n",
       "</table>\n"
      ],
      "text/latex": [
       "A grouped\\_df: 20 x 6\n",
       "\\begin{tabular}{llllll}\n",
       " model & type & match & clause & sample & max\\\\\n",
       " <chr> & <chr> & <lgl> & <chr> & <dbl> & <dbl>\\\\\n",
       "\\hline\n",
       "\t lstm0 & lstm & FALSE & prop & 17.009018 &  3.1250\\\\\n",
       "\t lstm0 & lstm & FALSE & rc   & 12.463757 &  1.5625\\\\\n",
       "\t lstm0 & lstm &  TRUE & prop &  3.893529 &  0.0000\\\\\n",
       "\t lstm0 & lstm &  TRUE & rc   &  3.867605 &  0.0000\\\\\n",
       "\t lstm1 & lstm & FALSE & prop & 28.219312 & 12.5000\\\\\n",
       "\t lstm1 & lstm & FALSE & rc   & 17.510046 &  1.5625\\\\\n",
       "\t lstm1 & lstm &  TRUE & prop &  4.994438 &  0.0000\\\\\n",
       "\t lstm1 & lstm &  TRUE & rc   &  3.579478 &  0.0000\\\\\n",
       "\t lstm2 & lstm & FALSE & prop & 23.531391 & 10.9375\\\\\n",
       "\t lstm2 & lstm & FALSE & rc   & 18.248347 &  3.1250\\\\\n",
       "\t lstm2 & lstm &  TRUE & prop &  4.493850 &  0.0000\\\\\n",
       "\t lstm2 & lstm &  TRUE & rc   &  3.543116 &  0.0000\\\\\n",
       "\t lstm3 & lstm & FALSE & prop & 27.264770 &  9.3750\\\\\n",
       "\t lstm3 & lstm & FALSE & rc   & 19.280936 &  6.2500\\\\\n",
       "\t lstm3 & lstm &  TRUE & prop &  5.060308 &  0.0000\\\\\n",
       "\t lstm3 & lstm &  TRUE & rc   &  4.106709 &  0.0000\\\\\n",
       "\t lstm4 & lstm & FALSE & prop & 33.156256 & 23.4375\\\\\n",
       "\t lstm4 & lstm & FALSE & rc   & 29.856434 & 20.3125\\\\\n",
       "\t lstm4 & lstm &  TRUE & prop &  5.570041 &  0.0000\\\\\n",
       "\t lstm4 & lstm &  TRUE & rc   &  8.580345 &  0.0000\\\\\n",
       "\\end{tabular}\n"
      ],
      "text/markdown": [
       "\n",
       "A grouped_df: 20 x 6\n",
       "\n",
       "| model &lt;chr&gt; | type &lt;chr&gt; | match &lt;lgl&gt; | clause &lt;chr&gt; | sample &lt;dbl&gt; | max &lt;dbl&gt; |\n",
       "|---|---|---|---|---|---|\n",
       "| lstm0 | lstm | FALSE | prop | 17.009018 |  3.1250 |\n",
       "| lstm0 | lstm | FALSE | rc   | 12.463757 |  1.5625 |\n",
       "| lstm0 | lstm |  TRUE | prop |  3.893529 |  0.0000 |\n",
       "| lstm0 | lstm |  TRUE | rc   |  3.867605 |  0.0000 |\n",
       "| lstm1 | lstm | FALSE | prop | 28.219312 | 12.5000 |\n",
       "| lstm1 | lstm | FALSE | rc   | 17.510046 |  1.5625 |\n",
       "| lstm1 | lstm |  TRUE | prop |  4.994438 |  0.0000 |\n",
       "| lstm1 | lstm |  TRUE | rc   |  3.579478 |  0.0000 |\n",
       "| lstm2 | lstm | FALSE | prop | 23.531391 | 10.9375 |\n",
       "| lstm2 | lstm | FALSE | rc   | 18.248347 |  3.1250 |\n",
       "| lstm2 | lstm |  TRUE | prop |  4.493850 |  0.0000 |\n",
       "| lstm2 | lstm |  TRUE | rc   |  3.543116 |  0.0000 |\n",
       "| lstm3 | lstm | FALSE | prop | 27.264770 |  9.3750 |\n",
       "| lstm3 | lstm | FALSE | rc   | 19.280936 |  6.2500 |\n",
       "| lstm3 | lstm |  TRUE | prop |  5.060308 |  0.0000 |\n",
       "| lstm3 | lstm |  TRUE | rc   |  4.106709 |  0.0000 |\n",
       "| lstm4 | lstm | FALSE | prop | 33.156256 | 23.4375 |\n",
       "| lstm4 | lstm | FALSE | rc   | 29.856434 | 20.3125 |\n",
       "| lstm4 | lstm |  TRUE | prop |  5.570041 |  0.0000 |\n",
       "| lstm4 | lstm |  TRUE | rc   |  8.580345 |  0.0000 |\n",
       "\n"
      ],
      "text/plain": [
       "   model type match clause sample    max    \n",
       "1  lstm0 lstm FALSE prop   17.009018  3.1250\n",
       "2  lstm0 lstm FALSE rc     12.463757  1.5625\n",
       "3  lstm0 lstm  TRUE prop    3.893529  0.0000\n",
       "4  lstm0 lstm  TRUE rc      3.867605  0.0000\n",
       "5  lstm1 lstm FALSE prop   28.219312 12.5000\n",
       "6  lstm1 lstm FALSE rc     17.510046  1.5625\n",
       "7  lstm1 lstm  TRUE prop    4.994438  0.0000\n",
       "8  lstm1 lstm  TRUE rc      3.579478  0.0000\n",
       "9  lstm2 lstm FALSE prop   23.531391 10.9375\n",
       "10 lstm2 lstm FALSE rc     18.248347  3.1250\n",
       "11 lstm2 lstm  TRUE prop    4.493850  0.0000\n",
       "12 lstm2 lstm  TRUE rc      3.543116  0.0000\n",
       "13 lstm3 lstm FALSE prop   27.264770  9.3750\n",
       "14 lstm3 lstm FALSE rc     19.280936  6.2500\n",
       "15 lstm3 lstm  TRUE prop    5.060308  0.0000\n",
       "16 lstm3 lstm  TRUE rc      4.106709  0.0000\n",
       "17 lstm4 lstm FALSE prop   33.156256 23.4375\n",
       "18 lstm4 lstm FALSE rc     29.856434 20.3125\n",
       "19 lstm4 lstm  TRUE prop    5.570041  0.0000\n",
       "20 lstm4 lstm  TRUE rc      8.580345  0.0000"
      ]
     },
     "metadata": {},
     "output_type": "display_data"
    }
   ],
   "source": [
    "b92_df <- read.csv(\"../evalsets/Bock1992/items.csv.reformat\")\n",
    "b92_df <- tidyr::separate(b92_df, condition, c(\"nums\",\"clause\"), sep=\"_\")\n",
    "b92_df <- tidyr::separate(b92_df, nums, c(\"subj\", \"attr\"), sep=1:2)\n",
    "\n",
    "b92_df$type <- substr(b92_df$model, 0, 4)\n",
    "b92_df$match <- b92_df$subj == b92_df$attr\n",
    "b92_df$subj <- as.factor(b92_df$subj)\n",
    "\n",
    "b92_df$sample <- 100 - b92_df$sample\n",
    "\n",
    "b92_df$max <- 100 - b92_df$max\n",
    "subset(b92_df, type==\"lstm\")\n",
    "\n",
    "means <- b92_df %>% group_by(model, type, match, clause) %>% summarize(sample = mean(sample), max = mean(max))\n",
    "\n",
    "means_na <- b92_df %>% group_by(model, type, match, subj) %>% summarize(sample = mean(sample), max = mean(max))\n",
    "\n",
    "subset(means, type==\"lstm\")\n"
   ]
  },
  {
   "cell_type": "code",
   "execution_count": 5,
   "metadata": {},
   "outputs": [
    {
     "name": "stderr",
     "output_type": "stream",
     "text": [
      "`summarise()` regrouping output by 'Model Type', 'Subject #', 'Attractor #' (override with `.groups` argument)\n",
      "\n"
     ]
    },
    {
     "data": {
      "text/html": [
       "<table>\n",
       "<caption>A grouped_df: 16 x 6</caption>\n",
       "<thead>\n",
       "\t<tr><th scope=col>Model Type</th><th scope=col>Subject #</th><th scope=col>Attractor #</th><th scope=col>Modifier Type</th><th scope=col>Sample</th><th scope=col>MaxProb</th></tr>\n",
       "\t<tr><th scope=col>&lt;chr&gt;</th><th scope=col>&lt;fct&gt;</th><th scope=col>&lt;chr&gt;</th><th scope=col>&lt;chr&gt;</th><th scope=col>&lt;dbl&gt;</th><th scope=col>&lt;dbl&gt;</th></tr>\n",
       "</thead>\n",
       "<tbody>\n",
       "\t<tr><td>lstm</td><td>p</td><td>p</td><td>prop</td><td> 5.208455</td><td> 0.000</td></tr>\n",
       "\t<tr><td>lstm</td><td>p</td><td>p</td><td>rc  </td><td> 6.106613</td><td> 0.000</td></tr>\n",
       "\t<tr><td>lstm</td><td>p</td><td>s</td><td>prop</td><td>20.296631</td><td> 6.875</td></tr>\n",
       "\t<tr><td>lstm</td><td>p</td><td>s</td><td>rc  </td><td>16.559788</td><td> 5.625</td></tr>\n",
       "\t<tr><td>lstm</td><td>s</td><td>p</td><td>prop</td><td>31.375668</td><td>16.875</td></tr>\n",
       "\t<tr><td>lstm</td><td>s</td><td>p</td><td>rc  </td><td>22.384020</td><td> 7.500</td></tr>\n",
       "\t<tr><td>lstm</td><td>s</td><td>s</td><td>prop</td><td> 4.396412</td><td> 0.000</td></tr>\n",
       "\t<tr><td>lstm</td><td>s</td><td>s</td><td>rc  </td><td> 3.364288</td><td> 0.000</td></tr>\n",
       "\t<tr><td>rnng</td><td>p</td><td>p</td><td>prop</td><td>25.145784</td><td>25.000</td></tr>\n",
       "\t<tr><td>rnng</td><td>p</td><td>p</td><td>rc  </td><td>32.431624</td><td>31.875</td></tr>\n",
       "\t<tr><td>rnng</td><td>p</td><td>s</td><td>prop</td><td>36.938880</td><td>36.250</td></tr>\n",
       "\t<tr><td>rnng</td><td>p</td><td>s</td><td>rc  </td><td>47.087224</td><td>46.875</td></tr>\n",
       "\t<tr><td>rnng</td><td>s</td><td>p</td><td>prop</td><td>27.144850</td><td>21.250</td></tr>\n",
       "\t<tr><td>rnng</td><td>s</td><td>p</td><td>rc  </td><td>36.558371</td><td>31.250</td></tr>\n",
       "\t<tr><td>rnng</td><td>s</td><td>s</td><td>prop</td><td> 7.871227</td><td> 2.500</td></tr>\n",
       "\t<tr><td>rnng</td><td>s</td><td>s</td><td>rc  </td><td>16.938744</td><td>12.500</td></tr>\n",
       "</tbody>\n",
       "</table>\n"
      ],
      "text/latex": [
       "A grouped\\_df: 16 x 6\n",
       "\\begin{tabular}{llllll}\n",
       " Model Type & Subject \\# & Attractor \\# & Modifier Type & Sample & MaxProb\\\\\n",
       " <chr> & <fct> & <chr> & <chr> & <dbl> & <dbl>\\\\\n",
       "\\hline\n",
       "\t lstm & p & p & prop &  5.208455 &  0.000\\\\\n",
       "\t lstm & p & p & rc   &  6.106613 &  0.000\\\\\n",
       "\t lstm & p & s & prop & 20.296631 &  6.875\\\\\n",
       "\t lstm & p & s & rc   & 16.559788 &  5.625\\\\\n",
       "\t lstm & s & p & prop & 31.375668 & 16.875\\\\\n",
       "\t lstm & s & p & rc   & 22.384020 &  7.500\\\\\n",
       "\t lstm & s & s & prop &  4.396412 &  0.000\\\\\n",
       "\t lstm & s & s & rc   &  3.364288 &  0.000\\\\\n",
       "\t rnng & p & p & prop & 25.145784 & 25.000\\\\\n",
       "\t rnng & p & p & rc   & 32.431624 & 31.875\\\\\n",
       "\t rnng & p & s & prop & 36.938880 & 36.250\\\\\n",
       "\t rnng & p & s & rc   & 47.087224 & 46.875\\\\\n",
       "\t rnng & s & p & prop & 27.144850 & 21.250\\\\\n",
       "\t rnng & s & p & rc   & 36.558371 & 31.250\\\\\n",
       "\t rnng & s & s & prop &  7.871227 &  2.500\\\\\n",
       "\t rnng & s & s & rc   & 16.938744 & 12.500\\\\\n",
       "\\end{tabular}\n"
      ],
      "text/markdown": [
       "\n",
       "A grouped_df: 16 x 6\n",
       "\n",
       "| Model Type &lt;chr&gt; | Subject # &lt;fct&gt; | Attractor # &lt;chr&gt; | Modifier Type &lt;chr&gt; | Sample &lt;dbl&gt; | MaxProb &lt;dbl&gt; |\n",
       "|---|---|---|---|---|---|\n",
       "| lstm | p | p | prop |  5.208455 |  0.000 |\n",
       "| lstm | p | p | rc   |  6.106613 |  0.000 |\n",
       "| lstm | p | s | prop | 20.296631 |  6.875 |\n",
       "| lstm | p | s | rc   | 16.559788 |  5.625 |\n",
       "| lstm | s | p | prop | 31.375668 | 16.875 |\n",
       "| lstm | s | p | rc   | 22.384020 |  7.500 |\n",
       "| lstm | s | s | prop |  4.396412 |  0.000 |\n",
       "| lstm | s | s | rc   |  3.364288 |  0.000 |\n",
       "| rnng | p | p | prop | 25.145784 | 25.000 |\n",
       "| rnng | p | p | rc   | 32.431624 | 31.875 |\n",
       "| rnng | p | s | prop | 36.938880 | 36.250 |\n",
       "| rnng | p | s | rc   | 47.087224 | 46.875 |\n",
       "| rnng | s | p | prop | 27.144850 | 21.250 |\n",
       "| rnng | s | p | rc   | 36.558371 | 31.250 |\n",
       "| rnng | s | s | prop |  7.871227 |  2.500 |\n",
       "| rnng | s | s | rc   | 16.938744 | 12.500 |\n",
       "\n"
      ],
      "text/plain": [
       "   Model Type Subject # Attractor # Modifier Type Sample    MaxProb\n",
       "1  lstm       p         p           prop           5.208455  0.000 \n",
       "2  lstm       p         p           rc             6.106613  0.000 \n",
       "3  lstm       p         s           prop          20.296631  6.875 \n",
       "4  lstm       p         s           rc            16.559788  5.625 \n",
       "5  lstm       s         p           prop          31.375668 16.875 \n",
       "6  lstm       s         p           rc            22.384020  7.500 \n",
       "7  lstm       s         s           prop           4.396412  0.000 \n",
       "8  lstm       s         s           rc             3.364288  0.000 \n",
       "9  rnng       p         p           prop          25.145784 25.000 \n",
       "10 rnng       p         p           rc            32.431624 31.875 \n",
       "11 rnng       p         s           prop          36.938880 36.250 \n",
       "12 rnng       p         s           rc            47.087224 46.875 \n",
       "13 rnng       s         p           prop          27.144850 21.250 \n",
       "14 rnng       s         p           rc            36.558371 31.250 \n",
       "15 rnng       s         s           prop           7.871227  2.500 \n",
       "16 rnng       s         s           rc            16.938744 12.500 "
      ]
     },
     "metadata": {},
     "output_type": "display_data"
    }
   ],
   "source": [
    "output <- b92_df %>% group_by(\"Model Type\"=type, \"Subject #\"=subj, \"Attractor #\"=attr, \"Modifier Type\"=clause) %>% summarize(\"Sample\"=mean(sample), \"MaxProb\"=mean(max))\n",
    "\n",
    "output\n",
    "print.xtable(xtable(output), file=\"Bock92Table.tex\", floating=FALSE)"
   ]
  },
  {
   "cell_type": "code",
   "execution_count": 8,
   "metadata": {
    "scrolled": false
   },
   "outputs": [
    {
     "data": {
      "image/png": "[encoded data removed]",
      "text/plain": [
       "plot without title"
      ]
     },
     "metadata": {
      "image/png": {
       "height": 240,
       "width": 240
      },
      "text/plain": {
       "height": 240,
       "width": 240
      }
     },
     "output_type": "display_data"
    }
   ],
   "source": [
    "options(repr.plot.width=4, repr.plot.height=4)\n",
    "f <- ggplot(subset(b92_df, type==\"lstm\"), aes(x=clause, fill=match, y=sample/100)) + \n",
    "geom_bar(stat=\"summary\", position=\"dodge\", fun=mean) + \n",
    "geom_point(data=subset(means, type==\"lstm\"), shape=16, size=2,\n",
    "           position=position_jitterdodge(jitter.height=0, jitter.width = 0.1, dodge.width=0.9)) +\n",
    "labs(x=\"\", y=\"% Attraction Errors\", fill=\"\") +\n",
    "theme_bw() +\n",
    "scale_fill_manual(labels=c(\"Subj-Attr Mismatch \\n  ...singers...\", \n",
    "                        \"Subj-Attr Match \\n ...singer...\"), values=pallete) +\n",
    "scale_x_discrete(labels=c(\"PP \\n ...from...\", \"RC\\n ...that...\")) +\n",
    "scale_y_continuous(labels=scales::percent) +\n",
    "coord_cartesian(ylim = c(0,0.40)) +\n",
    "theme(axis.text.x=element_text(size=20), axis.text.y=element_text(size=20),\n",
    "      axis.title.y=element_text(size=20),\n",
    "      strip.text=element_text(size=20), legend.text=element_text(size=20))\n",
    "legend <- cowplot::get_legend(f)\n",
    "f <-f + theme(legend.position = \"none\")\n",
    "f\n",
    "ggsave(\"Bock92_lstm.png\", width=4, height=4)"
   ]
  },
  {
   "cell_type": "code",
   "execution_count": 9,
   "metadata": {},
   "outputs": [
    {
     "data": {
      "text/html": [
       "<strong>png:</strong> 2"
      ],
      "text/latex": [
       "\\textbf{png:} 2"
      ],
      "text/markdown": [
       "**png:** 2"
      ],
      "text/plain": [
       "png \n",
       "  2 "
      ]
     },
     "metadata": {},
     "output_type": "display_data"
    }
   ],
   "source": [
    "options(repr.plot.width=3, repr.plot.height=2)\n",
    "grid.newpage()\n",
    "png(\"bock92_legend.png\", width=3, height=2, units=\"in\", res=300)\n",
    "grid.draw(legend) \n",
    "dev.off()"
   ]
  },
  {
   "cell_type": "code",
   "execution_count": 13,
   "metadata": {},
   "outputs": [
    {
     "data": {
      "text/html": [
       "<table>\n",
       "<caption>A data.frame: 8 x 4</caption>\n",
       "<thead>\n",
       "\t<tr><th scope=col>mod</th><th scope=col>attr</th><th scope=col>local</th><th scope=col>err</th></tr>\n",
       "\t<tr><th scope=col>&lt;chr&gt;</th><th scope=col>&lt;chr&gt;</th><th scope=col>&lt;chr&gt;</th><th scope=col>&lt;dbl&gt;</th></tr>\n",
       "</thead>\n",
       "<tbody>\n",
       "\t<tr><td>PP</td><td>Mismatch</td><td>S</td><td>0.042553191</td></tr>\n",
       "\t<tr><td>PP</td><td>Mismatch</td><td>P</td><td>0.171597633</td></tr>\n",
       "\t<tr><td>PP</td><td>Match   </td><td>S</td><td>0.016042781</td></tr>\n",
       "\t<tr><td>PP</td><td>Match   </td><td>P</td><td>0.033333333</td></tr>\n",
       "\t<tr><td>RC</td><td>Match   </td><td>S</td><td>0.004784689</td></tr>\n",
       "\t<tr><td>RC</td><td>Match   </td><td>P</td><td>0.015075377</td></tr>\n",
       "\t<tr><td>RC</td><td>Mismatch</td><td>S</td><td>0.016666667</td></tr>\n",
       "\t<tr><td>RC</td><td>Mismatch</td><td>P</td><td>0.116402116</td></tr>\n",
       "</tbody>\n",
       "</table>\n"
      ],
      "text/latex": [
       "A data.frame: 8 x 4\n",
       "\\begin{tabular}{llll}\n",
       " mod & attr & local & err\\\\\n",
       " <chr> & <chr> & <chr> & <dbl>\\\\\n",
       "\\hline\n",
       "\t PP & Mismatch & S & 0.042553191\\\\\n",
       "\t PP & Mismatch & P & 0.171597633\\\\\n",
       "\t PP & Match    & S & 0.016042781\\\\\n",
       "\t PP & Match    & P & 0.033333333\\\\\n",
       "\t RC & Match    & S & 0.004784689\\\\\n",
       "\t RC & Match    & P & 0.015075377\\\\\n",
       "\t RC & Mismatch & S & 0.016666667\\\\\n",
       "\t RC & Mismatch & P & 0.116402116\\\\\n",
       "\\end{tabular}\n"
      ],
      "text/markdown": [
       "\n",
       "A data.frame: 8 x 4\n",
       "\n",
       "| mod &lt;chr&gt; | attr &lt;chr&gt; | local &lt;chr&gt; | err &lt;dbl&gt; |\n",
       "|---|---|---|---|\n",
       "| PP | Mismatch | S | 0.042553191 |\n",
       "| PP | Mismatch | P | 0.171597633 |\n",
       "| PP | Match    | S | 0.016042781 |\n",
       "| PP | Match    | P | 0.033333333 |\n",
       "| RC | Match    | S | 0.004784689 |\n",
       "| RC | Match    | P | 0.015075377 |\n",
       "| RC | Mismatch | S | 0.016666667 |\n",
       "| RC | Mismatch | P | 0.116402116 |\n",
       "\n"
      ],
      "text/plain": [
       "  mod attr     local err        \n",
       "1 PP  Mismatch S     0.042553191\n",
       "2 PP  Mismatch P     0.171597633\n",
       "3 PP  Match    S     0.016042781\n",
       "4 PP  Match    P     0.033333333\n",
       "5 RC  Match    S     0.004784689\n",
       "6 RC  Match    P     0.015075377\n",
       "7 RC  Mismatch S     0.016666667\n",
       "8 RC  Mismatch P     0.116402116"
      ]
     },
     "metadata": {},
     "output_type": "display_data"
    },
    {
     "data": {
      "image/png": "[encoded data removed]",
      "text/plain": [
       "plot without title"
      ]
     },
     "metadata": {
      "image/png": {
       "height": 240,
       "width": 240
      },
      "text/plain": {
       "height": 240,
       "width": 240
      }
     },
     "output_type": "display_data"
    }
   ],
   "source": [
    "options(repr.plot.width=4, repr.plot.height=4)\n",
    "\n",
    "\n",
    "b92_human <- data.frame(mod=c(\"PP\", \"PP\", \"PP\", \"PP\", \"RC\", \"RC\", \"RC\",\"RC\"),\n",
    "                        attr=c(\"Mismatch\", \"Mismatch\", \"Match\", \"Match\", \"Match\", \"Match\", \"Mismatch\", \"Mismatch\"),\n",
    "                        local=c(\"S\",\"P\", \"S\", \"P\", \"S\", \"P\", \"S\",\"P\"),\n",
    "                        err=c(8/188, 29/169, 3/187,6/180, 1/209, 3/199, 3/180, 22/189)\n",
    "                       )\n",
    "b92_human\n",
    "\n",
    "ggplot(data=b92_human, aes(x=mod, y=err, fill=attr)) +\n",
    "geom_bar(stat=\"identity\", position=\"dodge\") +\n",
    "labs(x=\"\", y=\"% Attraction Errors\", fill=\"\") +\n",
    "theme_bw() +\n",
    "scale_fill_manual(labels=c(\"Subj-Attr Mismatch \\n  ...singers...\", \n",
    "                        \"Subj-Attr Match \\n ...singer...\"), values=pallete) +\n",
    "scale_x_discrete(labels=c(\"PP \\n ...from...\", \"RC\\n ...that...\")) +\n",
    "scale_y_continuous(labels=scales::percent) +\n",
    "theme(axis.text.x=element_text(size=20), axis.text.y=element_text(size=20),\n",
    "      axis.title.y=element_text(size=20),\n",
    "      strip.text=element_text(size=20), legend.text=element_text(size=20))+\n",
    "coord_cartesian(ylim = c(0,0.4)) +\n",
    "theme(legend.position = \"none\") \n",
    "\n",
    "ggsave(\"Bock92_human.png\", width=4, height=4)"
   ]
  },
  {
   "cell_type": "code",
   "execution_count": 58,
   "metadata": {},
   "outputs": [
    {
     "data": {
      "text/html": [
       "<table>\n",
       "<caption>A data.frame: 8 x 5</caption>\n",
       "<thead>\n",
       "\t<tr><th scope=col>mod</th><th scope=col>subj</th><th scope=col>attr</th><th scope=col>local</th><th scope=col>err</th></tr>\n",
       "\t<tr><th scope=col>&lt;chr&gt;</th><th scope=col>&lt;chr&gt;</th><th scope=col>&lt;lgl&gt;</th><th scope=col>&lt;chr&gt;</th><th scope=col>&lt;dbl&gt;</th></tr>\n",
       "</thead>\n",
       "<tbody>\n",
       "\t<tr><td>PP</td><td>P</td><td>FALSE</td><td>S</td><td>0.042553191</td></tr>\n",
       "\t<tr><td>PP</td><td>S</td><td>FALSE</td><td>P</td><td>0.171597633</td></tr>\n",
       "\t<tr><td>PP</td><td>S</td><td> TRUE</td><td>S</td><td>0.016042781</td></tr>\n",
       "\t<tr><td>PP</td><td>P</td><td> TRUE</td><td>P</td><td>0.033333333</td></tr>\n",
       "\t<tr><td>RC</td><td>S</td><td> TRUE</td><td>S</td><td>0.004784689</td></tr>\n",
       "\t<tr><td>RC</td><td>P</td><td> TRUE</td><td>P</td><td>0.015075377</td></tr>\n",
       "\t<tr><td>RC</td><td>P</td><td>FALSE</td><td>S</td><td>0.016666667</td></tr>\n",
       "\t<tr><td>RC</td><td>S</td><td>FALSE</td><td>P</td><td>0.116402116</td></tr>\n",
       "</tbody>\n",
       "</table>\n"
      ],
      "text/latex": [
       "A data.frame: 8 x 5\n",
       "\\begin{tabular}{lllll}\n",
       " mod & subj & attr & local & err\\\\\n",
       " <chr> & <chr> & <lgl> & <chr> & <dbl>\\\\\n",
       "\\hline\n",
       "\t PP & P & FALSE & S & 0.042553191\\\\\n",
       "\t PP & S & FALSE & P & 0.171597633\\\\\n",
       "\t PP & S &  TRUE & S & 0.016042781\\\\\n",
       "\t PP & P &  TRUE & P & 0.033333333\\\\\n",
       "\t RC & S &  TRUE & S & 0.004784689\\\\\n",
       "\t RC & P &  TRUE & P & 0.015075377\\\\\n",
       "\t RC & P & FALSE & S & 0.016666667\\\\\n",
       "\t RC & S & FALSE & P & 0.116402116\\\\\n",
       "\\end{tabular}\n"
      ],
      "text/markdown": [
       "\n",
       "A data.frame: 8 x 5\n",
       "\n",
       "| mod &lt;chr&gt; | subj &lt;chr&gt; | attr &lt;lgl&gt; | local &lt;chr&gt; | err &lt;dbl&gt; |\n",
       "|---|---|---|---|---|\n",
       "| PP | P | FALSE | S | 0.042553191 |\n",
       "| PP | S | FALSE | P | 0.171597633 |\n",
       "| PP | S |  TRUE | S | 0.016042781 |\n",
       "| PP | P |  TRUE | P | 0.033333333 |\n",
       "| RC | S |  TRUE | S | 0.004784689 |\n",
       "| RC | P |  TRUE | P | 0.015075377 |\n",
       "| RC | P | FALSE | S | 0.016666667 |\n",
       "| RC | S | FALSE | P | 0.116402116 |\n",
       "\n"
      ],
      "text/plain": [
       "  mod subj attr  local err        \n",
       "1 PP  P    FALSE S     0.042553191\n",
       "2 PP  S    FALSE P     0.171597633\n",
       "3 PP  S     TRUE S     0.016042781\n",
       "4 PP  P     TRUE P     0.033333333\n",
       "5 RC  S     TRUE S     0.004784689\n",
       "6 RC  P     TRUE P     0.015075377\n",
       "7 RC  P    FALSE S     0.016666667\n",
       "8 RC  S    FALSE P     0.116402116"
      ]
     },
     "metadata": {},
     "output_type": "display_data"
    },
    {
     "data": {
      "image/png": "[encoded data removed]",
      "text/plain": [
       "plot without title"
      ]
     },
     "metadata": {
      "image/png": {
       "height": 240,
       "width": 240
      },
      "text/plain": {
       "height": 240,
       "width": 240
      }
     },
     "output_type": "display_data"
    }
   ],
   "source": [
    "#options(repr.plot.width=4, repr.plot.height=4)\n",
    "\n",
    "\n",
    "b92_human <- data.frame(mod=c(\"PP\", \"PP\", \"PP\", \"PP\", \"RC\", \"RC\", \"RC\",\"RC\"),\n",
    "                        subj=c(\"P\", \"S\", \"S\", \"P\", \"S\", \"P\", \"P\", \"S\"),\n",
    "                        attr=c(FALSE, FALSE, TRUE, TRUE, TRUE, TRUE, FALSE, FALSE),\n",
    "                        local=c(\"S\",\"P\", \"S\", \"P\", \"S\", \"P\", \"S\",\"P\"),\n",
    "                        err=c(8/188, 29/169, 3/187,6/180, 1/209, 3/199, 3/180, 22/189)\n",
    "                       )\n",
    "b92_human\n",
    "\n",
    "ggplot(data=b92_human, aes(x=subj, y=err, fill=attr)) +\n",
    "geom_bar(stat=\"identity\", position=\"dodge\") +\n",
    "labs(x=\"Subject Number\", y=\"% Attraction Errors\", fill=\"\") +\n",
    "theme_bw() +\n",
    "scale_fill_manual(labels=c(\"Mismatch\", \n",
    "                        \"Match\"), values=pallete) +\n",
    "scale_x_discrete(labels=c(\"+Sg \\n ...tape...\", \"+Pl \\n ...tapes...\")) +\n",
    "scale_y_continuous(labels=scales::percent) +\n",
    "theme(axis.text.x=element_text(size=20), axis.text.y=element_text(size=20),\n",
    "      axis.title.y=element_text(size=20), axis.title.x=element_text(size=20),\n",
    "      strip.text=element_text(size=20), legend.text=element_text(size=20),\n",
    "     legend.title=element_text(size=20))+\n",
    "coord_cartesian(ylim = c(0,0.4)) +\n",
    "theme(legend.position = \"none\") \n",
    "\n",
    "ggsave(\"B92_na_human.png\", width=4, height=4)"
   ]
  },
  {
   "cell_type": "code",
   "execution_count": 55,
   "metadata": {},
   "outputs": [
    {
     "data": {
      "image/png": "[encoded data removed]",
      "text/plain": [
       "plot without title"
      ]
     },
     "metadata": {
      "image/png": {
       "height": 240,
       "width": 240
      },
      "text/plain": {
       "height": 240,
       "width": 240
      }
     },
     "output_type": "display_data"
    }
   ],
   "source": [
    "options(repr.plot.width=4, repr.plot.height=4)\n",
    "f <- ggplot(subset(b92_df, type==\"lstm\"), aes(x=subj, fill=match, y=sample/100)) + \n",
    "geom_bar(stat=\"summary\", position=\"dodge\", fun=mean) + \n",
    "geom_point(data=subset(means_na, type==\"lstm\"), shape=16, size=2,\n",
    "           position=position_jitterdodge(jitter.height=0, jitter.width = 0.1, dodge.width=0.9)) +\n",
    "labs(x=\"Subject Number\", y=\"% Attraction Errors\", fill=\"Subject-Attractor #\") +\n",
    "theme_bw() +\n",
    "scale_fill_manual(labels=c(\"Mismatch\", \n",
    "                        \"Match\"), values=pallete) +\n",
    "scale_x_discrete(labels=c(\"+Sg \\n ... tape ...\", \"+Pl \\n ... tapes ...\")) +\n",
    "scale_y_continuous(labels=scales::percent) +\n",
    "coord_cartesian(ylim = c(0,0.40)) +\n",
    "theme(axis.text.x=element_text(size=20), axis.text.y=element_text(size=20),\n",
    "      axis.title.y=element_text(size=20), axis.title.x=element_text(size=20),\n",
    "      strip.text=element_text(size=20), legend.text=element_text(size=20),\n",
    "     legend.title=element_text(size=20))\n",
    "\n",
    "legend <- cowplot::get_legend(f)\n",
    "f <-f + theme(legend.position = \"none\")\n",
    "f\n",
    "ggsave(\"B92_na_lstm.png\", width=4, height=4)"
   ]
  },
  {
   "cell_type": "code",
   "execution_count": 31,
   "metadata": {},
   "outputs": [
    {
     "data": {
      "text/html": [
       "<strong>png:</strong> 2"
      ],
      "text/latex": [
       "\\textbf{png:} 2"
      ],
      "text/markdown": [
       "**png:** 2"
      ],
      "text/plain": [
       "png \n",
       "  2 "
      ]
     },
     "metadata": {},
     "output_type": "display_data"
    }
   ],
   "source": [
    "options(repr.plot.width=3, repr.plot.height=2)\n",
    "grid.newpage()\n",
    "png(\"bock92_legend_na.png\", width=3, height=2, units=\"in\", res=300)\n",
    "grid.draw(legend) \n",
    "dev.off()"
   ]
  },
  {
   "cell_type": "code",
   "execution_count": null,
   "metadata": {},
   "outputs": [],
   "source": [
    "b92_lm <- glmmTMB(data=subset(b92_df, type==\"lstm\"), \n",
    "                  sample/100 ~ subj * match * clause + (1 | item) + (1 | model),\n",
    "                 family=beta_family())\n",
    "summary(b92_lm)"
   ]
  },
  {
   "cell_type": "code",
   "execution_count": null,
   "metadata": {},
   "outputs": [],
   "source": [
    "\n",
    "b92_lm <- glmmTMB(data=subset(b92_df, type==\"lstm\" & clause==\"rc\"), sample/100 ~ match + (1 | item) + (1 | model), family=beta_family())\n",
    "lstm_rc_eff <- -summary(b92_lm)$coeff$cond[2,1]\n",
    "lstm_rc_se <- summary(b92_lm)$coeff$cond[2,2]\n",
    "\n",
    "b92_lm <- glmmTMB(data=subset(b92_df, type==\"lstm\" & clause==\"prop\"), sample/100 ~ match + (1 | item) + (1 | model), family=beta_family())\n",
    "lstm_pp_eff <- -summary(b92_lm)$coeff$cond[2,1]\n",
    "lstm_pp_se <- summary(b92_lm)$coeff$cond[2,2]\n",
    "\n",
    "b92_effs <- data.frame(clause=c(\"RC\",\"PP\"), \n",
    "                       eff=c(lstm_rc_eff, lstm_pp_eff),\n",
    "                       se=c(lstm_rc_se, lstm_pp_se))\n",
    "b92_effs"
   ]
  },
  {
   "cell_type": "code",
   "execution_count": null,
   "metadata": {},
   "outputs": [],
   "source": [
    "ggplot(b92_effs, aes(y=eff, x = clause, color=clause)) + \n",
    "geom_point(stat=\"identity\", size=3) +\n",
    "geom_errorbar(aes(ymax=se+eff, ymin=-se+eff), width=0.5) +\n",
    "theme(legend.position = \"none\") +\n",
    "labs(x = \"Subject Modifier Type\", y = expression(paste(\"Size of Attraction Effect (\", beta, \")\")))\n",
    "\n",
    "expression(beta)\n",
    "b92_effs$eff\n",
    "\n",
    "ggsave(\"B92_effectsize.png\")"
   ]
  },
  {
   "cell_type": "markdown",
   "metadata": {},
   "source": [
    "# Haskell & Macdonald 2011"
   ]
  },
  {
   "cell_type": "code",
   "execution_count": null,
   "metadata": {},
   "outputs": [],
   "source": [
    "hm_df <- read.csv(\"../evalsets/HaskellMacdonald2011/items.csv.reformat\")\n",
    "\n",
    "hm_df$type <- substr(hm_df$model,0, 4)\n",
    "hm_df"
   ]
  },
  {
   "cell_type": "code",
   "execution_count": null,
   "metadata": {},
   "outputs": [],
   "source": [
    "output <- hm_df %>% group_by(\"Model Type\"=type, \"Order\"=condition) %>% summarize(\"Sample\"=mean(sample), \"MaxProb\" = mean(max))\n",
    "\n",
    "output\n",
    "\n",
    "print.xtable(xtable(output), file=\"HaskellTable.tex\", floating=FALSE)"
   ]
  },
  {
   "cell_type": "code",
   "execution_count": null,
   "metadata": {
    "scrolled": true
   },
   "outputs": [],
   "source": [
    "options(repr.plot.width=5, repr.plot.height=4)\n",
    "\n",
    "\n",
    "means <- hm_df %>% group_by(model, condition, type) %>% summarize(sample = mean(sample), max = mean(max))\n",
    "\n",
    "\n",
    "ggplot(subset(hm_df, type==\"lstm\"), aes(x=condition, y=sample/100)) + \n",
    "geom_bar(stat=\"summary\", position=\"dodge\", fun.y = \"mean\", fill=\"#566e4b\", width=0.7) + \n",
    "geom_point(data=subset(means, type==\"lstm\"), shape=16, size=2) +\n",
    "labs(x=\"\", y=\"% Plural Agreement\") +\n",
    "theme_bw() + \n",
    "scale_x_discrete(labels=c(\"boys... girl\", \"boy... girls\")) + \n",
    "scale_y_continuous(labels=scales::percent) +\n",
    "coord_cartesian(ylim = c(0,1)) +\n",
    "theme(axis.text.x=element_text(size=20), axis.text.y=element_text(size=20),\n",
    "      axis.title.y=element_text(size=20),\n",
    "      strip.text=element_text(size=20), legend.text=element_text(size=20))+\n",
    "theme(legend.position = \"none\")\n",
    "\n",
    "ggsave(\"Haskell_lstm.png\", width= 5, height = 4)"
   ]
  },
  {
   "cell_type": "code",
   "execution_count": null,
   "metadata": {},
   "outputs": [],
   "source": [
    "options(repr.plot.width=5, repr.plot.height=4)\n",
    "\n",
    "\n",
    "hm_human <- data.frame(order=c(\"SP\", \"PS\"),\n",
    "                            plural=c(98, 28)/100)\n",
    "\n",
    "ggplot(hm_human, aes(x=order, y=plural)) +\n",
    "labs(x=\"Ordering of # features in disjunction\", y=\"% Plural Agreement\") +\n",
    "labs(x=\"\", y=\"% Plural Agreement\") +\n",
    "scale_x_discrete(labels=c(\"boys... girl\", \"boy... girls\")) + \n",
    "scale_y_continuous(labels=scales::percent) +\n",
    "coord_cartesian(ylim = c(0,1)) +\n",
    "theme_bw() +\n",
    "theme(axis.text.x=element_text(size=20), axis.text.y=element_text(size=20),\n",
    "      axis.title.y=element_text(size=20),\n",
    "      strip.text=element_text(size=20), legend.text=element_text(size=20))+\n",
    "theme(legend.position = \"none\") +\n",
    "geom_bar(stat=\"identity\", fill=\"#566e4b\", width=0.7)\n",
    "\n",
    "ggsave(\"haskell_human.png\", width=5, height=4)"
   ]
  },
  {
   "cell_type": "code",
   "execution_count": null,
   "metadata": {},
   "outputs": [],
   "source": [
    "hm_lm <- glmmTMB(data=subset(hm_df, hm_df$type == \"lstm\"), \n",
    "                 sample/100 ~ condition  + (1|item) + (1 | model),\n",
    "                family=beta_family())\n",
    "\n",
    "summary(hm_lm)"
   ]
  },
  {
   "cell_type": "markdown",
   "metadata": {},
   "source": [
    "# Franck 2002"
   ]
  },
  {
   "cell_type": "code",
   "execution_count": 33,
   "metadata": {
    "scrolled": true
   },
   "outputs": [
    {
     "data": {
      "text/plain": [
       "       X               item           subj              inter          \n",
       " Min.   :   0.0   Min.   : 0.00   Length:1280        Length:1280       \n",
       " 1st Qu.: 638.5   1st Qu.: 7.75   Class :character   Class :character  \n",
       " Median :1277.0   Median :15.50   Mode  :character   Mode  :character  \n",
       " Mean   :1277.0   Mean   :15.50                                        \n",
       " 3rd Qu.:1915.5   3rd Qu.:23.25                                        \n",
       " Max.   :2554.0   Max.   :31.00                                        \n",
       "    local              model                max              sample       \n",
       " Length:1280        Length:1280        Min.   :  0.000   Min.   : 0.2238  \n",
       " Class :character   Class :character   1st Qu.:  0.000   1st Qu.: 4.0113  \n",
       " Mode  :character   Mode  :character   Median :  0.000   Median : 8.0540  \n",
       "                                       Mean   :  1.797   Mean   :12.2707  \n",
       "                                       3rd Qu.:  0.000   3rd Qu.:15.9255  \n",
       "                                       Max.   :100.000   Max.   :80.1224  \n",
       " inter_match     local_match         type          \n",
       " Mode :logical   Mode :logical   Length:1280       \n",
       " FALSE:640       FALSE:640       Class :character  \n",
       " TRUE :640       TRUE :640       Mode  :character  \n",
       "                                                   \n",
       "                                                   \n",
       "                                                   "
      ]
     },
     "metadata": {},
     "output_type": "display_data"
    }
   ],
   "source": [
    "franck_df <- read.csv('../evalsets/Franck2002/items.csv.reformat')\n",
    "\n",
    "franck_df <- tidyr::separate(franck_df, condition, c(\"subj\", \"inter\", \"local\"), sep=1:3)\n",
    "franck_df$sample <- 100 - franck_df$sample\n",
    "franck_df$max <- 100 - franck_df$max\n",
    "\n",
    "franck_df$inter_match <- franck_df$subj == franck_df$inter\n",
    "franck_df$local_match <- franck_df$subj == franck_df$local\n",
    "franck_df$type = substr(franck_df$model, 0, 4)\n",
    "\n",
    "franck_lstm_df = subset(franck_df, substr(franck_df$model, 0,4) == \"lstm\")\n",
    "summary(franck_lstm_df)\n"
   ]
  },
  {
   "cell_type": "code",
   "execution_count": 34,
   "metadata": {
    "scrolled": true
   },
   "outputs": [
    {
     "name": "stderr",
     "output_type": "stream",
     "text": [
      "`summarise()` regrouping output by 'model', 'inter_match' (override with `.groups` argument)\n",
      "\n"
     ]
    }
   ],
   "source": [
    "means_lstm <- franck_lstm_df %>% group_by(model, inter_match, local_match) %>% summarize(sample = mean(sample), max = mean(max))\n"
   ]
  },
  {
   "cell_type": "code",
   "execution_count": 36,
   "metadata": {},
   "outputs": [
    {
     "name": "stderr",
     "output_type": "stream",
     "text": [
      "Saving 6.67 x 6.67 in image\n",
      "\n"
     ]
    },
    {
     "data": {
      "image/png": "[encoded data removed]",
      "text/plain": [
       "plot without title"
      ]
     },
     "metadata": {
      "image/png": {
       "height": 120,
       "width": 180
      },
      "text/plain": {
       "height": 120,
       "width": 180
      }
     },
     "output_type": "display_data"
    }
   ],
   "source": [
    "plt <- ggplot(franck_lstm_df, aes(x=inter_match, fill=local_match, y=max)) +\n",
    "geom_bar(stat=\"summary\", position=\"dodge\", fun = mean) + \n",
    "geom_point(data=means_lstm, shape=16, size=2,\n",
    "           position=position_jitterdodge(jitter.height=0, jitter.width = 0.1, dodge.width=0.9)) + \n",
    "labs(x=\"Subject-Intermediate ('high') attractor #\", \n",
    "     fill=\"Subject-Local ('low') attractor #\", y=\"% Attraction Errors\") +\n",
    "scale_fill_hue(labels=c(\"Mismatch\", \"Match\")) +\n",
    "coord_cartesian(ylim=c(0,100))\n",
    "\n",
    "plt\n",
    "\n",
    "ggsave(\"Franck_max_lstm.png\")"
   ]
  },
  {
   "cell_type": "code",
   "execution_count": 38,
   "metadata": {
    "scrolled": false
   },
   "outputs": [
    {
     "data": {
      "image/png": "[encoded data removed]",
      "text/plain": [
       "plot without title"
      ]
     },
     "metadata": {
      "image/png": {
       "height": 240,
       "width": 240
      },
      "text/plain": {
       "height": 240,
       "width": 240
      }
     },
     "output_type": "display_data"
    }
   ],
   "source": [
    "library(repr)\n",
    "options(repr.plot.width=4, repr.plot.height=4)\n",
    "\n",
    "\n",
    "plt <- ggplot(franck_lstm_df, aes(x=inter_match, fill=local_match, y=sample/100)) +\n",
    "geom_bar(stat=\"summary\", position=\"dodge\", fun = mean) + \n",
    "geom_point(data=means_lstm, shape=16, size=2,\n",
    "           position=position_jitterdodge(jitter.height=0, jitter.width = 0.1, dodge.width=0.9)) + \n",
    "#stat_summary(fun.data = mean_se, geom = \"errorbar\", position=\"dodge\", color=\"black\") +\n",
    "labs(x=\"\", \n",
    "     fill=\"\", y=\"% Attraction Errors\") +\n",
    "scale_fill_manual(labels=c(\"threat... \\ncompanies\", \n",
    "                        \"threat... \\ncompany\"), values=pallete) +\n",
    "scale_x_discrete(labels=c(\"threat... \\npresidents\", \n",
    "                          \"threat... \\npresident\")) + \n",
    "scale_y_continuous(labels=scales::percent) +\n",
    "coord_cartesian(ylim = c(0,0.5)) +\n",
    "theme_bw() +\n",
    "theme(axis.text.x=element_text(size=19), axis.text.y=element_text(size=20),\n",
    "      axis.title.y=element_text(size=20),\n",
    "      strip.text=element_text(size=20), legend.text=element_text(size=20))\n",
    "legend <- cowplot::get_legend(plt)\n",
    "plt <- plt + theme(legend.position = \"none\") \n",
    "\n",
    "plt\n",
    "\n",
    "ggsave(\"Franck_lstm.png\", width = 4, height = 4)"
   ]
  },
  {
   "cell_type": "code",
   "execution_count": null,
   "metadata": {
    "scrolled": true
   },
   "outputs": [],
   "source": [
    "options(repr.plot.width=3, repr.plot.height=2)\n",
    "grid.newpage()\n",
    "png(\"franck_legend.png\", width=3, height=2, units=\"in\", res=300)\n",
    "grid.draw(legend) \n",
    "dev.off()\n",
    "grid.draw(legend)"
   ]
  },
  {
   "cell_type": "code",
   "execution_count": 81,
   "metadata": {
    "scrolled": false
   },
   "outputs": [
    {
     "data": {
      "image/png": "[encoded data removed]",
      "text/plain": [
       "plot without title"
      ]
     },
     "metadata": {
      "image/png": {
       "height": 240,
       "width": 240
      },
      "text/plain": {
       "height": 240,
       "width": 240
      }
     },
     "output_type": "display_data"
    }
   ],
   "source": [
    "library(repr)\n",
    "options(repr.plot.width=4, repr.plot.height=4)\n",
    "\n",
    "\n",
    "plt <- ggplot(franck_lstm_df, aes(x=inter_match, y=sample/100)) +\n",
    "geom_bar(stat=\"summary\", fun = mean, fill=\"#566e4b\", width=0.6) + \n",
    "geom_point(data=means_lstm, shape=16, size=2) + \n",
    "#stat_summary(fun.data = mean_se, geom = \"errorbar\", position=\"dodge\", color=\"black\") +\n",
    "labs(x=\"Attr 1 (Syntactically Close)\", \n",
    "     fill=\"\", y=\"% Attraction Errors\") +\n",
    "scale_x_discrete(labels=c(\"Mismatch\", \n",
    "                          \"Match\")) + \n",
    "scale_y_continuous(labels=scales::percent) +\n",
    "coord_cartesian(ylim = c(0,0.5)) +\n",
    "theme_bw() +\n",
    "theme(axis.text.x=element_text(size=19), axis.text.y=element_text(size=20),\n",
    "      axis.title.y=element_text(size=20), axis.title.x=element_text(size=17),\n",
    "      strip.text=element_text(size=20), legend.text=element_text(size=20))\n",
    "legend <- cowplot::get_legend(plt)\n",
    "plt <- plt + theme(legend.position = \"none\") \n",
    "\n",
    "plt\n",
    "\n",
    "ggsave(\"Franck_lstm_intermed.png\", width = 4, height = 4)"
   ]
  },
  {
   "cell_type": "code",
   "execution_count": 80,
   "metadata": {
    "scrolled": false
   },
   "outputs": [
    {
     "data": {
      "image/png": "[encoded data removed]",
      "text/plain": [
       "plot without title"
      ]
     },
     "metadata": {
      "image/png": {
       "height": 240,
       "width": 240
      },
      "text/plain": {
       "height": 240,
       "width": 240
      }
     },
     "output_type": "display_data"
    }
   ],
   "source": [
    "library(repr)\n",
    "options(repr.plot.width=4, repr.plot.height=4)\n",
    "\n",
    "\n",
    "plt <- ggplot(franck_lstm_df, aes(x=local_match, y=sample/100)) +\n",
    "geom_bar(stat=\"summary\", fun = mean, fill=\"#566e4b\", width=0.6) + \n",
    "geom_point(data=means_lstm, shape=16, size=2) + \n",
    "#stat_summary(fun.data = mean_se, geom = \"errorbar\", position=\"dodge\", color=\"black\") +\n",
    "labs(x=\"Attr 2 (Linearly Close)\", \n",
    "     fill=\"\", y=\"% Attraction Errors\") +\n",
    "scale_x_discrete(labels=c(\"Mismatch\", \n",
    "                          \"Match\")) + \n",
    "scale_y_continuous(labels=scales::percent) +\n",
    "coord_cartesian(ylim = c(0,0.5)) +\n",
    "theme_bw() +\n",
    "theme(axis.text.x=element_text(size=19), axis.text.y=element_text(size=20),\n",
    "      axis.title.y=element_text(size=20), axis.title.x=element_text(size=17),\n",
    "      strip.text=element_text(size=20), legend.text=element_text(size=20))\n",
    "legend <- cowplot::get_legend(plt)\n",
    "plt <- plt + theme(legend.position = \"none\") \n",
    "\n",
    "plt\n",
    "\n",
    "ggsave(\"Franck_lstm_local.png\", width = 4, height = 4)"
   ]
  },
  {
   "cell_type": "code",
   "execution_count": 81,
   "metadata": {
    "scrolled": false
   },
   "outputs": [
    {
     "data": {
      "image/png": "[encoded data removed]",
      "text/plain": [
       "plot without title"
      ]
     },
     "metadata": {
      "image/png": {
       "height": 240,
       "width": 240
      },
      "text/plain": {
       "height": 240,
       "width": 240
      }
     },
     "output_type": "display_data"
    }
   ],
   "source": [
    "library(repr)\n",
    "options(repr.plot.width=4, repr.plot.height=4)\n",
    "\n",
    "\n",
    "plt <- ggplot(franck_lstm_df, aes(x=inter_match, y=sample/100)) +\n",
    "geom_bar(stat=\"summary\", fun = mean, fill=\"#566e4b\", width=0.6) + \n",
    "geom_point(data=means_lstm, shape=16, size=2) + \n",
    "#stat_summary(fun.data = mean_se, geom = \"errorbar\", position=\"dodge\", color=\"black\") +\n",
    "labs(x=\"Attr 1 (Syntactically Close)\", \n",
    "     fill=\"\", y=\"% Attraction Errors\") +\n",
    "scale_x_discrete(labels=c(\"Mismatch\", \n",
    "                          \"Match\")) + \n",
    "scale_y_continuous(labels=scales::percent) +\n",
    "coord_cartesian(ylim = c(0,0.5)) +\n",
    "theme_bw() +\n",
    "theme(axis.text.x=element_text(size=19), axis.text.y=element_text(size=20),\n",
    "      axis.title.y=element_text(size=20), axis.title.x=element_text(size=17),\n",
    "      strip.text=element_text(size=20), legend.text=element_text(size=20))\n",
    "legend <- cowplot::get_legend(plt)\n",
    "plt <- plt + theme(legend.position = \"none\") \n",
    "\n",
    "plt\n",
    "\n",
    "ggsave(\"Franck_lstm_intermed.png\", width = 4, height = 4)"
   ]
  },
  {
   "cell_type": "code",
   "execution_count": 67,
   "metadata": {},
   "outputs": [
    {
     "data": {
      "image/png": "[encoded data removed]",
      "text/plain": [
       "plot without title"
      ]
     },
     "metadata": {
      "image/png": {
       "height": 240,
       "width": 240
      },
      "text/plain": {
       "height": 240,
       "width": 240
      }
     },
     "output_type": "display_data"
    }
   ],
   "source": [
    "options(repr.plot.width=4, repr.plot.height=4)\n",
    "\n",
    "\n",
    "franck_human <- data.frame(subj=rep(c(\"S\",\"P\"), each=4),\n",
    "                           inter=rep(c(\"S\", \"S\", \"P\", \"P\"), times=2),\n",
    "                           local=rep(c(\"S\", \"P\"), times=4),\n",
    "                           err=c(1.3, 0, 9.8, 4.5, 5.8, 9.4, 3.1, 1.3)/100)\n",
    "\n",
    "franck_human$inter_match <- franck_human$inter == franck_human$subj\n",
    "franck_human$local_match <- franck_human$local == franck_human$subj\n",
    "\n",
    "\n",
    "ggplot(franck_human, aes(x=inter_match, fill=local_match, y=err)) +\n",
    "geom_bar(stat=\"identity\", position=\"dodge\") + \n",
    "labs(x=\"\", \n",
    "     fill=\"\", y=\"% Attraction Errors\") +\n",
    "theme(axis.text=element_text(size=10), strip.text=element_text(size=9), legend.text=element_text(size=10)) +\n",
    "scale_fill_manual(labels=c(\"threat... \\ncompanies\", \n",
    "                        \"threat... \\ncompany\"), values=pallete) +\n",
    "scale_x_discrete(labels=c(\"threat... \\npresidents\", \n",
    "                          \"threat... \\npresident\")) + \n",
    "scale_y_continuous(labels=scales::percent) +\n",
    "coord_cartesian(ylim = c(0,0.5)) +\n",
    "theme_bw() +\n",
    "theme(axis.text.x=element_text(size=19), axis.text.y=element_text(size=20),\n",
    "      axis.title.y=element_text(size=20),\n",
    "      strip.text=element_text(size=20), legend.text=element_text(size=20))+\n",
    "theme(legend.position = 'none')\n",
    "\n",
    "ggsave(\"Franck_human.png\", width=4, height=4)"
   ]
  },
  {
   "cell_type": "code",
   "execution_count": 83,
   "metadata": {
    "scrolled": false
   },
   "outputs": [
    {
     "data": {
      "image/png": "[encoded data removed]",
      "text/plain": [
       "plot without title"
      ]
     },
     "metadata": {
      "image/png": {
       "height": 240,
       "width": 240
      },
      "text/plain": {
       "height": 240,
       "width": 240
      }
     },
     "output_type": "display_data"
    }
   ],
   "source": [
    "library(repr)\n",
    "options(repr.plot.width=4, repr.plot.height=4)\n",
    "\n",
    "\n",
    "plt <- ggplot(franck_human, aes(x=local_match, y=err)) +\n",
    "geom_bar(stat=\"identity\", fill=\"#566e4b\", width=0.6) + \n",
    "#stat_summary(fun.data = mean_se, geom = \"errorbar\", position=\"dodge\", color=\"black\") +\n",
    "labs(x=\"Attr 2 (Linearly Close)\", \n",
    "     fill=\"\", y=\"% Attraction Errors\") +\n",
    "scale_x_discrete(labels=c(\"Mismatch\", \n",
    "                          \"Match\")) + \n",
    "scale_y_continuous(labels=scales::percent) +\n",
    "coord_cartesian(ylim = c(0,0.5)) +\n",
    "theme_bw() +\n",
    "theme(axis.text.x=element_text(size=19), axis.text.y=element_text(size=20),\n",
    "      axis.title.y=element_text(size=20), axis.title.x=element_text(size=17),\n",
    "      strip.text=element_text(size=20), legend.text=element_text(size=20))\n",
    "legend <- cowplot::get_legend(plt)\n",
    "plt <- plt + theme(legend.position = \"none\") \n",
    "\n",
    "plt\n",
    "\n",
    "ggsave(\"Franck_human_local.png\", width = 4, height = 4)"
   ]
  },
  {
   "cell_type": "code",
   "execution_count": 82,
   "metadata": {
    "scrolled": false
   },
   "outputs": [
    {
     "data": {
      "image/png": "[encoded data removed]",
      "text/plain": [
       "plot without title"
      ]
     },
     "metadata": {
      "image/png": {
       "height": 240,
       "width": 240
      },
      "text/plain": {
       "height": 240,
       "width": 240
      }
     },
     "output_type": "display_data"
    }
   ],
   "source": [
    "library(repr)\n",
    "options(repr.plot.width=4, repr.plot.height=4)\n",
    "\n",
    "\n",
    "plt <- ggplot(franck_human, aes(x=inter_match, y=err)) +\n",
    "geom_bar(stat=\"identity\", fill=\"#566e4b\", width=0.6) + \n",
    "#stat_summary(fun.data = mean_se, geom = \"errorbar\", position=\"dodge\", color=\"black\") +\n",
    "labs(x=\"Attr 1 (Syntactically Close)\", \n",
    "     fill=\"\", y=\"% Attraction Errors\") +\n",
    "scale_x_discrete(labels=c(\"Mismatch\", \n",
    "                          \"Match\")) + \n",
    "scale_y_continuous(labels=scales::percent) +\n",
    "coord_cartesian(ylim = c(0,0.5)) +\n",
    "theme_bw() +\n",
    "theme(axis.text.x=element_text(size=19), axis.text.y=element_text(size=20),\n",
    "      axis.title.y=element_text(size=20), axis.title.x=element_text(size=17),\n",
    "      strip.text=element_text(size=20), legend.text=element_text(size=20))\n",
    "legend <- cowplot::get_legend(plt)\n",
    "plt <- plt + theme(legend.position = \"none\") \n",
    "\n",
    "plt\n",
    "\n",
    "ggsave(\"Franck_human_intermed.png\", width = 4, height = 4)"
   ]
  },
  {
   "cell_type": "code",
   "execution_count": null,
   "metadata": {},
   "outputs": [],
   "source": [
    "franck_lm <- glmmTMB(sample/100 ~ inter_match * local_match + (1 | item) \n",
    "                  + (1 | model), franck_lstm_df, \n",
    "                   family=beta_family())\n",
    "summary(franck_lm)\n",
    "lstm_eff <- summary(franck_lm)$coeff$cond[c(\"inter_matchTRUE\", \"local_matchTRUE\"), 1]\n",
    "lstm_se <- summary(franck_lm)$coeff$cond[c(\"inter_matchTRUE\", \"local_matchTRUE\"), 2]\n",
    "\n",
    "lstm_eff"
   ]
  },
  {
   "cell_type": "code",
   "execution_count": null,
   "metadata": {},
   "outputs": [],
   "source": [
    "# Compare low-attr-only errors to high-attr-only errors\n",
    "franck_lstm_df$cond <- factor(paste0(factor(franck_lstm_df$inter_match), factor(franck_lstm_df$local_match)))\n",
    "\n",
    "mat = t(matrix(c(0, 1, -1, 0), ncol = 4))\n",
    "mat\n",
    "\n",
    "franck_lm <- glmmTMB(sample/100 ~ cond + (1 | item) \n",
    "                  + (1 | model), franck_lstm_df, \n",
    "                   family=beta_family(), contrasts=list(cond=mat))\n",
    "\n",
    "summary(franck_lm)\n"
   ]
  },
  {
   "cell_type": "code",
   "execution_count": null,
   "metadata": {},
   "outputs": [],
   "source": [
    "summary(franck_lm)$coeff"
   ]
  },
  {
   "cell_type": "code",
   "execution_count": null,
   "metadata": {},
   "outputs": [],
   "source": [
    "eff_df <- data.frame(model=c(\"LSTM\", \"LSTM\"), attr=c(\"intermediate\", \"local\"), eff=lstm_eff, se=lstm_se)\n",
    "\n",
    "eff_df\n",
    "ggplot(eff_df, aes(y=-eff, x = attr, color=attr)) + \n",
    "facet_grid( ~ model) +\n",
    "geom_point(stat=\"identity\", size=5) +\n",
    "geom_errorbar(aes(ymax=-eff+se, ymin=-eff-se), width=0.5) +\n",
    "theme(legend.position = \"none\") +\n",
    "labs(y=expression(beta), x=\"Attractor Position\") \n",
    "\n",
    "ggsave(\"Franck_effectsize.png\", width=2.5, height=5)"
   ]
  },
  {
   "cell_type": "markdown",
   "metadata": {},
   "source": [
    "# Humphreys & Bock 2005"
   ]
  },
  {
   "cell_type": "code",
   "execution_count": 5,
   "metadata": {},
   "outputs": [
    {
     "data": {
      "text/html": [
       "<table>\n",
       "<caption>A data.frame: 1080 x 9</caption>\n",
       "<thead>\n",
       "\t<tr><th scope=col>X</th><th scope=col>item</th><th scope=col>subj</th><th scope=col>local</th><th scope=col>prep</th><th scope=col>model</th><th scope=col>max</th><th scope=col>sample</th><th scope=col>type</th></tr>\n",
       "\t<tr><th scope=col>&lt;int&gt;</th><th scope=col>&lt;int&gt;</th><th scope=col>&lt;chr&gt;</th><th scope=col>&lt;chr&gt;</th><th scope=col>&lt;chr&gt;</th><th scope=col>&lt;chr&gt;</th><th scope=col>&lt;int&gt;</th><th scope=col>&lt;dbl&gt;</th><th scope=col>&lt;chr&gt;</th></tr>\n",
       "</thead>\n",
       "<tbody>\n",
       "\t<tr><td> 0</td><td>0</td><td>C</td><td>P</td><td>D</td><td>lstm0</td><td>  0</td><td>26.623113</td><td>lstm</td></tr>\n",
       "\t<tr><td> 1</td><td>0</td><td>C</td><td>P</td><td>D</td><td>lstm1</td><td>100</td><td>59.510610</td><td>lstm</td></tr>\n",
       "\t<tr><td> 2</td><td>0</td><td>C</td><td>P</td><td>D</td><td>lstm2</td><td>  0</td><td>23.568203</td><td>lstm</td></tr>\n",
       "\t<tr><td> 3</td><td>0</td><td>C</td><td>P</td><td>D</td><td>lstm3</td><td>  0</td><td>18.525685</td><td>lstm</td></tr>\n",
       "\t<tr><td> 4</td><td>0</td><td>C</td><td>P</td><td>D</td><td>lstm4</td><td>  0</td><td>41.020219</td><td>lstm</td></tr>\n",
       "\t<tr><td> 5</td><td>0</td><td>C</td><td>P</td><td>D</td><td>rnng0</td><td>100</td><td>67.983203</td><td>rnng</td></tr>\n",
       "\t<tr><td> 6</td><td>0</td><td>C</td><td>P</td><td>D</td><td>rnng1</td><td>  0</td><td>33.079314</td><td>rnng</td></tr>\n",
       "\t<tr><td> 7</td><td>0</td><td>C</td><td>P</td><td>D</td><td>rnng2</td><td>  0</td><td>41.862998</td><td>rnng</td></tr>\n",
       "\t<tr><td> 8</td><td>0</td><td>C</td><td>P</td><td>D</td><td>rnng3</td><td>  0</td><td>10.666201</td><td>rnng</td></tr>\n",
       "\t<tr><td> 9</td><td>0</td><td>C</td><td>P</td><td>D</td><td>rnng4</td><td>  0</td><td>10.891229</td><td>rnng</td></tr>\n",
       "\t<tr><td>10</td><td>0</td><td>C</td><td>P</td><td>C</td><td>lstm0</td><td>  0</td><td>27.175004</td><td>lstm</td></tr>\n",
       "\t<tr><td>11</td><td>0</td><td>C</td><td>P</td><td>C</td><td>lstm1</td><td>100</td><td>55.165888</td><td>lstm</td></tr>\n",
       "\t<tr><td>12</td><td>0</td><td>C</td><td>P</td><td>C</td><td>lstm2</td><td>  0</td><td>27.020632</td><td>lstm</td></tr>\n",
       "\t<tr><td>13</td><td>0</td><td>C</td><td>P</td><td>C</td><td>lstm3</td><td>  0</td><td>20.014255</td><td>lstm</td></tr>\n",
       "\t<tr><td>14</td><td>0</td><td>C</td><td>P</td><td>C</td><td>lstm4</td><td>  0</td><td>27.731298</td><td>lstm</td></tr>\n",
       "\t<tr><td>15</td><td>0</td><td>C</td><td>P</td><td>C</td><td>rnng0</td><td>100</td><td>62.245933</td><td>rnng</td></tr>\n",
       "\t<tr><td>16</td><td>0</td><td>C</td><td>P</td><td>C</td><td>rnng1</td><td>  0</td><td>38.983639</td><td>rnng</td></tr>\n",
       "\t<tr><td>17</td><td>0</td><td>C</td><td>P</td><td>C</td><td>rnng2</td><td>100</td><td>60.410524</td><td>rnng</td></tr>\n",
       "\t<tr><td>18</td><td>0</td><td>C</td><td>P</td><td>C</td><td>rnng3</td><td>  0</td><td>21.238646</td><td>rnng</td></tr>\n",
       "\t<tr><td>19</td><td>0</td><td>C</td><td>P</td><td>C</td><td>rnng4</td><td>  0</td><td>22.548210</td><td>rnng</td></tr>\n",
       "\t<tr><td>20</td><td>0</td><td>C</td><td>S</td><td>C</td><td>lstm0</td><td>  0</td><td> 6.224375</td><td>lstm</td></tr>\n",
       "\t<tr><td>21</td><td>0</td><td>C</td><td>S</td><td>C</td><td>lstm1</td><td>  0</td><td> 8.048512</td><td>lstm</td></tr>\n",
       "\t<tr><td>22</td><td>0</td><td>C</td><td>S</td><td>C</td><td>lstm2</td><td>  0</td><td> 3.725034</td><td>lstm</td></tr>\n",
       "\t<tr><td>23</td><td>0</td><td>C</td><td>S</td><td>C</td><td>lstm3</td><td>  0</td><td> 9.756827</td><td>lstm</td></tr>\n",
       "\t<tr><td>24</td><td>0</td><td>C</td><td>S</td><td>C</td><td>lstm4</td><td>  0</td><td> 5.728939</td><td>lstm</td></tr>\n",
       "\t<tr><td>25</td><td>0</td><td>C</td><td>S</td><td>C</td><td>rnng0</td><td>  0</td><td> 5.613095</td><td>rnng</td></tr>\n",
       "\t<tr><td>26</td><td>0</td><td>C</td><td>S</td><td>C</td><td>rnng1</td><td>  0</td><td>16.906055</td><td>rnng</td></tr>\n",
       "\t<tr><td>27</td><td>0</td><td>C</td><td>S</td><td>C</td><td>rnng2</td><td>  0</td><td>10.260587</td><td>rnng</td></tr>\n",
       "\t<tr><td>28</td><td>0</td><td>C</td><td>S</td><td>C</td><td>rnng3</td><td>  0</td><td> 2.393938</td><td>rnng</td></tr>\n",
       "\t<tr><td>29</td><td>0</td><td>C</td><td>S</td><td>C</td><td>rnng4</td><td>  0</td><td> 1.295032</td><td>rnng</td></tr>\n",
       "\t<tr><td>...</td><td>...</td><td>...</td><td>...</td><td>...</td><td>...</td><td>...</td><td>...</td><td>...</td></tr>\n",
       "\t<tr><td>1050</td><td>17</td><td>P</td><td>P</td><td>D</td><td>lstm0</td><td>100</td><td>92.505837</td><td>lstm</td></tr>\n",
       "\t<tr><td>1051</td><td>17</td><td>P</td><td>P</td><td>D</td><td>lstm1</td><td>100</td><td>96.462860</td><td>lstm</td></tr>\n",
       "\t<tr><td>1052</td><td>17</td><td>P</td><td>P</td><td>D</td><td>lstm2</td><td>100</td><td>87.704592</td><td>lstm</td></tr>\n",
       "\t<tr><td>1053</td><td>17</td><td>P</td><td>P</td><td>D</td><td>lstm3</td><td>100</td><td>91.385432</td><td>lstm</td></tr>\n",
       "\t<tr><td>1054</td><td>17</td><td>P</td><td>P</td><td>D</td><td>lstm4</td><td>100</td><td>94.348844</td><td>lstm</td></tr>\n",
       "\t<tr><td>1055</td><td>17</td><td>P</td><td>P</td><td>D</td><td>rnng0</td><td>  0</td><td>48.957651</td><td>rnng</td></tr>\n",
       "\t<tr><td>1056</td><td>17</td><td>P</td><td>P</td><td>D</td><td>rnng1</td><td>100</td><td>92.551138</td><td>rnng</td></tr>\n",
       "\t<tr><td>1057</td><td>17</td><td>P</td><td>P</td><td>D</td><td>rnng2</td><td>100</td><td>51.532020</td><td>rnng</td></tr>\n",
       "\t<tr><td>1058</td><td>17</td><td>P</td><td>P</td><td>D</td><td>rnng3</td><td>100</td><td>99.187781</td><td>rnng</td></tr>\n",
       "\t<tr><td>1059</td><td>17</td><td>P</td><td>P</td><td>D</td><td>rnng4</td><td>  0</td><td>19.303637</td><td>rnng</td></tr>\n",
       "\t<tr><td>1060</td><td>17</td><td>P</td><td>P</td><td>C</td><td>lstm0</td><td>100</td><td>90.913138</td><td>lstm</td></tr>\n",
       "\t<tr><td>1061</td><td>17</td><td>P</td><td>P</td><td>C</td><td>lstm1</td><td>100</td><td>96.418095</td><td>lstm</td></tr>\n",
       "\t<tr><td>1062</td><td>17</td><td>P</td><td>P</td><td>C</td><td>lstm2</td><td>100</td><td>79.220455</td><td>lstm</td></tr>\n",
       "\t<tr><td>1063</td><td>17</td><td>P</td><td>P</td><td>C</td><td>lstm3</td><td>100</td><td>93.637023</td><td>lstm</td></tr>\n",
       "\t<tr><td>1064</td><td>17</td><td>P</td><td>P</td><td>C</td><td>lstm4</td><td>100</td><td>93.481971</td><td>lstm</td></tr>\n",
       "\t<tr><td>1065</td><td>17</td><td>P</td><td>P</td><td>C</td><td>rnng0</td><td>  0</td><td>44.425767</td><td>rnng</td></tr>\n",
       "\t<tr><td>1066</td><td>17</td><td>P</td><td>P</td><td>C</td><td>rnng1</td><td>100</td><td>98.060206</td><td>rnng</td></tr>\n",
       "\t<tr><td>1067</td><td>17</td><td>P</td><td>P</td><td>C</td><td>rnng2</td><td>100</td><td>54.075935</td><td>rnng</td></tr>\n",
       "\t<tr><td>1068</td><td>17</td><td>P</td><td>P</td><td>C</td><td>rnng3</td><td>100</td><td>97.739456</td><td>rnng</td></tr>\n",
       "\t<tr><td>1069</td><td>17</td><td>P</td><td>P</td><td>C</td><td>rnng4</td><td>  0</td><td>39.929583</td><td>rnng</td></tr>\n",
       "\t<tr><td>1070</td><td>17</td><td>P</td><td>S</td><td>C</td><td>lstm0</td><td>100</td><td>87.937274</td><td>lstm</td></tr>\n",
       "\t<tr><td>1071</td><td>17</td><td>P</td><td>S</td><td>C</td><td>lstm1</td><td>100</td><td>71.323074</td><td>lstm</td></tr>\n",
       "\t<tr><td>1072</td><td>17</td><td>P</td><td>S</td><td>C</td><td>lstm2</td><td>  0</td><td>48.434698</td><td>lstm</td></tr>\n",
       "\t<tr><td>1073</td><td>17</td><td>P</td><td>S</td><td>C</td><td>lstm3</td><td>100</td><td>61.085979</td><td>lstm</td></tr>\n",
       "\t<tr><td>1074</td><td>17</td><td>P</td><td>S</td><td>C</td><td>lstm4</td><td>100</td><td>83.966285</td><td>lstm</td></tr>\n",
       "\t<tr><td>1075</td><td>17</td><td>P</td><td>S</td><td>C</td><td>rnng0</td><td>  0</td><td> 7.580912</td><td>rnng</td></tr>\n",
       "\t<tr><td>1076</td><td>17</td><td>P</td><td>S</td><td>C</td><td>rnng1</td><td>100</td><td>63.977783</td><td>rnng</td></tr>\n",
       "\t<tr><td>1077</td><td>17</td><td>P</td><td>S</td><td>C</td><td>rnng2</td><td>  0</td><td>30.307447</td><td>rnng</td></tr>\n",
       "\t<tr><td>1078</td><td>17</td><td>P</td><td>S</td><td>C</td><td>rnng3</td><td>  0</td><td>45.033927</td><td>rnng</td></tr>\n",
       "\t<tr><td>1079</td><td>17</td><td>P</td><td>S</td><td>C</td><td>rnng4</td><td>  0</td><td> 2.721486</td><td>rnng</td></tr>\n",
       "</tbody>\n",
       "</table>\n"
      ],
      "text/latex": [
       "A data.frame: 1080 x 9\n",
       "\\begin{tabular}{lllllllll}\n",
       " X & item & subj & local & prep & model & max & sample & type\\\\\n",
       " <int> & <int> & <chr> & <chr> & <chr> & <chr> & <int> & <dbl> & <chr>\\\\\n",
       "\\hline\n",
       "\t  0 & 0 & C & P & D & lstm0 &   0 & 26.623113 & lstm\\\\\n",
       "\t  1 & 0 & C & P & D & lstm1 & 100 & 59.510610 & lstm\\\\\n",
       "\t  2 & 0 & C & P & D & lstm2 &   0 & 23.568203 & lstm\\\\\n",
       "\t  3 & 0 & C & P & D & lstm3 &   0 & 18.525685 & lstm\\\\\n",
       "\t  4 & 0 & C & P & D & lstm4 &   0 & 41.020219 & lstm\\\\\n",
       "\t  5 & 0 & C & P & D & rnng0 & 100 & 67.983203 & rnng\\\\\n",
       "\t  6 & 0 & C & P & D & rnng1 &   0 & 33.079314 & rnng\\\\\n",
       "\t  7 & 0 & C & P & D & rnng2 &   0 & 41.862998 & rnng\\\\\n",
       "\t  8 & 0 & C & P & D & rnng3 &   0 & 10.666201 & rnng\\\\\n",
       "\t  9 & 0 & C & P & D & rnng4 &   0 & 10.891229 & rnng\\\\\n",
       "\t 10 & 0 & C & P & C & lstm0 &   0 & 27.175004 & lstm\\\\\n",
       "\t 11 & 0 & C & P & C & lstm1 & 100 & 55.165888 & lstm\\\\\n",
       "\t 12 & 0 & C & P & C & lstm2 &   0 & 27.020632 & lstm\\\\\n",
       "\t 13 & 0 & C & P & C & lstm3 &   0 & 20.014255 & lstm\\\\\n",
       "\t 14 & 0 & C & P & C & lstm4 &   0 & 27.731298 & lstm\\\\\n",
       "\t 15 & 0 & C & P & C & rnng0 & 100 & 62.245933 & rnng\\\\\n",
       "\t 16 & 0 & C & P & C & rnng1 &   0 & 38.983639 & rnng\\\\\n",
       "\t 17 & 0 & C & P & C & rnng2 & 100 & 60.410524 & rnng\\\\\n",
       "\t 18 & 0 & C & P & C & rnng3 &   0 & 21.238646 & rnng\\\\\n",
       "\t 19 & 0 & C & P & C & rnng4 &   0 & 22.548210 & rnng\\\\\n",
       "\t 20 & 0 & C & S & C & lstm0 &   0 &  6.224375 & lstm\\\\\n",
       "\t 21 & 0 & C & S & C & lstm1 &   0 &  8.048512 & lstm\\\\\n",
       "\t 22 & 0 & C & S & C & lstm2 &   0 &  3.725034 & lstm\\\\\n",
       "\t 23 & 0 & C & S & C & lstm3 &   0 &  9.756827 & lstm\\\\\n",
       "\t 24 & 0 & C & S & C & lstm4 &   0 &  5.728939 & lstm\\\\\n",
       "\t 25 & 0 & C & S & C & rnng0 &   0 &  5.613095 & rnng\\\\\n",
       "\t 26 & 0 & C & S & C & rnng1 &   0 & 16.906055 & rnng\\\\\n",
       "\t 27 & 0 & C & S & C & rnng2 &   0 & 10.260587 & rnng\\\\\n",
       "\t 28 & 0 & C & S & C & rnng3 &   0 &  2.393938 & rnng\\\\\n",
       "\t 29 & 0 & C & S & C & rnng4 &   0 &  1.295032 & rnng\\\\\n",
       "\t ... & ... & ... & ... & ... & ... & ... & ... & ...\\\\\n",
       "\t 1050 & 17 & P & P & D & lstm0 & 100 & 92.505837 & lstm\\\\\n",
       "\t 1051 & 17 & P & P & D & lstm1 & 100 & 96.462860 & lstm\\\\\n",
       "\t 1052 & 17 & P & P & D & lstm2 & 100 & 87.704592 & lstm\\\\\n",
       "\t 1053 & 17 & P & P & D & lstm3 & 100 & 91.385432 & lstm\\\\\n",
       "\t 1054 & 17 & P & P & D & lstm4 & 100 & 94.348844 & lstm\\\\\n",
       "\t 1055 & 17 & P & P & D & rnng0 &   0 & 48.957651 & rnng\\\\\n",
       "\t 1056 & 17 & P & P & D & rnng1 & 100 & 92.551138 & rnng\\\\\n",
       "\t 1057 & 17 & P & P & D & rnng2 & 100 & 51.532020 & rnng\\\\\n",
       "\t 1058 & 17 & P & P & D & rnng3 & 100 & 99.187781 & rnng\\\\\n",
       "\t 1059 & 17 & P & P & D & rnng4 &   0 & 19.303637 & rnng\\\\\n",
       "\t 1060 & 17 & P & P & C & lstm0 & 100 & 90.913138 & lstm\\\\\n",
       "\t 1061 & 17 & P & P & C & lstm1 & 100 & 96.418095 & lstm\\\\\n",
       "\t 1062 & 17 & P & P & C & lstm2 & 100 & 79.220455 & lstm\\\\\n",
       "\t 1063 & 17 & P & P & C & lstm3 & 100 & 93.637023 & lstm\\\\\n",
       "\t 1064 & 17 & P & P & C & lstm4 & 100 & 93.481971 & lstm\\\\\n",
       "\t 1065 & 17 & P & P & C & rnng0 &   0 & 44.425767 & rnng\\\\\n",
       "\t 1066 & 17 & P & P & C & rnng1 & 100 & 98.060206 & rnng\\\\\n",
       "\t 1067 & 17 & P & P & C & rnng2 & 100 & 54.075935 & rnng\\\\\n",
       "\t 1068 & 17 & P & P & C & rnng3 & 100 & 97.739456 & rnng\\\\\n",
       "\t 1069 & 17 & P & P & C & rnng4 &   0 & 39.929583 & rnng\\\\\n",
       "\t 1070 & 17 & P & S & C & lstm0 & 100 & 87.937274 & lstm\\\\\n",
       "\t 1071 & 17 & P & S & C & lstm1 & 100 & 71.323074 & lstm\\\\\n",
       "\t 1072 & 17 & P & S & C & lstm2 &   0 & 48.434698 & lstm\\\\\n",
       "\t 1073 & 17 & P & S & C & lstm3 & 100 & 61.085979 & lstm\\\\\n",
       "\t 1074 & 17 & P & S & C & lstm4 & 100 & 83.966285 & lstm\\\\\n",
       "\t 1075 & 17 & P & S & C & rnng0 &   0 &  7.580912 & rnng\\\\\n",
       "\t 1076 & 17 & P & S & C & rnng1 & 100 & 63.977783 & rnng\\\\\n",
       "\t 1077 & 17 & P & S & C & rnng2 &   0 & 30.307447 & rnng\\\\\n",
       "\t 1078 & 17 & P & S & C & rnng3 &   0 & 45.033927 & rnng\\\\\n",
       "\t 1079 & 17 & P & S & C & rnng4 &   0 &  2.721486 & rnng\\\\\n",
       "\\end{tabular}\n"
      ],
      "text/markdown": [
       "\n",
       "A data.frame: 1080 x 9\n",
       "\n",
       "| X &lt;int&gt; | item &lt;int&gt; | subj &lt;chr&gt; | local &lt;chr&gt; | prep &lt;chr&gt; | model &lt;chr&gt; | max &lt;int&gt; | sample &lt;dbl&gt; | type &lt;chr&gt; |\n",
       "|---|---|---|---|---|---|---|---|---|\n",
       "|  0 | 0 | C | P | D | lstm0 |   0 | 26.623113 | lstm |\n",
       "|  1 | 0 | C | P | D | lstm1 | 100 | 59.510610 | lstm |\n",
       "|  2 | 0 | C | P | D | lstm2 |   0 | 23.568203 | lstm |\n",
       "|  3 | 0 | C | P | D | lstm3 |   0 | 18.525685 | lstm |\n",
       "|  4 | 0 | C | P | D | lstm4 |   0 | 41.020219 | lstm |\n",
       "|  5 | 0 | C | P | D | rnng0 | 100 | 67.983203 | rnng |\n",
       "|  6 | 0 | C | P | D | rnng1 |   0 | 33.079314 | rnng |\n",
       "|  7 | 0 | C | P | D | rnng2 |   0 | 41.862998 | rnng |\n",
       "|  8 | 0 | C | P | D | rnng3 |   0 | 10.666201 | rnng |\n",
       "|  9 | 0 | C | P | D | rnng4 |   0 | 10.891229 | rnng |\n",
       "| 10 | 0 | C | P | C | lstm0 |   0 | 27.175004 | lstm |\n",
       "| 11 | 0 | C | P | C | lstm1 | 100 | 55.165888 | lstm |\n",
       "| 12 | 0 | C | P | C | lstm2 |   0 | 27.020632 | lstm |\n",
       "| 13 | 0 | C | P | C | lstm3 |   0 | 20.014255 | lstm |\n",
       "| 14 | 0 | C | P | C | lstm4 |   0 | 27.731298 | lstm |\n",
       "| 15 | 0 | C | P | C | rnng0 | 100 | 62.245933 | rnng |\n",
       "| 16 | 0 | C | P | C | rnng1 |   0 | 38.983639 | rnng |\n",
       "| 17 | 0 | C | P | C | rnng2 | 100 | 60.410524 | rnng |\n",
       "| 18 | 0 | C | P | C | rnng3 |   0 | 21.238646 | rnng |\n",
       "| 19 | 0 | C | P | C | rnng4 |   0 | 22.548210 | rnng |\n",
       "| 20 | 0 | C | S | C | lstm0 |   0 |  6.224375 | lstm |\n",
       "| 21 | 0 | C | S | C | lstm1 |   0 |  8.048512 | lstm |\n",
       "| 22 | 0 | C | S | C | lstm2 |   0 |  3.725034 | lstm |\n",
       "| 23 | 0 | C | S | C | lstm3 |   0 |  9.756827 | lstm |\n",
       "| 24 | 0 | C | S | C | lstm4 |   0 |  5.728939 | lstm |\n",
       "| 25 | 0 | C | S | C | rnng0 |   0 |  5.613095 | rnng |\n",
       "| 26 | 0 | C | S | C | rnng1 |   0 | 16.906055 | rnng |\n",
       "| 27 | 0 | C | S | C | rnng2 |   0 | 10.260587 | rnng |\n",
       "| 28 | 0 | C | S | C | rnng3 |   0 |  2.393938 | rnng |\n",
       "| 29 | 0 | C | S | C | rnng4 |   0 |  1.295032 | rnng |\n",
       "| ... | ... | ... | ... | ... | ... | ... | ... | ... |\n",
       "| 1050 | 17 | P | P | D | lstm0 | 100 | 92.505837 | lstm |\n",
       "| 1051 | 17 | P | P | D | lstm1 | 100 | 96.462860 | lstm |\n",
       "| 1052 | 17 | P | P | D | lstm2 | 100 | 87.704592 | lstm |\n",
       "| 1053 | 17 | P | P | D | lstm3 | 100 | 91.385432 | lstm |\n",
       "| 1054 | 17 | P | P | D | lstm4 | 100 | 94.348844 | lstm |\n",
       "| 1055 | 17 | P | P | D | rnng0 |   0 | 48.957651 | rnng |\n",
       "| 1056 | 17 | P | P | D | rnng1 | 100 | 92.551138 | rnng |\n",
       "| 1057 | 17 | P | P | D | rnng2 | 100 | 51.532020 | rnng |\n",
       "| 1058 | 17 | P | P | D | rnng3 | 100 | 99.187781 | rnng |\n",
       "| 1059 | 17 | P | P | D | rnng4 |   0 | 19.303637 | rnng |\n",
       "| 1060 | 17 | P | P | C | lstm0 | 100 | 90.913138 | lstm |\n",
       "| 1061 | 17 | P | P | C | lstm1 | 100 | 96.418095 | lstm |\n",
       "| 1062 | 17 | P | P | C | lstm2 | 100 | 79.220455 | lstm |\n",
       "| 1063 | 17 | P | P | C | lstm3 | 100 | 93.637023 | lstm |\n",
       "| 1064 | 17 | P | P | C | lstm4 | 100 | 93.481971 | lstm |\n",
       "| 1065 | 17 | P | P | C | rnng0 |   0 | 44.425767 | rnng |\n",
       "| 1066 | 17 | P | P | C | rnng1 | 100 | 98.060206 | rnng |\n",
       "| 1067 | 17 | P | P | C | rnng2 | 100 | 54.075935 | rnng |\n",
       "| 1068 | 17 | P | P | C | rnng3 | 100 | 97.739456 | rnng |\n",
       "| 1069 | 17 | P | P | C | rnng4 |   0 | 39.929583 | rnng |\n",
       "| 1070 | 17 | P | S | C | lstm0 | 100 | 87.937274 | lstm |\n",
       "| 1071 | 17 | P | S | C | lstm1 | 100 | 71.323074 | lstm |\n",
       "| 1072 | 17 | P | S | C | lstm2 |   0 | 48.434698 | lstm |\n",
       "| 1073 | 17 | P | S | C | lstm3 | 100 | 61.085979 | lstm |\n",
       "| 1074 | 17 | P | S | C | lstm4 | 100 | 83.966285 | lstm |\n",
       "| 1075 | 17 | P | S | C | rnng0 |   0 |  7.580912 | rnng |\n",
       "| 1076 | 17 | P | S | C | rnng1 | 100 | 63.977783 | rnng |\n",
       "| 1077 | 17 | P | S | C | rnng2 |   0 | 30.307447 | rnng |\n",
       "| 1078 | 17 | P | S | C | rnng3 |   0 | 45.033927 | rnng |\n",
       "| 1079 | 17 | P | S | C | rnng4 |   0 |  2.721486 | rnng |\n",
       "\n"
      ],
      "text/plain": [
       "     X    item subj local prep model max sample    type\n",
       "1     0   0    C    P     D    lstm0   0 26.623113 lstm\n",
       "2     1   0    C    P     D    lstm1 100 59.510610 lstm\n",
       "3     2   0    C    P     D    lstm2   0 23.568203 lstm\n",
       "4     3   0    C    P     D    lstm3   0 18.525685 lstm\n",
       "5     4   0    C    P     D    lstm4   0 41.020219 lstm\n",
       "6     5   0    C    P     D    rnng0 100 67.983203 rnng\n",
       "7     6   0    C    P     D    rnng1   0 33.079314 rnng\n",
       "8     7   0    C    P     D    rnng2   0 41.862998 rnng\n",
       "9     8   0    C    P     D    rnng3   0 10.666201 rnng\n",
       "10    9   0    C    P     D    rnng4   0 10.891229 rnng\n",
       "11   10   0    C    P     C    lstm0   0 27.175004 lstm\n",
       "12   11   0    C    P     C    lstm1 100 55.165888 lstm\n",
       "13   12   0    C    P     C    lstm2   0 27.020632 lstm\n",
       "14   13   0    C    P     C    lstm3   0 20.014255 lstm\n",
       "15   14   0    C    P     C    lstm4   0 27.731298 lstm\n",
       "16   15   0    C    P     C    rnng0 100 62.245933 rnng\n",
       "17   16   0    C    P     C    rnng1   0 38.983639 rnng\n",
       "18   17   0    C    P     C    rnng2 100 60.410524 rnng\n",
       "19   18   0    C    P     C    rnng3   0 21.238646 rnng\n",
       "20   19   0    C    P     C    rnng4   0 22.548210 rnng\n",
       "21   20   0    C    S     C    lstm0   0  6.224375 lstm\n",
       "22   21   0    C    S     C    lstm1   0  8.048512 lstm\n",
       "23   22   0    C    S     C    lstm2   0  3.725034 lstm\n",
       "24   23   0    C    S     C    lstm3   0  9.756827 lstm\n",
       "25   24   0    C    S     C    lstm4   0  5.728939 lstm\n",
       "26   25   0    C    S     C    rnng0   0  5.613095 rnng\n",
       "27   26   0    C    S     C    rnng1   0 16.906055 rnng\n",
       "28   27   0    C    S     C    rnng2   0 10.260587 rnng\n",
       "29   28   0    C    S     C    rnng3   0  2.393938 rnng\n",
       "30   29   0    C    S     C    rnng4   0  1.295032 rnng\n",
       "...  ...  ...  ...  ...   ...  ...   ... ...       ... \n",
       "1051 1050 17   P    P     D    lstm0 100 92.505837 lstm\n",
       "1052 1051 17   P    P     D    lstm1 100 96.462860 lstm\n",
       "1053 1052 17   P    P     D    lstm2 100 87.704592 lstm\n",
       "1054 1053 17   P    P     D    lstm3 100 91.385432 lstm\n",
       "1055 1054 17   P    P     D    lstm4 100 94.348844 lstm\n",
       "1056 1055 17   P    P     D    rnng0   0 48.957651 rnng\n",
       "1057 1056 17   P    P     D    rnng1 100 92.551138 rnng\n",
       "1058 1057 17   P    P     D    rnng2 100 51.532020 rnng\n",
       "1059 1058 17   P    P     D    rnng3 100 99.187781 rnng\n",
       "1060 1059 17   P    P     D    rnng4   0 19.303637 rnng\n",
       "1061 1060 17   P    P     C    lstm0 100 90.913138 lstm\n",
       "1062 1061 17   P    P     C    lstm1 100 96.418095 lstm\n",
       "1063 1062 17   P    P     C    lstm2 100 79.220455 lstm\n",
       "1064 1063 17   P    P     C    lstm3 100 93.637023 lstm\n",
       "1065 1064 17   P    P     C    lstm4 100 93.481971 lstm\n",
       "1066 1065 17   P    P     C    rnng0   0 44.425767 rnng\n",
       "1067 1066 17   P    P     C    rnng1 100 98.060206 rnng\n",
       "1068 1067 17   P    P     C    rnng2 100 54.075935 rnng\n",
       "1069 1068 17   P    P     C    rnng3 100 97.739456 rnng\n",
       "1070 1069 17   P    P     C    rnng4   0 39.929583 rnng\n",
       "1071 1070 17   P    S     C    lstm0 100 87.937274 lstm\n",
       "1072 1071 17   P    S     C    lstm1 100 71.323074 lstm\n",
       "1073 1072 17   P    S     C    lstm2   0 48.434698 lstm\n",
       "1074 1073 17   P    S     C    lstm3 100 61.085979 lstm\n",
       "1075 1074 17   P    S     C    lstm4 100 83.966285 lstm\n",
       "1076 1075 17   P    S     C    rnng0   0  7.580912 rnng\n",
       "1077 1076 17   P    S     C    rnng1 100 63.977783 rnng\n",
       "1078 1077 17   P    S     C    rnng2   0 30.307447 rnng\n",
       "1079 1078 17   P    S     C    rnng3   0 45.033927 rnng\n",
       "1080 1079 17   P    S     C    rnng4   0  2.721486 rnng"
      ]
     },
     "metadata": {},
     "output_type": "display_data"
    }
   ],
   "source": [
    "hb_df <- read.csv(\"../evalsets/HumphreysBock2005/items.csv.reformat\")\n",
    "hb_df <- tidyr::separate(hb_df, condition, c(\"subj\", \"local\", \"prep\"), sep=1:3)\n",
    "hb_df$type <- substr(hb_df$model, 0, 4)\n",
    "hb_df"
   ]
  },
  {
   "cell_type": "code",
   "execution_count": 6,
   "metadata": {},
   "outputs": [
    {
     "name": "stderr",
     "output_type": "stream",
     "text": [
      "`summarise()` regrouping output by 'model', 'type', 'subj' (override with `.groups` argument)\n",
      "\n",
      "Warning message:\n",
      "\"Ignoring unknown parameters: fun.y\"\n",
      "No summary function supplied, defaulting to `mean_se()`\n",
      "\n",
      "No summary function supplied, defaulting to `mean_se()`\n",
      "\n"
     ]
    },
    {
     "data": {
      "image/png": "[encoded data removed]",
      "text/plain": [
       "plot without title"
      ]
     },
     "metadata": {
      "image/png": {
       "height": 240,
       "width": 240
      },
      "text/plain": {
       "height": 240,
       "width": 240
      }
     },
     "output_type": "display_data"
    }
   ],
   "source": [
    "options(repr.plot.width=4, repr.plot.height=4)\n",
    "\n",
    "hb_dist_df <- subset(hb_df, local == \"P\" & subj == \"C\")\n",
    "means <- hb_dist_df %>% group_by(model, type, subj, prep) %>% summarize(sample = mean(sample), max = mean(max))\n",
    "means <-subset(means, type==\"lstm\")\n",
    "\n",
    "ggplot(data=subset(hb_dist_df, type==\"lstm\"), aes(y=sample/100, x=prep)) +\n",
    "geom_bar(stat=\"summary\", position=\"dodge\", fun.y = \"mean\", fill=\"#56634b\", width=0.7) + \n",
    "theme(axis.text=element_text(size=5), strip.text=element_text(size=4), legend.text=element_text(size=6)) +\n",
    "geom_point(data=means, shape=16, size=2) +\n",
    "scale_x_discrete(labels=c(\"...near...\", \n",
    "                          \"...on...\" ))  +\n",
    "labs(y=\"% Plural Verb Forms\", x = \"\", fill=\"Notional Reading Bias\") +\n",
    "theme(axis.text=element_text(size=10), strip.text=element_text(size=9), axis.title.x=element_text(hjust=c(1)), legend.text=element_text(size=10)) +\n",
    "theme(legend.position=\"None\") +\n",
    "scale_y_continuous(labels=scales::percent) +\n",
    "coord_cartesian(ylim = c(0,1)) +\n",
    "theme_bw() +\n",
    "theme(axis.text.x=element_text(size=19), axis.text.y=element_text(size=20),\n",
    "      axis.title.y=element_text(size=20),\n",
    "      strip.text=element_text(size=20), legend.text=element_text(size=20))\n",
    "\n",
    "ggsave(\"Humphreys_lstm.png\", width=5, height=4)"
   ]
  },
  {
   "cell_type": "code",
   "execution_count": 3,
   "metadata": {},
   "outputs": [
    {
     "ename": "ERROR",
     "evalue": "Error in ggplot(data = hb_human, aes(y = plural, x = prep)): could not find function \"ggplot\"\n",
     "output_type": "error",
     "traceback": [
      "Error in ggplot(data = hb_human, aes(y = plural, x = prep)): could not find function \"ggplot\"\nTraceback:\n"
     ]
    }
   ],
   "source": [
    "options(repr.plot.width=5, repr.plot.height=4)\n",
    "\n",
    "\n",
    "hb_human <- data.frame(prep=c(\"Collective\", \"Distributive\"),\n",
    "                             plural=c(67,75)/100)\n",
    "\n",
    "ggplot(data=hb_human, aes(y=plural, x=prep)) +\n",
    "geom_bar(stat=\"identity\", position=\"dodge\", fill=\"#566e4b\", width=0.7) + \n",
    "theme(legend.position=\"None\") +\n",
    "scale_x_discrete(labels=c(\"...near...\", \n",
    "                          \"...on...\" ))  +\n",
    "labs(y=\"% Plural Verb Forms\", x = \"\", fill=\"Notional Reading Bias\") +\n",
    "theme(axis.text=element_text(size=16), strip.text=element_text(size=16), axis.title.x=element_text(hjust=c(-0)), legend.text=element_text(size=16)) +\n",
    "scale_y_continuous(labels=scales::percent) +\n",
    "coord_cartesian(ylim = c(0,1)) +\n",
    "\n",
    "theme_bw() +\n",
    "theme(axis.text.x=element_text(size=19), axis.text.y=element_text(size=20),\n",
    "      axis.title.y=element_text(size=20),\n",
    "      strip.text=element_text(size=20), legend.text=element_text(size=20))\n",
    "ggsave(\"Humphreys_human.png\", width=5, height=4)"
   ]
  },
  {
   "cell_type": "code",
   "execution_count": null,
   "metadata": {},
   "outputs": [],
   "source": [
    "hb_lm <- glmmTMB(data=subset(hb_df, subj == \"C\" & local == \"P\" & type == \"lstm\"), \n",
    "                 sample/100 ~ prep + (1 | item) + (1 | model),\n",
    "                family=beta_family())\n",
    "summary(hb_lm)     "
   ]
  },
  {
   "cell_type": "markdown",
   "metadata": {},
   "source": [
    "# Parker & An"
   ]
  },
  {
   "cell_type": "code",
   "execution_count": null,
   "metadata": {},
   "outputs": [],
   "source": [
    "pa_df <- read.csv(\"../evalsets/ParkerAn2018/items.csv.reformat\")\n",
    "pa_df$type <- substr(pa_df$model,0, 4)\n",
    "pa_df$max <- 100 - pa_df$max\n",
    "pa_df$sample <- 100 - pa_df$sample\n",
    "\n",
    "pa_df <- tidyr::separate(pa_df, condition, c(\"argument\", \"attr\"), sep=\"_\")\n",
    "pa_df"
   ]
  },
  {
   "cell_type": "code",
   "execution_count": null,
   "metadata": {},
   "outputs": [],
   "source": [
    "pa_lm <- glmmTMB(data=(subset(pa_df, type = \"lstm\")), \n",
    "                 sample/100 ~ attr * argument + (1 | item) + (1 | model),\n",
    "                family=beta_family())\n",
    "summary(pa_lm)"
   ]
  },
  {
   "cell_type": "code",
   "execution_count": null,
   "metadata": {},
   "outputs": [],
   "source": [
    "pac_df <- read.csv(\"../evalsets/ParkerAn2018/items.comp.csv.reformatc\")\n",
    "pac_df$type <- substr(pac_df$model,0, 4)\n",
    "pac_df$surp <- abs(pac_df$surp)\n",
    "pac_df$avg_surp <- pac_df$surp/pac_df$len\n",
    "pac_df <- tidyr::separate(pac_df, condition, c(\"argument\", \"attr\", \"gram\"), sep=\"_\")\n",
    "pac_df\n"
   ]
  },
  {
   "cell_type": "code",
   "execution_count": null,
   "metadata": {
    "scrolled": true
   },
   "outputs": [],
   "source": [
    "options(repr.plot.width=4, repr.plot.height=4)\n",
    "\n",
    "means <- pac_df %>% group_by(model, type, argument, attr, gram) %>% summarize(avg_surp = mean(avg_surp))\n",
    "\n",
    "\n",
    "plt <- ggplot(data=subset(pac_df, type==\"lstm\"), aes(y=avg_surp, x=attr, color=gram)) +\n",
    "geom_point(stat=\"summary\", position=position_dodge(width=0.9), fun.y = \"mean\", size=5, shape=\"triangle\") + \n",
    "geom_point(data=subset(means, type==\"lstm\"), shape=16, size=2,\n",
    "           position=position_jitterdodge(jitter.height=0, jitter.width = 0.3, dodge.width=0.9)) +\n",
    "labs(y=\"Average Surprisal\", x = \"\", color=\"\") +\n",
    "scale_color_manual(labels=c(\"Grammatical \\n .. was unhappy.\", \"Ungrammatical \\n ...were unhappy.\"), values=pallete) +\n",
    "scale_x_discrete(labels=c(\"girls\", \"girl\")) + \n",
    "facet_grid(~ argument, labeller=labeller(argument=c(CORE=\"Core \\n ...sat...\",\n",
    "                                                    OBLIQUE=\"Oblique \\n ...sat near the...\"))) +\n",
    "theme_bw() +\n",
    "theme(axis.text.x=element_text( size=19), axis.text.y=element_text(size=20),\n",
    "      axis.title.y=element_text(size=20),\n",
    "      strip.text=element_text(size=20), legend.text=element_text(size=20)) \n",
    "legend <- cowplot::get_legend(plt)\n",
    "\n",
    "plt <- plt + theme(legend.position = \"none\")\n",
    "plt\n",
    "ggsave(\"Parker_lstm.png\", width=4, height=4)"
   ]
  },
  {
   "cell_type": "code",
   "execution_count": null,
   "metadata": {
    "scrolled": true
   },
   "outputs": [],
   "source": [
    "options(repr.plot.width=3, repr.plot.height=2)\n",
    "grid.newpage()\n",
    "png(\"parker_legend.png\", width=3, height=2, units=\"in\", res=300)\n",
    "grid.draw(legend) \n",
    "dev.off()\n",
    "grid.draw(legend)"
   ]
  },
  {
   "cell_type": "code",
   "execution_count": null,
   "metadata": {},
   "outputs": [],
   "source": [
    "options(repr.plot.width=5, repr.plot.height=4)\n",
    "\n",
    "\n",
    "pa_human <- data.frame(argument=rep(c(\"core\", \"oblique\"), each=4),\n",
    "                           gram=rep(rep(c(\"G\", \"U\"), each=2), times=2),\n",
    "                           attr=rep(c(\"P\", \"S\"), times=4),\n",
    "                           rt=c(313,314,351,349,317,326,332,357)\n",
    "                           )\n",
    "\n",
    "\n",
    "\n",
    "ggplot(data=pa_human, aes(y=rt, x=attr, color=gram)) +\n",
    "geom_point(stat=\"identity\", position=position_dodge(width=0.9), size=5, shape=\"triangle\") +\n",
    "labs(y=\"Reading Time (ms)\", x = \"\", color=\"\") +\n",
    "scale_color_manual(labels=c(\"Grammatical \\n .. was unhappy.\", \"Ungrammatical \\n ...were unhappy.\"), values=pallete) +\n",
    "scale_x_discrete(labels=c(\"girls\", \"girl\")) + \n",
    "facet_grid(~ argument, labeller=labeller(argument=c(core=\"Core \\n ...sat...\",\n",
    "                                                    oblique=\"Oblique \\n ...sat near...\"))) +\n",
    "theme_bw() +\n",
    "theme(axis.text.x=element_text( size=19), axis.text.y=element_text(size=20),\n",
    "      axis.title.y=element_text(size=20),\n",
    "      strip.text=element_text(size=20), legend.text=element_text(size=20)) +\n",
    "theme(legend.position=\"None\") \n",
    "\n",
    "ggsave(\"Parker_human.png\", width=4, height=4)"
   ]
  },
  {
   "cell_type": "markdown",
   "metadata": {},
   "source": [
    "# Wagers2009 Illusion/Outer Attraction"
   ]
  },
  {
   "cell_type": "code",
   "execution_count": null,
   "metadata": {},
   "outputs": [],
   "source": [
    "w3_df <- read.csv(\"../evalsets/Wagers2009/23_illusion/items.csv.reformatc\")\n",
    "\n",
    "w3_df <- tidyr::separate(w3_df, condition, c(\"subj\", \"attr\", \"gram\"), sep=1:3)\n",
    "w3_df$surp <- abs(w3_df$surp)/w3_df$len\n",
    "w3_df$type <- substr(w3_df$model, 0, 4)\n",
    "w3_df$subj <- as.factor(w3_df$subj)\n",
    "w3_df$match <- w3_df$subj == w3_df$attr\n",
    "w3_df$match_v <- ifelse(w3_df$gram == \"G\", w3_df$match, ! w3_df$match)\n",
    "w3_df\n",
    "\n",
    "summary(w3_df)"
   ]
  },
  {
   "cell_type": "code",
   "execution_count": null,
   "metadata": {},
   "outputs": [],
   "source": [
    "options(repr.plot.width=4, repr.plot.height=4)\n",
    "\n",
    "means <- w3_df %>% group_by(model, gram, match, type) %>% summarize(surp = mean(surp))\n",
    "\n",
    "plt <- ggplot(data=subset(w3_df, type==\"lstm\"), aes(y=surp, x=match, color=gram)) +\n",
    "geom_point(stat=\"summary\", position=position_dodge(width=0.9), fun.y = \"mean\", size=5, shape=\"triangle\") + \n",
    "geom_point(data=subset(means, type==\"lstm\"), shape=16, size=2,\n",
    "           position=position_jitterdodge(jitter.height=0, jitter.width = 0.3, dodge.width=0.9)) +\n",
    "labs(y=\"Average Surprisal\", x = \"\", color=\"\") +\n",
    "scale_color_manual(labels=c(\"Grammatical \\n ...praises...\",\n",
    "                          \"Ungrammatical \\n ...praise...\"), values=pallete) +\n",
    "scale_x_discrete(labels=c(\"musicians...\\nreviewer\",\n",
    "                          \"musician...\\nreviewer\")) +\n",
    "theme_bw() +\n",
    "theme(axis.text.x=element_text( size=19), axis.text.y=element_text(size=20),\n",
    "      axis.title.y=element_text(size=20),\n",
    "      strip.text=element_text(size=20), legend.text=element_text(size=20)) \n",
    "legend <- cowplot::get_legend(plt)\n",
    "plt <- plt + theme(legend.position=\"none\")\n",
    "plt\n",
    "ggsave(\"Wagers_lstm.png\", width=4, height=4)\n"
   ]
  },
  {
   "cell_type": "code",
   "execution_count": null,
   "metadata": {
    "scrolled": true
   },
   "outputs": [],
   "source": [
    "options(repr.plot.width=3, repr.plot.height=2)\n",
    "grid.newpage()\n",
    "png(\"wagers_legend.png\", width=3, height=2, units=\"in\", res=300)\n",
    "grid.draw(legend) \n",
    "dev.off()\n",
    "grid.draw(legend)"
   ]
  },
  {
   "cell_type": "code",
   "execution_count": null,
   "metadata": {},
   "outputs": [],
   "source": [
    "options(repr.plot.width=4, repr.plot.height=4)\n",
    "\n",
    "w3_human <- data.frame(subj=rep(c(\"S\", \"P\"), each=4),\n",
    "                       gram=rep(rep(c(\"G\", \"U\"), each=2), times=2),\n",
    "                       attr=rep(c('S', 'P'), times=4),\n",
    "                       rt=c(348,353,415,377, 354, 356, 408, 400)\n",
    "                       )\n",
    "w3_human$match <- w3_human$subj == w3_human$attr\n",
    "\n",
    "ggplot(data=w3_human, aes(y=rt, x=match, color=gram)) +\n",
    "theme_bw() +\n",
    "stat_summary(geom=\"point\", position=position_dodge(width=0.9), size=5, shape=\"triangle\", fun.y=mean) + \n",
    "labs(y=\"Reading Time (ms)\", x = \"\", color=\"\") +\n",
    "scale_color_manual(labels=c(\"Grammatical \\n ...praises...\",\n",
    "                          \"Ungrammatical \\n ...praise...\"), values=pallete) +\n",
    "scale_x_discrete(labels=c(\"musicians...\\nreviewer\",\n",
    "                          \"musician...\\nreviewer\")) +\n",
    "theme_bw() +\n",
    "theme(axis.text.x=element_text( size=19), axis.text.y=element_text(size=20),\n",
    "      axis.title.y=element_text(size=20),\n",
    "      strip.text=element_text(size=20), legend.text=element_text(size=20), legend.position=\"none\") +\n",
    "ylim(300, 550) +\n",
    "theme(legend.position=\"None\") \n",
    "\n",
    "ggsave(\"Wagers_human.png\", width=4, height=4)"
   ]
  },
  {
   "cell_type": "code",
   "execution_count": null,
   "metadata": {},
   "outputs": [],
   "source": [
    "w3_lm <- lmer(data=subset(w3_df, type==\"lstm\" & gram==\"U\"), \n",
    "              surp ~ match + (subj * match  || item))\n",
    "\n",
    "summary(w3_lm)\n",
    "w3_lm <- lmer(data=subset(w3_df, type==\"lstm\" & gram==\"G\"), \n",
    "              surp ~ match + (subj * match  || item))\n",
    "\n",
    "summary(w3_lm)\n",
    "\n",
    "w3_lm <- lmer(data=subset(w3_df, type==\"lstm\"), \n",
    "              surp ~ gram * match_v + (subj * match_v * gram || item))\n",
    "summary(w3_lstm)"
   ]
  }
 ],
 "metadata": {
  "kernelspec": {
   "display_name": "R",
   "language": "R",
   "name": "ir"
  },
  "language_info": {
   "codemirror_mode": "r",
   "file_extension": ".r",
   "mimetype": "text/x-r-source",
   "name": "R",
   "pygments_lexer": "r",
   "version": "4.0.0"
  }
 },
 "nbformat": 4,
 "nbformat_minor": 2
}
