{
 "cells": [
  {
   "cell_type": "code",
   "execution_count": null,
   "metadata": {},
   "outputs": [],
   "source": [
    "library(ggplot2)\n",
    "library(dplyr)\n",
    "library(lme4)\n",
    "library(lmerTest)\n",
    "library(xtable)\n",
    "library(glmmTMB)\n",
    "library(cowplot)\n",
    "library(grid)"
   ]
  },
  {
   "cell_type": "code",
   "execution_count": null,
   "metadata": {},
   "outputs": [],
   "source": [
    "franck_df <- read.csv('items.csv.reformat')\n",
    "franck_df <- tidyr::separate(franck_df, condition, c(\"subj\", \"inter\", \"local\"), sep=1:3)\n",
    "franck_df$sample <- 100 - franck_df$sample\n",
    "franck_df$max <- 100 - franck_df$max\n",
    "\n",
    "franck_df$inter_match <- franck_df$subj == franck_df$inter\n",
    "franck_df$local_match <- franck_df$subj == franck_df$local\n",
    "franck_df$type = substr(franck_df$model, 5, 5)\n",
    "\n",
    "\n",
    "franck_lm_df = subset(franck_df, substr(franck_df$model, 5,5) == \"l\")\n",
    "franck_joint_df = subset(franck_df, substr(franck_df$model, 5,5) == \"a\")\n",
    "summary(franck_df)"
   ]
  },
  {
   "cell_type": "code",
   "execution_count": null,
   "metadata": {},
   "outputs": [],
   "source": [
    "means_lm <- (franck_lm_df %>% group_by(model, inter_match, local_match) \n",
    "                          %>% summarize(sample = mean(sample), max = mean(max)))\n",
    "means_joint <- (franck_joint_df %>% group_by(model, inter_match, local_match) \n",
    "                                %>% summarize(sample = mean(sample), max = mean(max)))\n",
    "\n",
    "means_inter <- (franck_df %>% group_by(type, inter_match) \n",
    "                          %>% summarize(sample = mean(sample), max = mean(max)))\n",
    "means_local <- (franck_df %>% group_by(type, local_match) \n",
    "                          %>% summarize(sample = mean(sample), max = mean(max)))"
   ]
  },
  {
   "cell_type": "code",
   "execution_count": null,
   "metadata": {},
   "outputs": [],
   "source": [
    "franck_human <- data.frame(subj=rep(c(\"S\",\"P\"), each=4),\n",
    "                           inter=rep(c(\"S\", \"S\", \"P\", \"P\"), times=2),\n",
    "                           local=rep(c(\"S\", \"P\"), times=4),\n",
    "                           err=c(1.3, 0, 9.8, 4.5, 5.8, 9.4, 3.1, 1.3)/100)\n",
    "\n",
    "franck_human$inter_match <- franck_human$inter == franck_human$subj\n",
    "franck_human$local_match <- franck_human$local == franck_human$subj\n",
    "\n",
    "\n",
    "franck_human$type <- \"h\"\n",
    "human_inter <- franck_human %>% group_by(type, inter_match) %>% summarize(sample=mean(err * 100), max=0)\n",
    "means_inter <- rbind(means_inter, human_inter)\n",
    "means_inter\n",
    "\n",
    "human_local <- franck_human %>% group_by(type, local_match) %>% summarize(sample=mean(err * 100), max=0)\n",
    "means_local <- rbind(means_local, human_local)\n",
    "means_local"
   ]
  },
  {
   "cell_type": "code",
   "execution_count": null,
   "metadata": {},
   "outputs": [],
   "source": [
    "library(repr)\n",
    "options(repr.plot.width=7, repr.plot.height=4)\n",
    "\n",
    "x_order = c(\"l\", \"a\", \"h\")\n",
    "\n",
    "pallete3 = c(\"#318480\", \"#b4464f\", \"#c15733\")\n",
    "\n",
    "plt_1 <- ggplot(data=franck_df, aes(x=factor(type, level=x_order), y=sample/100)) +\n",
    "#geom_bar(stat=\"summary\", fun = mean, fill=\"#566e4b\", width=0.6) + \n",
    "geom_point(data=means_inter, shape=16, size=5, aes(color=type)) + \n",
    "geom_line(data=means_inter, aes(group=type,color=type), size=2) +\n",
    "labs(x=\"Syntactic Dist. Effect\", \n",
    "     fill=\"\", y=\"% Attraction Errors\", title=\"\") +\n",
    "scale_y_continuous(labels=scales::percent_format(accuracy=2L)) +\n",
    "scale_color_manual(labels=c(\"LM+CCG\", \n",
    "                        \"LM Only\",\n",
    "                        \"Humans\"), values=pallete3) +\n",
    "scale_x_discrete(labels=c(\"l\"=\"LM Only\",\n",
    "                          \"a\"=\"LM+CCG\",\n",
    "                          \"h\"=\"Humans\")) +\n",
    "coord_cartesian(ylim = c(0,0.5)) +\n",
    "theme_bw() +\n",
    "theme(axis.text.x=element_text(size=19, angle=45, hjust=1), axis.text.y=element_text(size=20),\n",
    "      axis.title.y=element_text(size=20), axis.title.x=element_text(size=17),\n",
    "      strip.text=element_text(size=20), legend.text=element_text(size=20), legend.position=\"none\")\n",
    "\n",
    "plt_1\n",
    "\n",
    "plt_2 <- ggplot(data=franck_df, aes(x=factor(type, level=x_order), y=sample/100)) +\n",
    "#geom_bar(stat=\"summary\", fun = mean, fill=\"#566e4b\", width=0.6) + \n",
    "geom_point(data=means_local, shape=16, size=5, aes(color=type)) + \n",
    "geom_line(data=means_local, aes(group=type, color=type), size=2) +\n",
    "labs(x=\"Linear Dist. Effect\", \n",
    "     fill=\"\", y=\"% Attraction Errors\", title=\"\") +\n",
    "scale_y_continuous(labels=scales::percent_format(accuracy=0), position=\"right\") +\n",
    "scale_color_manual(labels=c(\"LM+CCG\", \n",
    "                        \"LM Only\",\n",
    "                        \"Humans\"), values=pallete3) +\n",
    "scale_x_discrete(labels=c(\"l\"=\"LM Only\",\n",
    "                          \"a\"=\"LM+CCG\",\n",
    "                          \"h\"=\"Humans\")) +\n",
    "coord_cartesian(ylim = c(0,0.5)) +\n",
    "theme_bw() +\n",
    "theme(axis.text.x=element_text(size=19, angle=45, hjust=1), axis.text.y=element_blank(), \n",
    "      axis.title.y=element_blank(), axis.title.x=element_text(size=17),\n",
    "      strip.text=element_text(size=20), legend.text=element_text(size=20), legend.position=\"none\")\n",
    "\n",
    "plt_2\n",
    "\n",
    "\n",
    "cowplot::plot_grid(plt_1, plt_2, rel_widths=c(1.35,1))\n",
    "ggsave(\"Franck_ccg_eff.png\", width = 7, height = 4)"
   ]
  },
  {
   "cell_type": "code",
   "execution_count": null,
   "metadata": {},
   "outputs": [],
   "source": []
  }
 ],
 "metadata": {
  "kernelspec": {
   "display_name": "R",
   "language": "R",
   "name": "ir"
  },
  "language_info": {
   "codemirror_mode": "r",
   "file_extension": ".r",
   "mimetype": "text/x-r-source",
   "name": "R",
   "pygments_lexer": "r",
   "version": "4.1.0"
  }
 },
 "nbformat": 4,
 "nbformat_minor": 2
}
