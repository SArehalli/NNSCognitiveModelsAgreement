{
 "cells": [
  {
   "cell_type": "code",
   "execution_count": null,
   "id": "c440dbff",
   "metadata": {},
   "outputs": [],
   "source": [
    "import os\n",
    "import re\n",
    "import numpy as np\n",
    "import inflect\n",
    "\n",
    "path = \"/home/sarehalli/Code/PTB/tagged/pos/wsj/\"\n",
    "\n",
    "data = []\n",
    "for x in os.listdir(path):\n",
    "    for y in os.listdir(path+x):\n",
    "        with open(path+x+\"/\"+y) as in_f:\n",
    "            for line in in_f.readlines():\n",
    "                for token in line.split():\n",
    "                    if \"/\" not in token:\n",
    "                        continue\n",
    "                    try:\n",
    "                        word, tag = re.split(r'(?<!\\\\)/', token)\n",
    "                        data.append((word, tag))\n",
    "                    except:\n",
    "                        print(token)\n",
    "\n",
    "data[:10]"
   ]
  },
  {
   "cell_type": "code",
   "execution_count": null,
   "id": "29dfeefe",
   "metadata": {},
   "outputs": [],
   "source": [
    "pl = inflect.engine()"
   ]
  },
  {
   "cell_type": "code",
   "execution_count": null,
   "id": "b5a1f1ca",
   "metadata": {},
   "outputs": [],
   "source": [
    "words = list(set([w for w,_ in data]))\n",
    "tags = list(set([t for _,ts in data for t in ts.split(\"|\")]))\n",
    "tag_by_word = {w:{t:0 for t in tags} for w in words}\n",
    "\n",
    "for word,tag in data:\n",
    "    tag_by_word[word.lower()] = {x:((y+(1/len(tag.split(\"|\")))) if (x in tag.split(\"|\")) else y) \n",
    "                                 for x,y in tag_by_word.get(word, {}).items()}\n",
    "\n"
   ]
  },
  {
   "cell_type": "code",
   "execution_count": null,
   "id": "0b2441d6",
   "metadata": {},
   "outputs": [],
   "source": [
    "# verify that we have partial counts for ambiguity\n",
    "\n",
    "for w,ts in tag_by_word.items():\n",
    "    for t,c in ts.items():\n",
    "        if c % 1 != 0:\n",
    "            print(w,t,c)"
   ]
  },
  {
   "cell_type": "code",
   "execution_count": null,
   "id": "8831a3dd",
   "metadata": {},
   "outputs": [],
   "source": [
    "infverb_tags = [\"VBP\", \"VBZ\"]\n",
    "\n",
    "tag_by_infverb = {x:y for x,y in tag_by_word.items() if sum([(y.get(z, 0) > 0) for z in infverb_tags]) > 0}\n",
    "\n",
    "for word,tag_counts in tag_by_infverb.items():\n",
    "    small_tag_counts = {}\n",
    "    for tag, count in tag_counts.items():\n",
    "        if tag in infverb_tags:\n",
    "            small_tag_counts[tag] = small_tag_counts.get(tag, 0) + count\n",
    "        else:\n",
    "            small_tag_counts[\"other\"] = small_tag_counts.get(\"other\", 0) + count\n",
    "    tag_by_infverb[word] = small_tag_counts\n",
    "    "
   ]
  },
  {
   "cell_type": "code",
   "execution_count": null,
   "id": "516a2d3c",
   "metadata": {},
   "outputs": [],
   "source": [
    "tagdist_by_verb = {w:{t:c/sum(ts.values()) for t,c in ts.items()} for w,ts in tag_by_infverb.items()}\n",
    "tagdist_by_verb "
   ]
  },
  {
   "cell_type": "code",
   "execution_count": null,
   "id": "4aeceb17",
   "metadata": {},
   "outputs": [],
   "source": [
    "balanced_tdbv = {}\n",
    "\n",
    "word_pairs = []\n",
    "for word,ts in tagdist_by_verb.items():\n",
    "    if ts[\"VBZ\"] > 0:\n",
    "        try:\n",
    "            plural = pl.plural(word)\n",
    "            if plural in tagdist_by_verb:\n",
    "                balanced_tdbv[word] = ts\n",
    "                balanced_tdbv[plural] = tagdist_by_verb[plural]\n",
    "                word_pairs.append((word, plural))\n",
    "        except: \n",
    "            print(word)\n",
    "            \n",
    "len(word_pairs)"
   ]
  },
  {
   "cell_type": "code",
   "execution_count": null,
   "id": "c862838f",
   "metadata": {},
   "outputs": [],
   "source": [
    "import pickle\n",
    "\n",
    "with open(\"verb_pairs.dict\", \"wb\") as out_f:\n",
    "    pickle.dump(word_pairs, out_f)\n",
    "\n",
    "with open(\"verb_dist.dict\", \"wb\") as out_f:\n",
    "    pickle.dump(balanced_tdbv, out_f)"
   ]
  },
  {
   "cell_type": "code",
   "execution_count": null,
   "id": "deb52ba3",
   "metadata": {},
   "outputs": [],
   "source": [
    "with open(\"verb_dist.dict\", \"rb\") as in_f:\n",
    "    tdbv = pickle.load(in_f)\n",
    "    \n",
    "tdbv"
   ]
  },
  {
   "cell_type": "code",
   "execution_count": null,
   "id": "b2db7dd8",
   "metadata": {},
   "outputs": [],
   "source": [
    "import csv\n",
    "# convert to dictwriter format\n",
    "dw_out = []\n",
    "\n",
    "for w,ts in tagdist_by_verb.items():\n",
    "    ts[\"word\"] = w\n",
    "    dw_out.append(ts)\n",
    "    \n",
    "with open(\"verb_dist.csv\", \"w\") as out_f:\n",
    "    dw = csv.DictWriter(out_f, fieldnames=dw_out[0].keys())\n",
    "    dw.writeheader()\n",
    "    dw.writerows(dw_out)"
   ]
  },
  {
   "cell_type": "markdown",
   "id": "27c24505",
   "metadata": {},
   "source": [
    "# Run models using eval_ccgmulti with paradigm allverbs_prod\n",
    "\n",
    "Then move to the R notebook!"
   ]
  },
  {
   "cell_type": "code",
   "execution_count": null,
   "id": "63bfc829",
   "metadata": {},
   "outputs": [],
   "source": []
  }
 ],
 "metadata": {
  "kernelspec": {
   "display_name": "Python 3 (ipykernel)",
   "language": "python",
   "name": "python3"
  },
  "language_info": {
   "codemirror_mode": {
    "name": "ipython",
    "version": 3
   },
   "file_extension": ".py",
   "mimetype": "text/x-python",
   "name": "python",
   "nbconvert_exporter": "python",
   "pygments_lexer": "ipython3",
   "version": "3.10.12"
  }
 },
 "nbformat": 4,
 "nbformat_minor": 5
}
