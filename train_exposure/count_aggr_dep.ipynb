{
 "cells": [
  {
   "cell_type": "code",
   "execution_count": 67,
   "metadata": {},
   "outputs": [],
   "source": [
    "import stanfordnlp\n",
    "from stanfordnlp.server import CoreNLPClient\n",
    "\n",
    "sent = \"the key or locks are missing\""
   ]
  },
  {
   "cell_type": "code",
   "execution_count": 68,
   "metadata": {},
   "outputs": [
    {
     "name": "stdout",
     "output_type": "stream",
     "text": [
      "Starting server with command: java -Xmx5G -cp /home/sarehalli/stanfordnlp_resources/stanford-corenlp-full-2018-10-05/* edu.stanford.nlp.pipeline.StanfordCoreNLPServer -port 9000 -timeout 30000 -threads 5 -maxCharLength 100000 -quiet True -serverProperties corenlp_server-cdb444d7643b444c.props -preload pos,depparse\n"
     ]
    }
   ],
   "source": [
    "def dep_parse(asent):\n",
    "    return asent.sentence[0].basicDependencies\n",
    "\n",
    "def pos_tag(asent):\n",
    "    return asent.sentence[0].token\n",
    "\n",
    "with CoreNLPClient(annotators=[\"pos\", \"depparse\"], timeout=30000) as client:\n",
    "    asent = client.annotate(sent)\n",
    "    dep = dep_parse(asent)\n",
    "    tokens = pos_tag(asent)\n",
    "    \n"
   ]
  },
  {
   "cell_type": "code",
   "execution_count": null,
   "metadata": {},
   "outputs": [],
   "source": [
    "NP_S = [\"NN\", \"NP\"]\n",
    "NP_P = [\"NNS\", \"NPS\"]\n",
    "\n",
    "V_S = [\"VHZ\", \"VVZ\", \"VBZ\"]\n",
    "V_ = [\"VHP\", \"VBP\"]\n",
    "V_P = [\"VVP\"]\n",
    "\n",
    "def get_num(tag, word):\n",
    "    if tag in NP_S + NP_P:\n",
    "        if tag in NP_S:\n",
    "            return \"S\"\n",
    "        else:\n",
    "            return \"P\"\n",
    "    if tag in V_S:\n",
    "        return \"S\"\n",
    "    if tag in V_P:\n",
    "        return \"P\"\n",
    "    if tag in V_:\n",
    "        if word in [\"have\", \"are\", \"were\"]:\n",
    "            return \"P\"\n",
    "        else:\n",
    "            return \"S\"\n",
    "    if tag == \"PRP\":\n",
    "        if word in [\"he\", \"she\". \"it\"]:\n",
    "            return \"S\"\n",
    "    return None"
   ]
  },
  {
   "cell_type": "code",
   "execution_count": 118,
   "metadata": {
    "scrolled": false
   },
   "outputs": [
    {
     "name": "stdout",
     "output_type": "stream",
     "text": [
      "[(1, 4)]\n",
      "[{'relcl': False, 'pp': False, 'depp': False, 'dj': True, 'agree': False, 'cor_agree': False, 'vplural': True, 'vsingular': False}]\n",
      "node {\n",
      "  sentenceIndex: 0\n",
      "  index: 1\n",
      "}\n",
      "node {\n",
      "  sentenceIndex: 0\n",
      "  index: 2\n",
      "}\n",
      "node {\n",
      "  sentenceIndex: 0\n",
      "  index: 3\n",
      "}\n",
      "node {\n",
      "  sentenceIndex: 0\n",
      "  index: 4\n",
      "}\n",
      "node {\n",
      "  sentenceIndex: 0\n",
      "  index: 5\n",
      "}\n",
      "node {\n",
      "  sentenceIndex: 0\n",
      "  index: 6\n",
      "}\n",
      "edge {\n",
      "  source: 2\n",
      "  target: 1\n",
      "  dep: \"det\"\n",
      "  isExtra: false\n",
      "  sourceCopy: 0\n",
      "  targetCopy: 0\n",
      "  language: UniversalEnglish\n",
      "}\n",
      "edge {\n",
      "  source: 2\n",
      "  target: 3\n",
      "  dep: \"cc\"\n",
      "  isExtra: false\n",
      "  sourceCopy: 0\n",
      "  targetCopy: 0\n",
      "  language: UniversalEnglish\n",
      "}\n",
      "edge {\n",
      "  source: 2\n",
      "  target: 4\n",
      "  dep: \"conj\"\n",
      "  isExtra: false\n",
      "  sourceCopy: 0\n",
      "  targetCopy: 0\n",
      "  language: UniversalEnglish\n",
      "}\n",
      "edge {\n",
      "  source: 6\n",
      "  target: 2\n",
      "  dep: \"nsubj\"\n",
      "  isExtra: false\n",
      "  sourceCopy: 0\n",
      "  targetCopy: 0\n",
      "  language: UniversalEnglish\n",
      "}\n",
      "edge {\n",
      "  source: 6\n",
      "  target: 5\n",
      "  dep: \"aux\"\n",
      "  isExtra: false\n",
      "  sourceCopy: 0\n",
      "  targetCopy: 0\n",
      "  language: UniversalEnglish\n",
      "}\n",
      "root: 6\n",
      "\n"
     ]
    }
   ],
   "source": [
    "def get_aggr(dep_graph, tokens):\n",
    "    idxs = []\n",
    "    agr_rels = []\n",
    "    for edge in dep_graph.edge:\n",
    "        if edge.dep == \"nsubj\":\n",
    "            idxs.append((edge.target-1, edge.source-1))\n",
    "    for i,idx in enumerate(idxs):\n",
    "        agr_rel = {}\n",
    "        agr_rel[\"relcl\"] = False\n",
    "        agr_rel[\"pp\"] = False\n",
    "        agr_rel[\"depp\"] = False\n",
    "        agr_rel[\"dj\"] = False\n",
    "        agr_rel[\"dj_conj\"] = []\n",
    "        agr_rel[\"agree\"] = False\n",
    "        agr_rel[\"cor_agree\"] = False\n",
    "        agr_rel[\"vplural\"] = False\n",
    "        agr_rel[\"vsingular\"] = False\n",
    "        for edge in dep_graph.edge:\n",
    "            # Handle UD copulas - we want the copula, not the adjective!\n",
    "            if ((edge.dep == \"cop\") or (edge.dep == \"aux\")) and (edge.source-1 == idx[1]):\n",
    "                idxs[i] = (idxs[i][0], edge.target-1)\n",
    "            # relative clause\n",
    "            if (edge.dep == \"acl:relcl\") and (edge.source-1 == idx[0]):\n",
    "                agr_rel[\"relcl\"] = True\n",
    "            # PP\n",
    "            if (edge.dep == \"nmod\") and (edge.source-1 == idx[0]):\n",
    "                agr_rel[\"pp\"] = True\n",
    "                for edge2 in dep_graph.edge:\n",
    "                    if (edge2.dep == \"nmod\") and (edge2.source == edge.target):\n",
    "                        agr_rel[\"depp\"] = True\n",
    "            if (edge.dep == \"cc\") and (edge.source-1 == idx[0]):\n",
    "                if (tokens[edge.target-1].value == \"or\"):\n",
    "                    agr_rel[\"dj\"] = True\n",
    "                    agr_rel[\"dj_conj\"] = \n",
    "        a = idx2pos(idxs[i], tokens)\n",
    "        b = idx2word(idxs[i], tokens)\n",
    "        x = pos2num(a, b)\n",
    "        #print(a,b, x)\n",
    "        if ((x[0] is not None) and (x[1] is not None)):\n",
    "            agr_rel[\"agree\"] = True\n",
    "            if (x[0] == x[1]):\n",
    "                agr_rel[\"cor_agree\"] = True\n",
    "            \n",
    "        if (x[1] == \"P\"):\n",
    "            agr_rel[\"vplural\"] = True\n",
    "        if (x[1] == \"S\"):\n",
    "            agr_rel[\"vsingular\"] = True\n",
    "        agr_rels.append(agr_rel)\n",
    "    \n",
    "    return idxs, agr_rels\n",
    "\n",
    "def idx2pos(pair, tokens):\n",
    "    return tuple([tokens[i].pos for i in pair])\n",
    "\n",
    "def idx2word(pair, tokens):\n",
    "    return tuple([tokens[i].value for i in pair])\n",
    "\n",
    "def pos2num(pos, tokens):\n",
    "    return tuple([get_num(tag, word) for tag, word in zip(pos, tokens)])\n",
    "\n",
    "idxs, agr_rels = get_aggr(dep, tokens)\n",
    "print(idxs)\n",
    "print(agr_rels)\n",
    "print(dep)"
   ]
  },
  {
   "cell_type": "code",
   "execution_count": null,
   "metadata": {},
   "outputs": [],
   "source": []
  },
  {
   "cell_type": "code",
   "execution_count": 119,
   "metadata": {},
   "outputs": [],
   "source": [
    "def count_aggrs(sents):\n",
    "    aggr_nums = []\n",
    "    with CoreNLPClient(annotators=[\"pos\", \"depparse\"], timeout=30000) as client:\n",
    "        for sent in sents:\n",
    "            asent = client.annotate(sent)\n",
    "            dep = dep_parse(asent)\n",
    "            tokens = pos_tag(asent)\n",
    "            _, agr_rels = get_aggr(dep, tokens)\n",
    "            aggr_nums += agr_rels\n",
    "     \n",
    "    totals = {}\n",
    "    for key in aggr_nums[0].keys():\n",
    "        totals[key] = sum([x[key] for x in aggr_nums if x[key] is not None])\n",
    "    totals[\"dj_pl\"] = sum((x[\"dj\"] and x[\"vplural\"]) for x in aggr_nums if x[\"agree\"] is not None)\n",
    "    totals[\"dj_sg\"] = sum((x[\"dj\"] and x[\"vsingular\"]) for x in aggr_nums if x[\"agree\"] is not None)\n",
    "    totals[\"total_subj-verb\"] = len(aggr_nums)\n",
    "    totals[\"total_sent\"] = len(sents)\n",
    "    print(totals)\n",
    "    return totals\n"
   ]
  },
  {
   "cell_type": "code",
   "execution_count": 120,
   "metadata": {},
   "outputs": [
    {
     "name": "stdout",
     "output_type": "stream",
     "text": [
      "Starting server with command: java -Xmx5G -cp /home/sarehalli/stanfordnlp_resources/stanford-corenlp-full-2018-10-05/* edu.stanford.nlp.pipeline.StanfordCoreNLPServer -port 9000 -timeout 30000 -threads 5 -maxCharLength 100000 -quiet True -serverProperties corenlp_server-6b544a04200c463d.props -preload pos,depparse\n",
      "{'relcl': 1427, 'pp': 7519, 'depp': 1027, 'dj': 97, 'agree': 18991, 'cor_agree': 14518, 'vplural': 4218, 'vsingular': 25446, 'dj_pl': 9, 'dj_sg': 29, 'total_subj-verb': 64694, 'total_sent': 42068}\n"
     ]
    }
   ],
   "source": [
    "ptb_train = []\n",
    "with open(\"../train.txt\", encoding=\"ISO 8859-1\") as ptb_f:\n",
    "    for line in ptb_f:\n",
    "        ptb_train.append(\" \".join([x.split(\")\")[0] for x in line.split() if \"(\" not in x]))\n",
    "        \n",
    "ptb = count_aggrs(ptb_train)\n",
    "    \n"
   ]
  },
  {
   "cell_type": "code",
   "execution_count": 122,
   "metadata": {},
   "outputs": [
    {
     "name": "stdout",
     "output_type": "stream",
     "text": [
      "Starting server with command: java -Xmx5G -cp /home/sarehalli/stanfordnlp_resources/stanford-corenlp-full-2018-10-05/* edu.stanford.nlp.pipeline.StanfordCoreNLPServer -port 9000 -timeout 30000 -threads 5 -maxCharLength 100000 -quiet True -serverProperties corenlp_server-c30662b2d9d74888.props -preload pos,depparse\n",
      "{'relcl': 8963, 'pp': 76708, 'depp': 10091, 'dj': 1746, 'agree': 134362, 'cor_agree': 107417, 'vplural': 34695, 'vsingular': 209496, 'dj_pl': 243, 'dj_sg': 679, 'total_subj-verb': 658173, 'total_sent': 500000}\n"
     ]
    }
   ],
   "source": [
    "wiki_train = []\n",
    "with open(\"../colorlessgreenRNNs/data/lm/English/train.txt\", encoding=\"ISO 8859-1\") as ptb_f:\n",
    "    for line in ptb_f:\n",
    "        wiki_train.append(line)\n",
    "        \n",
    "wiki = count_aggrs(wiki_train[:500000])"
   ]
  },
  {
   "cell_type": "code",
   "execution_count": 98,
   "metadata": {},
   "outputs": [
    {
     "name": "stdout",
     "output_type": "stream",
     "text": [
      "relcl 0.03392127032423695\n",
      "pp 0.1787344299705239\n",
      "depp 0.024412855377008654\n",
      "dj 0.002282019587334791\n",
      "agree 0.4141152419891604\n",
      "cor_agree 0.26457164590662735\n",
      "total_subj-verb 1.5378434914899686\n",
      "total_sent 1.0\n"
     ]
    }
   ],
   "source": [
    "x = {'relcl': 1427, 'pp': 7519, 'depp': 1027, 'dj': 96, 'agree': 17421, 'cor_agree': 11130, 'total_subj-verb': 64694, 'total_sent': 42068}\n",
    "\n",
    "for key, value in ptb.items():\n",
    "    print(key, value/ptb[\"total_sent\"])"
   ]
  },
  {
   "cell_type": "code",
   "execution_count": 124,
   "metadata": {},
   "outputs": [
    {
     "name": "stdout",
     "output_type": "stream",
     "text": [
      "relcl 8963 0.017926\n",
      "pp 76708 0.153416\n",
      "depp 10091 0.020182\n",
      "dj 1746 0.003492\n",
      "agree 134362 0.268724\n",
      "cor_agree 107417 0.214834\n",
      "vplural 34695 0.06939\n",
      "vsingular 209496 0.418992\n",
      "dj_pl 243 0.000486\n",
      "dj_sg 679 0.001358\n",
      "total_subj-verb 658173 1.316346\n",
      "total_sent 500000 1.0\n"
     ]
    }
   ],
   "source": [
    "x = {'relcl': 930, 'pp': 7593, 'depp': 1018, 'dj': 158, 'agree': 12780, 'cor_agree': 8709, 'total_subj-verb': 65726, 'total_sent': 50000}\n",
    "\n",
    "for key, value in wiki.items():\n",
    "    print(key, value, value/wiki[\"total_sent\"])"
   ]
  },
  {
   "cell_type": "code",
   "execution_count": null,
   "metadata": {},
   "outputs": [],
   "source": []
  }
 ],
 "metadata": {
  "kernelspec": {
   "display_name": "Python 3 (ipykernel)",
   "language": "python",
   "name": "python3"
  },
  "language_info": {
   "codemirror_mode": {
    "name": "ipython",
    "version": 3
   },
   "file_extension": ".py",
   "mimetype": "text/x-python",
   "name": "python",
   "nbconvert_exporter": "python",
   "pygments_lexer": "ipython3",
   "version": "3.10.2"
  }
 },
 "nbformat": 4,
 "nbformat_minor": 2
}
